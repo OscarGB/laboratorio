{
 "cells": [
  {
   "cell_type": "markdown",
   "metadata": {},
   "source": [
    "## EJERCICIO 1"
   ]
  },
  {
   "cell_type": "markdown",
   "metadata": {},
   "source": [
    "### a)"
   ]
  },
  {
   "cell_type": "code",
   "execution_count": 91,
   "metadata": {
    "collapsed": false
   },
   "outputs": [],
   "source": [
    "def divisores(n):\n",
    "    L = []\n",
    "    for i in srange(1, n+1):\n",
    "        if n%i == 0:\n",
    "            L.append(i)\n",
    "    return L\n",
    "def perfecto(n):\n",
    "    var('res')\n",
    "    res = 1\n",
    "    res = prod(divisores(n))\n",
    "    if res == n^2:\n",
    "        return True\n",
    "    else:\n",
    "        return False\n",
    "    "
   ]
  },
  {
   "cell_type": "code",
   "execution_count": 92,
   "metadata": {
    "collapsed": false
   },
   "outputs": [
    {
     "data": {
      "text/plain": [
       "False"
      ]
     },
     "execution_count": 92,
     "metadata": {},
     "output_type": "execute_result"
    }
   ],
   "source": [
    "perfecto(12)"
   ]
  },
  {
   "cell_type": "code",
   "execution_count": 93,
   "metadata": {
    "collapsed": false
   },
   "outputs": [],
   "source": [
    "def perfectos(N):\n",
    "    L = []\n",
    "    for i in srange(1, N + 1):\n",
    "        if perfecto(i) == True:\n",
    "            L.append(i)\n",
    "    return L"
   ]
  },
  {
   "cell_type": "code",
   "execution_count": 86,
   "metadata": {
    "collapsed": false
   },
   "outputs": [
    {
     "data": {
      "text/plain": [
       "[1,\n",
       " 6,\n",
       " 8,\n",
       " 10,\n",
       " 14,\n",
       " 15,\n",
       " 21,\n",
       " 22,\n",
       " 26,\n",
       " 27,\n",
       " 33,\n",
       " 34,\n",
       " 35,\n",
       " 38,\n",
       " 39,\n",
       " 46,\n",
       " 51,\n",
       " 55,\n",
       " 57,\n",
       " 58,\n",
       " 62,\n",
       " 65,\n",
       " 69,\n",
       " 74,\n",
       " 77,\n",
       " 82,\n",
       " 85,\n",
       " 86,\n",
       " 87,\n",
       " 91,\n",
       " 93,\n",
       " 94,\n",
       " 95]"
      ]
     },
     "execution_count": 86,
     "metadata": {},
     "output_type": "execute_result"
    }
   ],
   "source": [
    "perfectos(100)"
   ]
  },
  {
   "cell_type": "markdown",
   "metadata": {},
   "source": []
  },
  {
   "cell_type": "code",
   "execution_count": 42,
   "metadata": {
    "collapsed": false
   },
   "outputs": [],
   "source": [
    "def es_perfecto(p):\n",
    "    for x in prime_range(p):\n",
    "        for y in prime_range(p):\n",
    "            if p == x**2 * y:\n",
    "                return True\n",
    "    return False\n",
    "\n",
    "def hipotesis_perfectos(N):\n",
    "    L = []\n",
    "    for i in srange(1, N):\n",
    "        if es_perfecto(i) == True:\n",
    "            L.append(i)\n",
    "    return L\n",
    "\n",
    "def comprobar(N):\n",
    "    L = hipotesis_perfectos(N)\n",
    "    P = perfectos(N)\n",
    "    R = []\n",
    "    if len(P) != len(L):\n",
    "        return False\n",
    "    for i in srange(0, len(L)-1):\n",
    "        if L[i] == P[i]:\n",
    "            R.append(True)\n",
    "        else:\n",
    "            R.append(False)\n",
    "    return R\n",
    "        "
   ]
  },
  {
   "cell_type": "code",
   "execution_count": 43,
   "metadata": {
    "collapsed": false
   },
   "outputs": [
    {
     "data": {
      "text/plain": [
       "[8, 12, 18, 20, 27, 28, 44, 45, 50, 52, 63, 68, 75, 76, 92, 98, 99]"
      ]
     },
     "execution_count": 43,
     "metadata": {},
     "output_type": "execute_result"
    }
   ],
   "source": [
    "hipotesis_perfectos(100)"
   ]
  },
  {
   "cell_type": "code",
   "execution_count": 44,
   "metadata": {
    "collapsed": false
   },
   "outputs": [
    {
     "data": {
      "text/plain": [
       "[1, 12, 18, 20, 28, 32, 44, 45, 50, 52, 63, 68, 75, 76, 92, 98, 99]"
      ]
     },
     "execution_count": 44,
     "metadata": {},
     "output_type": "execute_result"
    }
   ],
   "source": [
    "perfectos(100)"
   ]
  },
  {
   "cell_type": "code",
   "execution_count": 59,
   "metadata": {
    "collapsed": false
   },
   "outputs": [],
   "source": [
    "def perf(n):\n",
    "    if prod(divisors(n)) == n^2:\n",
    "        return True\n",
    "    else:\n",
    "        return False\n",
    "    \n",
    "def perfs(N):\n",
    "    L = []\n",
    "    for i in srange(1, N+1):\n",
    "        if perf(i):\n",
    "            L.append(i)\n",
    "    return L"
   ]
  },
  {
   "cell_type": "code",
   "execution_count": 60,
   "metadata": {
    "collapsed": false
   },
   "outputs": [
    {
     "data": {
      "text/plain": [
       "[1,\n",
       " 6,\n",
       " 8,\n",
       " 10,\n",
       " 14,\n",
       " 15,\n",
       " 21,\n",
       " 22,\n",
       " 26,\n",
       " 27,\n",
       " 33,\n",
       " 34,\n",
       " 35,\n",
       " 38,\n",
       " 39,\n",
       " 46,\n",
       " 51,\n",
       " 55,\n",
       " 57,\n",
       " 58,\n",
       " 62,\n",
       " 65,\n",
       " 69,\n",
       " 74,\n",
       " 77,\n",
       " 82,\n",
       " 85,\n",
       " 86,\n",
       " 87,\n",
       " 91,\n",
       " 93,\n",
       " 94,\n",
       " 95]"
      ]
     },
     "execution_count": 60,
     "metadata": {},
     "output_type": "execute_result"
    }
   ],
   "source": [
    "perfs(100)"
   ]
  },
  {
   "cell_type": "code",
   "execution_count": 90,
   "metadata": {
    "collapsed": false
   },
   "outputs": [
    {
     "data": {
      "text/plain": [
       "[1, 2, 4, 5, 10, 20]"
      ]
     },
     "execution_count": 90,
     "metadata": {},
     "output_type": "execute_result"
    }
   ],
   "source": [
    "divisores(20)"
   ]
  },
  {
   "cell_type": "code",
   "execution_count": 1,
   "metadata": {
    "collapsed": true
   },
   "outputs": [],
   "source": [
    "L = [3, 2, 5, 1, 6]\n",
    "L.sort()"
   ]
  },
  {
   "cell_type": "code",
   "execution_count": 2,
   "metadata": {
    "collapsed": false
   },
   "outputs": [
    {
     "data": {
      "text/plain": [
       "[1, 2, 3, 5, 6]"
      ]
     },
     "execution_count": 2,
     "metadata": {},
     "output_type": "execute_result"
    }
   ],
   "source": [
    "L"
   ]
  },
  {
   "cell_type": "code",
   "execution_count": 4,
   "metadata": {
    "collapsed": false
   },
   "outputs": [
    {
     "data": {
      "text/plain": [
       "True"
      ]
     },
     "execution_count": 4,
     "metadata": {},
     "output_type": "execute_result"
    }
   ],
   "source": [
    "1 in L"
   ]
  },
  {
   "cell_type": "code",
   "execution_count": 5,
   "metadata": {
    "collapsed": true
   },
   "outputs": [],
   "source": [
    "def raices(m, k):\n",
    "    L = []\n",
    "    for a in (0, m-1):\n",
    "        if a^k % m == 0:\n",
    "            L.append(True)\n",
    "        else:\n",
    "            return False"
   ]
  },
  {
   "cell_type": "code",
   "execution_count": 7,
   "metadata": {
    "collapsed": false
   },
   "outputs": [
    {
     "data": {
      "text/plain": [
       "False"
      ]
     },
     "execution_count": 7,
     "metadata": {},
     "output_type": "execute_result"
    }
   ],
   "source": [
    "raices(5, 5)"
   ]
  },
  {
   "cell_type": "code",
   "execution_count": null,
   "metadata": {
    "collapsed": true
   },
   "outputs": [],
   "source": []
  }
 ],
 "metadata": {
  "kernelspec": {
   "display_name": "SageMath 7.2",
   "language": "",
   "name": "sagemath"
  },
  "language_info": {
   "codemirror_mode": {
    "name": "ipython",
    "version": 2
   },
   "file_extension": ".py",
   "mimetype": "text/x-python",
   "name": "python",
   "nbconvert_exporter": "python",
   "pygments_lexer": "ipython2",
   "version": "2.7.10"
  }
 },
 "nbformat": 4,
 "nbformat_minor": 0
}
