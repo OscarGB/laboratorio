{
 "cells": [
  {
   "cell_type": "markdown",
   "metadata": {},
   "source": [
    "## CIFRADO DE CÉSAR"
   ]
  },
  {
   "cell_type": "markdown",
   "metadata": {},
   "source": [
    "### Codificación"
   ]
  },
  {
   "cell_type": "code",
   "execution_count": 12,
   "metadata": {
    "collapsed": true
   },
   "outputs": [],
   "source": [
    "L_alfb = \"ABCDEFGHIJKLMNOPQRSTUVWXYZ\" #Caracteres permitidos"
   ]
  },
  {
   "cell_type": "code",
   "execution_count": 5,
   "metadata": {
    "collapsed": false
   },
   "outputs": [
    {
     "data": {
      "text/plain": [
       "26"
      ]
     },
     "execution_count": 5,
     "metadata": {},
     "output_type": "execute_result"
    }
   ],
   "source": [
    "len(alfb)"
   ]
  },
  {
   "cell_type": "code",
   "execution_count": 25,
   "metadata": {
    "collapsed": true
   },
   "outputs": [],
   "source": [
    "def codif(s):\n",
    "    return alfb.index(s)"
   ]
  },
  {
   "cell_type": "code",
   "execution_count": 26,
   "metadata": {
    "collapsed": true
   },
   "outputs": [],
   "source": [
    "def decodif(s):\n",
    "    return alfb[s]"
   ]
  },
  {
   "cell_type": "code",
   "execution_count": 27,
   "metadata": {
    "collapsed": false
   },
   "outputs": [],
   "source": [
    " L = map(codif, [x for x in L_alfb])"
   ]
  },
  {
   "cell_type": "code",
   "execution_count": 28,
   "metadata": {
    "collapsed": false
   },
   "outputs": [
    {
     "data": {
      "text/plain": [
       "['A',\n",
       " 'B',\n",
       " 'C',\n",
       " 'D',\n",
       " 'E',\n",
       " 'F',\n",
       " 'G',\n",
       " 'H',\n",
       " 'I',\n",
       " 'J',\n",
       " 'K',\n",
       " 'L',\n",
       " 'M',\n",
       " 'N',\n",
       " 'O',\n",
       " 'P',\n",
       " 'Q',\n",
       " 'R',\n",
       " 'S',\n",
       " 'T',\n",
       " 'U',\n",
       " 'V',\n",
       " 'W',\n",
       " 'X',\n",
       " 'Y',\n",
       " 'Z']"
      ]
     },
     "execution_count": 28,
     "metadata": {},
     "output_type": "execute_result"
    }
   ],
   "source": [
    "map(decodif, [x for x in L])"
   ]
  },
  {
   "cell_type": "markdown",
   "metadata": {},
   "source": [
    "### Cifrado"
   ]
  },
  {
   "cell_type": "code",
   "execution_count": 29,
   "metadata": {
    "collapsed": true
   },
   "outputs": [],
   "source": [
    "from string import * ##Hace falta para que funcione join\n",
    "def limpiar(texto,alfb):\n",
    "    '''Dejamos en el texto solo los caracteres de alf. '''\n",
    "    L = [x.capitalize() for x in list(texto)] #Cambiamos el texto a mayusculas\n",
    "    L1 = [car for car in L if car in alfb] #Se queda sólo con los caracteres en alfb\n",
    "    C1 = join(L1,sep = \"\")\n",
    "    return C1"
   ]
  },
  {
   "cell_type": "code",
   "execution_count": 33,
   "metadata": {
    "collapsed": true
   },
   "outputs": [],
   "source": [
    "def cifrado(m, key):\n",
    "    M = limpiar(m, L_alfb)\n",
    "    L = map(codif, [x for x in M])\n",
    "    C = [(x + key) % 26 for x in L]\n",
    "    Mc = map(decodif, [x for x in C])\n",
    "    \n",
    "    return Mc"
   ]
  },
  {
   "cell_type": "code",
   "execution_count": 37,
   "metadata": {
    "collapsed": true
   },
   "outputs": [],
   "source": [
    "def descifrado(m, key):\n",
    "    return cifrado(m, 26 - key)"
   ]
  },
  {
   "cell_type": "code",
   "execution_count": 38,
   "metadata": {
    "collapsed": true
   },
   "outputs": [],
   "source": [
    "m = \"Hola me llamo nacho, como estas\""
   ]
  },
  {
   "cell_type": "code",
   "execution_count": 40,
   "metadata": {
    "collapsed": false
   },
   "outputs": [],
   "source": [
    "c = cifrado(m, 7)"
   ]
  },
  {
   "cell_type": "code",
   "execution_count": 41,
   "metadata": {
    "collapsed": false
   },
   "outputs": [
    {
     "data": {
      "text/plain": [
       "['H',\n",
       " 'O',\n",
       " 'L',\n",
       " 'A',\n",
       " 'M',\n",
       " 'E',\n",
       " 'L',\n",
       " 'L',\n",
       " 'A',\n",
       " 'M',\n",
       " 'O',\n",
       " 'N',\n",
       " 'A',\n",
       " 'C',\n",
       " 'H',\n",
       " 'O',\n",
       " 'C',\n",
       " 'O',\n",
       " 'M',\n",
       " 'O',\n",
       " 'E',\n",
       " 'S',\n",
       " 'T',\n",
       " 'A',\n",
       " 'S']"
      ]
     },
     "execution_count": 41,
     "metadata": {},
     "output_type": "execute_result"
    }
   ],
   "source": [
    "descifrado(c, 7)"
   ]
  },
  {
   "cell_type": "code",
   "execution_count": 53,
   "metadata": {
    "collapsed": false
   },
   "outputs": [
    {
     "data": {
      "text/plain": [
       "[4, 1]"
      ]
     },
     "execution_count": 53,
     "metadata": {},
     "output_type": "execute_result"
    }
   ],
   "source": [
    "sample([1,4], 2)"
   ]
  },
  {
   "cell_type": "code",
   "execution_count": 105,
   "metadata": {
    "collapsed": false
   },
   "outputs": [],
   "source": [
    "A = [1,0]\n",
    "L = [sample(A, 1)[0] for x in [0..10**6]];\n",
    "LT = [L1 + L2 + L3 + L4 + L5 + L6 + L7 + L8 + L9 + L10]\n",
    "L1 = L[0:((10**5)-1)]\n",
    "L2 = L[10**5:(2*10**5-1)]\n",
    "L3 = L[2*10**5:(3*10**5-1)]\n",
    "L4 = L[3*10**5:(4*10**5-1)]\n",
    "L5 = L[4*10**5:(5*10**5-1)]\n",
    "L6 = L[5*10**5:(6*10**5-1)]\n",
    "L7 = L[6*10**5:(7*10**5-1)]\n",
    "L8 = L[7*10**5:(8*10**5-1)]\n",
    "L9 = L[8*10**5:(9*10**5-1)]\n",
    "L10 = L[9*10**5:(10*10**5-1)]\n"
   ]
  },
  {
   "cell_type": "code",
   "execution_count": null,
   "metadata": {
    "collapsed": false
   },
   "outputs": [],
   "source": [
    "T = []\n",
    "for x in [0..len(LT[0])-1]:\n",
    "    if LT[0][x] == L[x]:\n",
    "        T.append([x, 'T'])\n",
    "    else:\n",
    "        T.append([x, 'oooo'])\n",
    "\n",
    "T"
   ]
  },
  {
   "cell_type": "code",
   "execution_count": 112,
   "metadata": {
    "collapsed": false
   },
   "outputs": [
    {
     "data": {
      "text/plain": [
       "999990"
      ]
     },
     "execution_count": 112,
     "metadata": {},
     "output_type": "execute_result"
    }
   ],
   "source": [
    "len(LT[0])"
   ]
  },
  {
   "cell_type": "code",
   "execution_count": 11,
   "metadata": {
    "collapsed": false
   },
   "outputs": [
    {
     "data": {
      "text/plain": [
       "[0, 0, 0, 0, 0, 0, 1, 0, 1, 0]"
      ]
     },
     "execution_count": 11,
     "metadata": {},
     "output_type": "execute_result"
    }
   ],
   "source": [
    "L = ZZ(10).digits(base=2,padto=10)\n",
    "L.reverse()\n",
    "L"
   ]
  },
  {
   "cell_type": "markdown",
   "metadata": {},
   "source": [
    "## ONE TIME PAD"
   ]
  },
  {
   "cell_type": "code",
   "execution_count": 12,
   "metadata": {
    "collapsed": true
   },
   "outputs": [],
   "source": [
    "alfabeto = 'ABCDEFGHIJKLMNOPQRSTUVWXYZ:;,#$@'"
   ]
  },
  {
   "cell_type": "code",
   "execution_count": 13,
   "metadata": {
    "collapsed": true
   },
   "outputs": [],
   "source": [
    "texto = 'THROUGHTHEUSEOFABSTRACTIONANDLOGICALREASONINGMATHEMATICSDEVELOPEDFROMCO\\\n",
    "UNTINGCALCULATIONMEASUREMENTANDTHESYSTEMATICSTUDYOFTHESHAPESANDMOTIONSOF\\\n",
    "PHYSICALOBJECTSPRACTICALMATHEMATICSHASBEENAHUMANACTIVITYFORASFARBACKASWR\\\n",
    "ITTENRECORDSEXISTRIGOROUSARGUMENTSFIRSTAPPEAREDINGREEKMATHEMATICSMOSTNOT\\\n",
    "ABLYINEUCLIDSELEMENTSMATHEMATICSDEVELOPEDATARELATIVELYSLOWPACEUNTILTHERE\\\n",
    "NAISSANCEWHENMATHEMATICALINNOVATIONSINTERACTINGWITHNEWSCIENTIFICDISCOVER\\\n",
    "IESLEDTOARAPIDINCREASEINTHERATEOFMATHEMATICALDISCOVERYTHATCONTINUESTOTHE\\\n",
    "PRESENTDAY'"
   ]
  },
  {
   "cell_type": "markdown",
   "metadata": {},
   "source": [
    "### CODIFICACIÓN"
   ]
  },
  {
   "cell_type": "code",
   "execution_count": 5,
   "metadata": {
    "collapsed": true
   },
   "outputs": [],
   "source": [
    "c = [randint(0,1) for muda in xrange(10^6)]"
   ]
  },
  {
   "cell_type": "markdown",
   "metadata": {},
   "source": [
    "Ahora vamos a sumar los unos y ceros de cada intervalo de tamaño 10^5 para así ver si se aproxima a la mitad, y poder analizar la aleatoriedad del algoritmo de la función randint()"
   ]
  },
  {
   "cell_type": "code",
   "execution_count": 6,
   "metadata": {
    "collapsed": false
   },
   "outputs": [
    {
     "data": {
      "text/plain": [
       "[53, 71, 169, 59, 76, 46, 94, 23, 49, 36]"
      ]
     },
     "execution_count": 6,
     "metadata": {},
     "output_type": "execute_result"
    }
   ],
   "source": [
    "[abs(sum(c[k*10**5:(k+1)*10**5]) - 10**5 / 2) for k in xrange(10)]"
   ]
  },
  {
   "cell_type": "code",
   "execution_count": 7,
   "metadata": {
    "collapsed": true
   },
   "outputs": [],
   "source": [
    "def cadena(L):\n",
    "    C = ''\n",
    "    for item in L:\n",
    "        C += str(item)\n",
    "    return C"
   ]
  },
  {
   "cell_type": "code",
   "execution_count": 8,
   "metadata": {
    "collapsed": false
   },
   "outputs": [],
   "source": [
    "clave = cadena(c)"
   ]
  },
  {
   "cell_type": "code",
   "execution_count": 9,
   "metadata": {
    "collapsed": true
   },
   "outputs": [],
   "source": [
    "def ord2(char):\n",
    "    return alfabeto.index(char)\n",
    "def char2(code):\n",
    "    return alfabeto[code]"
   ]
  },
  {
   "cell_type": "code",
   "execution_count": 10,
   "metadata": {
    "collapsed": true
   },
   "outputs": [],
   "source": [
    "def codificar(texto):\n",
    "    C = ''\n",
    "    for char in texto:\n",
    "        ch = ZZ(ord2(char)).digits(base=2,padto=5)\n",
    "        ch.reverse()\n",
    "        C += cadena(ch)\n",
    "    return C\n",
    "def descodificar(texto_e):\n",
    "    texto_d = ''\n",
    "    if len(texto_e) == 0:\n",
    "        return texto_d\n",
    "    texto_dp = descodificar(texto_e[5:])\n",
    "    return char2(ZZ(texto_e[:5],base=2))+texto_dp\n",
    "    "
   ]
  },
  {
   "cell_type": "code",
   "execution_count": 22,
   "metadata": {
    "collapsed": false
   },
   "outputs": [
    {
     "data": {
      "text/plain": [
       "'100110011110001011101010000110001111001100111001001010010010001000111000101000000000110010100111000100000000101001101000011100110100000011010001101011011100011001000000100000001011100010010000000100100111001101010000110100110011000000010011001110010001100000001001101000000101001000011001001010100100010110111001111001000001100101100010111001100000100111010100011011001101000011010011000010000000101100010101000101100000100110100001110011010110000100000001001010100100010010001100001000110110011000000110100011100110011100100100101100010010100110010001100000001001101000000101001010011101000001111000011100010110011001110010010010001110000001111001001001000000011010001101100011101001101000011100110110010011100010101111001111100010010010000001000000010110111000001010010010000010100111001001111100010000000010100110100000010000000101101100000001001100111001000110000000100110100000010100100011100000100100000100100001000110100000001111010001100000000110100000000101001101000101010100010011110000010101110100010000010010001010000010001000010000000010010100000010010101101000101000100111001100100011011000100100000100111010001000111001000100101110100010010100111000101000001100111010001011101010010010000001000100110101000110000100011011001110010001010100010001100101001100000011110111100100000001000100100000110100001101001101000100100001000101001100000001001100111001000110000000100110100000010100100110001110100101001101101011101001100000000010101111000010000110100100101000001001011010000001110010001000101100100011000010001101100111001001100000001001100111001000110000000100110100000010100100001100100101010010001011011100111100100000110000010011000001000100100010110000010011010001010100100010111100010010010110111010110011110000000010001001010001101100110100001011100110011100100100010010001101000000100010010100100000001101000100010010110001110010001101011000000010011001110010001100000001001101000000100000001011010000110101101011101010100000100110100001110011011001001000011011001100100100010000000010100110100001101001101011001000100110011101101001001011010010000100100000100011011001101000001010100000010000110100010010000100111010101001001000101000001001001001011001000001110011011100000010001000000111101000000110100001101000101000100100000001001000100010000110110011001110010010001000001001100100011100010101100000001001100111001000110000000100110100000010000000101100011010001001000010011101010100100100011100010011001110000010011000100111001101100110100001101101000010010010100110111010011001110010001111100010010010010001000110110011000110000011000'"
      ]
     },
     "execution_count": 22,
     "metadata": {},
     "output_type": "execute_result"
    }
   ],
   "source": [
    "N = codificar(texto)\n",
    "N"
   ]
  },
  {
   "cell_type": "code",
   "execution_count": 16,
   "metadata": {
    "collapsed": false
   },
   "outputs": [
    {
     "data": {
      "text/plain": [
       "'THROUGHTHEUSEOFABSTRACTIONANDLOGICALREASONINGMATHEMATICSDEVELOPEDFROMCOUNTINGCALCULATIONMEASUREMENTANDTHESYSTEMATICSTUDYOFTHESHAPESANDMOTIONSOFPHYSICALOBJECTSPRACTICALMATHEMATICSHASBEENAHUMANACTIVITYFORASFARBACKASWRITTENRECORDSEXISTRIGOROUSARGUMENTSFIRSTAPPEAREDINGREEKMATHEMATICSMOSTNOTABLYINEUCLIDSELEMENTSMATHEMATICSDEVELOPEDATARELATIVELYSLOWPACEUNTILTHERENAISSANCEWHENMATHEMATICALINNOVATIONSINTERACTINGWITHNEWSCIENTIFICDISCOVERIESLEDTOARAPIDINCREASEINTHERATEOFMATHEMATICALDISCOVERYTHATCONTINUESTOTHEPRESENTDAY'"
      ]
     },
     "execution_count": 16,
     "metadata": {},
     "output_type": "execute_result"
    }
   ],
   "source": [
    "descodificar(N)"
   ]
  },
  {
   "cell_type": "markdown",
   "metadata": {},
   "source": [
    "### Encriptar"
   ]
  },
  {
   "cell_type": "code",
   "execution_count": 45,
   "metadata": {
    "collapsed": false
   },
   "outputs": [],
   "source": [
    "def suma(a, b):\n",
    "    if (a == '1' and b == '1') or (a == '0' and b == '0'):\n",
    "        return '0'\n",
    "    else:\n",
    "        return '1'"
   ]
  },
  {
   "cell_type": "code",
   "execution_count": 52,
   "metadata": {
    "collapsed": false
   },
   "outputs": [],
   "source": [
    "def encriptar(coded, clave):\n",
    "    te = ''\n",
    "    for int in srange(len(coded)):\n",
    "        te += suma(coded[int], clave[int])\n",
    "   \n",
    "    return te\n",
    "def desencriptar(cypher, clave):\n",
    "    return descodificar(encriptar(cypher, clave))"
   ]
  },
  {
   "cell_type": "code",
   "execution_count": 53,
   "metadata": {
    "collapsed": false
   },
   "outputs": [],
   "source": [
    "cypher = encriptar(N, clave)"
   ]
  },
  {
   "cell_type": "code",
   "execution_count": 54,
   "metadata": {
    "collapsed": false
   },
   "outputs": [
    {
     "data": {
      "text/plain": [
       "'THROUGHTHEUSEOFABSTRACTIONANDLOGICALREASONINGMATHEMATICSDEVELOPEDFROMCOUNTINGCALCULATIONMEASUREMENTANDTHESYSTEMATICSTUDYOFTHESHAPESANDMOTIONSOFPHYSICALOBJECTSPRACTICALMATHEMATICSHASBEENAHUMANACTIVITYFORASFARBACKASWRITTENRECORDSEXISTRIGOROUSARGUMENTSFIRSTAPPEAREDINGREEKMATHEMATICSMOSTNOTABLYINEUCLIDSELEMENTSMATHEMATICSDEVELOPEDATARELATIVELYSLOWPACEUNTILTHERENAISSANCEWHENMATHEMATICALINNOVATIONSINTERACTINGWITHNEWSCIENTIFICDISCOVERIESLEDTOARAPIDINCREASEINTHERATEOFMATHEMATICALDISCOVERYTHATCONTINUESTOTHEPRESENTDAY'"
      ]
     },
     "execution_count": 54,
     "metadata": {},
     "output_type": "execute_result"
    }
   ],
   "source": [
    "desencriptar(cypher, clave)"
   ]
  },
  {
   "cell_type": "code",
   "execution_count": null,
   "metadata": {
    "collapsed": true
   },
   "outputs": [],
   "source": []
  }
 ],
 "metadata": {
  "kernelspec": {
   "display_name": "SageMath 7.2",
   "language": "",
   "name": "sagemath"
  },
  "language_info": {
   "codemirror_mode": {
    "name": "ipython",
    "version": 2
   },
   "file_extension": ".py",
   "mimetype": "text/x-python",
   "name": "python",
   "nbconvert_exporter": "python",
   "pygments_lexer": "ipython2",
   "version": "2.7.10"
  }
 },
 "nbformat": 4,
 "nbformat_minor": 0
}
