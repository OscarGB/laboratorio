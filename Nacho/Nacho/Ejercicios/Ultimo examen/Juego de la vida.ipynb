{
 "cells": [
  {
   "cell_type": "code",
   "execution_count": 4,
   "metadata": {
    "collapsed": false
   },
   "outputs": [],
   "source": [
    "def vecinos(n, m, A):\n",
    "    L = []\n",
    "    filas = len(A)\n",
    "    columnas = len(A[0])\n",
    "    for i in [-1..1]:\n",
    "        for j in [-1..1]:\n",
    "            x = (n+i)%filas\n",
    "            y = (m+j)%columnas\n",
    "            if x!=n or y != m:\n",
    "                L.append(A[x][y])\n",
    "    return L"
   ]
  },
  {
   "cell_type": "code",
   "execution_count": 6,
   "metadata": {
    "collapsed": false
   },
   "outputs": [],
   "source": [
    "import copy\n",
    "def siguiente(A):\n",
    "    M = copy.deepcopy(A)\n",
    "    for i in [0..len(A)-1]:\n",
    "        for j in [0..len(A)-1]:\n",
    "            suma = sum(vecinos(i,j,M))\n",
    "            if M[i][j] == 1:\n",
    "                if suma < 2 or suma > 3:\n",
    "                    A[i][j] = 0\n",
    "                else:\n",
    "                    A[i][j] = 1\n",
    "            elif suma == 3:\n",
    "                A[i][j] = 1\n",
    "            else:\n",
    "                A[i][j] = 0\n",
    "    return matrix(A)"
   ]
  },
  {
   "cell_type": "code",
   "execution_count": 8,
   "metadata": {
    "collapsed": true
   },
   "outputs": [],
   "source": [
    "def itera_hasta(siguiente,M,T):\n",
    "    L = []\n",
    "    for i in [1..T]:\n",
    "        L.append(siguiente(M))\n",
    "    return L"
   ]
  },
  {
   "cell_type": "code",
   "execution_count": 14,
   "metadata": {
    "collapsed": false
   },
   "outputs": [],
   "source": [
    "A = [[randint(0,1) for i in [1..100]] for i in [1..100]]\n",
    "v = map(matrix_plot,itera_hasta(siguiente,A,100))\n",
    "animate(v)\n",
    "a = animate(v)\n",
    "f = tmp_filename(ext='.gif')\n",
    "a.save(filename=f, use_ffmpeg=True)"
   ]
  },
  {
   "cell_type": "code",
   "execution_count": 15,
   "metadata": {
    "collapsed": false
   },
   "outputs": [
    {
     "ename": "IOError",
     "evalue": "[Errno 2] No such file or directory: '/home/nacho/.sage/temp/SuperPC/7999/tmp_TQEuXY.gif.sobj'",
     "output_type": "error",
     "traceback": [
      "\u001b[1;31m---------------------------------------------------------------------------\u001b[0m",
      "\u001b[1;31mIOError\u001b[0m                                   Traceback (most recent call last)",
      "\u001b[1;32m<ipython-input-15-380b29076c71>\u001b[0m in \u001b[0;36m<module>\u001b[1;34m()\u001b[0m\n\u001b[1;32m----> 1\u001b[1;33m \u001b[0mload\u001b[0m\u001b[1;33m(\u001b[0m\u001b[0mf\u001b[0m\u001b[1;33m)\u001b[0m \u001b[1;31m##No funciona. Solo lo uso para ver el directorio\u001b[0m\u001b[1;33m\u001b[0m\u001b[0m\n\u001b[0m",
      "\u001b[1;32m/usr/lib/sagemath/src/sage/structure/sage_object.pyx\u001b[0m in \u001b[0;36msage.structure.sage_object.load (/usr/lib/sagemath//src/build/cythonized/sage/structure/sage_object.c:11594)\u001b[1;34m()\u001b[0m\n\u001b[0;32m   1030\u001b[0m \u001b[1;33m\u001b[0m\u001b[0m\n\u001b[0;32m   1031\u001b[0m     \u001b[1;31m## Load file by absolute filename\u001b[0m\u001b[1;33m\u001b[0m\u001b[1;33m\u001b[0m\u001b[0m\n\u001b[1;32m-> 1032\u001b[1;33m     \u001b[0mX\u001b[0m \u001b[1;33m=\u001b[0m \u001b[0mloads\u001b[0m\u001b[1;33m(\u001b[0m\u001b[0mopen\u001b[0m\u001b[1;33m(\u001b[0m\u001b[0mfilename\u001b[0m\u001b[1;33m)\u001b[0m\u001b[1;33m.\u001b[0m\u001b[0mread\u001b[0m\u001b[1;33m(\u001b[0m\u001b[1;33m)\u001b[0m\u001b[1;33m,\u001b[0m \u001b[0mcompress\u001b[0m\u001b[1;33m=\u001b[0m\u001b[0mcompress\u001b[0m\u001b[1;33m)\u001b[0m\u001b[1;33m\u001b[0m\u001b[0m\n\u001b[0m\u001b[0;32m   1033\u001b[0m     \u001b[1;32mtry\u001b[0m\u001b[1;33m:\u001b[0m\u001b[1;33m\u001b[0m\u001b[0m\n\u001b[0;32m   1034\u001b[0m         \u001b[0mX\u001b[0m\u001b[1;33m.\u001b[0m\u001b[0m_default_filename\u001b[0m \u001b[1;33m=\u001b[0m \u001b[0mos\u001b[0m\u001b[1;33m.\u001b[0m\u001b[0mpath\u001b[0m\u001b[1;33m.\u001b[0m\u001b[0mabspath\u001b[0m\u001b[1;33m(\u001b[0m\u001b[0mfilename\u001b[0m\u001b[1;33m)\u001b[0m\u001b[1;33m\u001b[0m\u001b[0m\n",
      "\u001b[1;31mIOError\u001b[0m: [Errno 2] No such file or directory: '/home/nacho/.sage/temp/SuperPC/7999/tmp_TQEuXY.gif.sobj'"
     ]
    }
   ],
   "source": [
    "load(f) ##No funciona. Solo lo uso para ver el directorio"
   ]
  },
  {
   "cell_type": "code",
   "execution_count": null,
   "metadata": {
    "collapsed": true
   },
   "outputs": [],
   "source": []
  }
 ],
 "metadata": {
  "kernelspec": {
   "display_name": "SageMath 7.2",
   "language": "",
   "name": "sagemath"
  },
  "language_info": {
   "codemirror_mode": {
    "name": "ipython",
    "version": 2
   },
   "file_extension": ".py",
   "mimetype": "text/x-python",
   "name": "python",
   "nbconvert_exporter": "python",
   "pygments_lexer": "ipython2",
   "version": "2.7.10"
  }
 },
 "nbformat": 4,
 "nbformat_minor": 0
}
