{
 "cells": [
  {
   "cell_type": "code",
   "execution_count": 55,
   "metadata": {
    "collapsed": true
   },
   "outputs": [],
   "source": [
    "nodos_visitados = [(0,0)]\n",
    "nodos_alcanzados = [(0,0)]"
   ]
  },
  {
   "cell_type": "code",
   "execution_count": 39,
   "metadata": {
    "collapsed": true
   },
   "outputs": [],
   "source": [
    "def moneda_trucada(p):\n",
    "    x = random()\n",
    "    if x <= p:\n",
    "        return 1\n",
    "    else:\n",
    "        return 0"
   ]
  },
  {
   "cell_type": "code",
   "execution_count": 113,
   "metadata": {
    "collapsed": false
   },
   "outputs": [],
   "source": [
    "def vecinos(p):\n",
    "    L = []\n",
    "    for i in [-1,1]:\n",
    "        L.append((p[0]-i, p[1]))\n",
    "        L.append((p[0], p[1]-i))\n",
    "    return L ## Devuelve los vecinos en sentido antihorario, \n",
    "            ## empezando por el este"
   ]
  },
  {
   "cell_type": "code",
   "execution_count": 51,
   "metadata": {
    "collapsed": false
   },
   "outputs": [],
   "source": [
    "def modulo(a):\n",
    "    return sqrt(a[0] + a[1])"
   ]
  },
  {
   "cell_type": "code",
   "execution_count": 115,
   "metadata": {
    "collapsed": false
   },
   "outputs": [
    {
     "data": {
      "text/plain": [
       "[(1, 0), (0, 1), (-1, 0), (0, -1)]"
      ]
     },
     "execution_count": 115,
     "metadata": {},
     "output_type": "execute_result"
    }
   ],
   "source": [
    "vecinos((0,0))"
   ]
  },
  {
   "cell_type": "code",
   "execution_count": 179,
   "metadata": {
    "collapsed": true
   },
   "outputs": [],
   "source": [
    "def percolacion(p, nodos_alcanzados, nodos_visitados):\n",
    "    L = []\n",
    "    for punto in nodos_alcanzados:\n",
    "        for vec in vecinos(punto):\n",
    "            if moneda_trucada(p) == 1:\n",
    "                L.append(vec)\n",
    "                if vec not in nodos_visitados:\n",
    "                    nodos_visitados.append(vec)\n",
    "    nodos_alcanzados = L\n",
    "    return nodos_alcanzados"
   ]
  },
  {
   "cell_type": "code",
   "execution_count": 180,
   "metadata": {
    "collapsed": false
   },
   "outputs": [],
   "source": [
    "def percolacion_total(iteraciones, coord_max, p, nodos_alcanzados, nodos_visitados):\n",
    "    num_iter = 0\n",
    "    coord = (0,0)\n",
    "    nodos_alcanzados = [(0,0)]\n",
    "    nodos_visitados = [(0,0)]\n",
    "    while num_iter <= iteraciones:\n",
    "        percolacion(p, nodos_alcanzados, nodos_visitados)\n",
    "        if len(nodos_alcanzados) <= 0:\n",
    "            break ##Termina si no se han alcanzado nodos\n",
    "        num_iter += 1\n",
    "    return nodos_visitados"
   ]
  },
  {
   "cell_type": "code",
   "execution_count": 181,
   "metadata": {
    "collapsed": false
   },
   "outputs": [],
   "source": [
    "a = percolacion_total(30, 100, 0.9, nodos_alcanzados, nodos_visitados)"
   ]
  },
  {
   "cell_type": "code",
   "execution_count": 182,
   "metadata": {
    "collapsed": false
   },
   "outputs": [],
   "source": [
    "nodos_alcanzados = [(0,0)]\n",
    "nodos_visitados = [(0,0)]\n",
    "L = []\n",
    "for punto in nodos_alcanzados:\n",
    "        for vec in vecinos(punto):\n",
    "            if moneda_trucada(0.5) == 1:\n",
    "                nodos_visitados.append(vec)"
   ]
  },
  {
   "cell_type": "code",
   "execution_count": 183,
   "metadata": {
    "collapsed": false
   },
   "outputs": [
    {
     "data": {
      "text/plain": [
       "[(0, 0), (1, 0), (0, 1), (-1, 0), (0, -1)]"
      ]
     },
     "execution_count": 183,
     "metadata": {},
     "output_type": "execute_result"
    }
   ],
   "source": [
    "a"
   ]
  },
  {
   "cell_type": "code",
   "execution_count": 184,
   "metadata": {
    "collapsed": false
   },
   "outputs": [
    {
     "data": {
      "text/plain": [
       "[(0, 0)]"
      ]
     },
     "execution_count": 184,
     "metadata": {},
     "output_type": "execute_result"
    }
   ],
   "source": [
    "nodos_alcanzados"
   ]
  },
  {
   "cell_type": "code",
   "execution_count": 177,
   "metadata": {
    "collapsed": true
   },
   "outputs": [],
   "source": [
    "nodos_alcanzados = a"
   ]
  },
  {
   "cell_type": "code",
   "execution_count": null,
   "metadata": {
    "collapsed": true
   },
   "outputs": [],
   "source": []
  }
 ],
 "metadata": {
  "kernelspec": {
   "display_name": "SageMath 7.2",
   "language": "",
   "name": "sagemath"
  },
  "language_info": {
   "codemirror_mode": {
    "name": "ipython",
    "version": 2
   },
   "file_extension": ".py",
   "mimetype": "text/x-python",
   "name": "python",
   "nbconvert_exporter": "python",
   "pygments_lexer": "ipython2",
   "version": "2.7.10"
  }
 },
 "nbformat": 4,
 "nbformat_minor": 0
}
