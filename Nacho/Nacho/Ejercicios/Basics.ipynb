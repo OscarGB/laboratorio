{
 "cells": [
  {
   "cell_type": "markdown",
   "metadata": {},
   "source": [
    "#    LISTAS Y TUPLAS"
   ]
  },
  {
   "cell_type": "markdown",
   "metadata": {},
   "source": [
    "LISTAS: L=[1,2,3,5,6]\n",
    "TUPLAS: t=(1,2,3,5,6)"
   ]
  },
  {
   "cell_type": "markdown",
   "metadata": {},
   "source": [
    "### TYPE "
   ]
  },
  {
   "cell_type": "markdown",
   "metadata": {},
   "source": [
    "type(L) devuelve el tipo del objeto L"
   ]
  },
  {
   "cell_type": "markdown",
   "metadata": {},
   "source": [
    "###  LEN"
   ]
  },
  {
   "cell_type": "markdown",
   "metadata": {},
   "source": [
    "len(L) devuelve el tamaño de una lista"
   ]
  },
  {
   "cell_type": "markdown",
   "metadata": {},
   "source": [
    "### SRANGE "
   ]
  },
  {
   "cell_type": "markdown",
   "metadata": {},
   "source": [
    "La función srange(a,b,c) devolverá una lista de enteros dentro de [a,b], con intervalos de tamaño c"
   ]
  },
  {
   "cell_type": "markdown",
   "metadata": {},
   "source": [
    "### SORT"
   ]
  },
  {
   "cell_type": "markdown",
   "metadata": {},
   "source": [
    "L.sort(L) ordena la lista L"
   ]
  },
  {
   "cell_type": "markdown",
   "metadata": {},
   "source": [
    "### LIST como método de copiar listas "
   ]
  },
  {
   "cell_type": "markdown",
   "metadata": {},
   "source": [
    "LL = list(L) copia L en la nueva cadena LL"
   ]
  },
  {
   "cell_type": "markdown",
   "metadata": {},
   "source": [
    "### APPEND Y POP"
   ]
  },
  {
   "cell_type": "markdown",
   "metadata": {},
   "source": [
    "L.append(5) /*hace un push del elemento 5*/\n",
    "L.pop() /*pop de la lista dada*/"
   ]
  },
  {
   "cell_type": "markdown",
   "metadata": {},
   "source": [
    "### Creación de listas usando bucles "
   ]
  },
  {
   "cell_type": "markdown",
   "metadata": {},
   "source": [
    "[j² for j in [1...5]] /*genera una lista de cuadrados desde 1 hasta 5²*/"
   ]
  },
  {
   "cell_type": "markdown",
   "metadata": {},
   "source": [
    "### DIGITS y PADTO"
   ]
  },
  {
   "cell_type": "markdown",
   "metadata": {},
   "source": [
    "123.digits() devuelve la lita [3, 2, 1], en la que, de derecha a izquierda, nos encontraremos con potencias en base 10 (123 = 3 + 20 + 100)"
   ]
  },
  {
   "cell_type": "markdown",
   "metadata": {},
   "source": [
    "empleando 123.digits(padto=5) crearemos listas de tamaño 5, añadiendo 0 no significativos para rellenar"
   ]
  },
  {
   "cell_type": "markdown",
   "metadata": {},
   "source": [
    "### SLICE para cortar listas"
   ]
  },
  {
   "cell_type": "markdown",
   "metadata": {},
   "source": [
    "Dado L = [1, 2, 3, 4, 5]\n",
    "Si hacemos sL = L[1:4] obtenemos sL = [2, 3, 4, 5]"
   ]
  },
  {
   "cell_type": "markdown",
   "metadata": {},
   "source": [
    "## Diferencia entre LISTA y TUPLA"
   ]
  },
  {
   "cell_type": "markdown",
   "metadata": {},
   "source": [
    "Una tupla es conceptualmente igual a una lista, pero son inmutables. Es decir, no podemos tocar el contenido de la tupla (al contrario que las listas)"
   ]
  },
  {
   "cell_type": "markdown",
   "metadata": {},
   "source": [
    "# LÍMITES"
   ]
  },
  {
   "cell_type": "markdown",
   "metadata": {},
   "source": [
    "f1.limit(x=+oo) calcula el límite de una función f1 cuando la variable x tiende a infinito"
   ]
  },
  {
   "cell_type": "markdown",
   "metadata": {},
   "source": [
    "Cuando el límite no existe, devuelve und. Si el límite no existe pero está acotado, devuelve ind. Si limit devuelve la definición de la función, es que Sage no es capaz de encontrar ni acotar el límite."
   ]
  },
  {
   "cell_type": "markdown",
   "metadata": {},
   "source": [
    "# SERIES"
   ]
  },
  {
   "cell_type": "markdown",
   "metadata": {},
   "source": [
    "sum(expresion, variable, lim_inferior, lim_superior)"
   ]
  },
  {
   "cell_type": "code",
   "execution_count": 2,
   "metadata": {
    "collapsed": false
   },
   "outputs": [
    {
     "data": {
      "text/html": [
       "<html><script type=\"math/tex; mode=display\">\\newcommand{\\Bold}[1]{\\mathbf{#1}}\\frac{1}{6} \\, \\pi^{2}</script></html>"
      ],
      "text/plain": [
       "1/6*pi^2"
      ]
     },
     "metadata": {},
     "output_type": "display_data"
    }
   ],
   "source": [
    "sum(1/x^2, x, 1, oo).show()"
   ]
  },
  {
   "cell_type": "markdown",
   "metadata": {},
   "source": [
    "# CÁLCULO DIFERENCIAL"
   ]
  },
  {
   "cell_type": "markdown",
   "metadata": {},
   "source": [
    "f.derivative() halla la derivada de la función f siguiendo las normas de derivación"
   ]
  },
  {
   "cell_type": "markdown",
   "metadata": {},
   "source": [
    "# CÁLCULO INTEGRAL"
   ]
  },
  {
   "cell_type": "markdown",
   "metadata": {},
   "source": [
    "f.integrate(x) integra la función f respecto de x\n",
    "f.integrate(x, pi/5, pi/4) integra f entre las cotas pi/5 y pi/4 "
   ]
  },
  {
   "cell_type": "markdown",
   "metadata": {},
   "source": [
    "# ÁLGEBRA LINEAL"
   ]
  },
  {
   "cell_type": "markdown",
   "metadata": {},
   "source": [
    "## Creación de matrices"
   ]
  },
  {
   "cell_type": "code",
   "execution_count": 6,
   "metadata": {
    "collapsed": false
   },
   "outputs": [
    {
     "data": {
      "text/html": [
       "<html><script type=\"math/tex; mode=display\">\\newcommand{\\Bold}[1]{\\mathbf{#1}}\\left(\\begin{array}{rrrrrrrrrr}\n",
       "1 & 2 & 3 & 4 & 5 & 6 & 7 & 8 & 9 & 10 \\\\\n",
       "11 & 12 & 13 & 14 & 15 & 16 & 17 & 18 & 19 & 20 \\\\\n",
       "21 & 22 & 23 & 24 & 25 & 26 & 27 & 28 & 29 & 30 \\\\\n",
       "31 & 32 & 33 & 34 & 35 & 36 & 37 & 38 & 39 & 40 \\\\\n",
       "41 & 42 & 43 & 44 & 45 & 46 & 47 & 48 & 49 & 50 \\\\\n",
       "51 & 52 & 53 & 54 & 55 & 56 & 57 & 58 & 59 & 60 \\\\\n",
       "61 & 62 & 63 & 64 & 65 & 66 & 67 & 68 & 69 & 70 \\\\\n",
       "71 & 72 & 73 & 74 & 75 & 76 & 77 & 78 & 79 & 80 \\\\\n",
       "81 & 82 & 83 & 84 & 85 & 86 & 87 & 88 & 89 & 90 \\\\\n",
       "91 & 92 & 93 & 94 & 95 & 96 & 97 & 98 & 99 & 100\n",
       "\\end{array}\\right)</script></html>"
      ],
      "text/plain": [
       "[  1   2   3   4   5   6   7   8   9  10]\n",
       "[ 11  12  13  14  15  16  17  18  19  20]\n",
       "[ 21  22  23  24  25  26  27  28  29  30]\n",
       "[ 31  32  33  34  35  36  37  38  39  40]\n",
       "[ 41  42  43  44  45  46  47  48  49  50]\n",
       "[ 51  52  53  54  55  56  57  58  59  60]\n",
       "[ 61  62  63  64  65  66  67  68  69  70]\n",
       "[ 71  72  73  74  75  76  77  78  79  80]\n",
       "[ 81  82  83  84  85  86  87  88  89  90]\n",
       "[ 91  92  93  94  95  96  97  98  99 100]"
      ]
     },
     "metadata": {},
     "output_type": "display_data"
    }
   ],
   "source": [
    "A=matrix(ZZ,10,[1..100])\n",
    "show(A)"
   ]
  },
  {
   "cell_type": "code",
   "execution_count": 7,
   "metadata": {
    "collapsed": false
   },
   "outputs": [
    {
     "data": {
      "text/html": [
       "<html><script type=\"math/tex; mode=display\">\\newcommand{\\Bold}[1]{\\mathbf{#1}}\\left(\\begin{array}{rrr}\n",
       "1 & 2 & 3 \\\\\n",
       "4 & 5 & 6\n",
       "\\end{array}\\right)</script></html>"
      ],
      "text/plain": [
       "[1 2 3]\n",
       "[4 5 6]"
      ]
     },
     "metadata": {},
     "output_type": "display_data"
    }
   ],
   "source": [
    "A=matrix([[1,2,3],[4,5,6]])\n",
    "show(A)"
   ]
  },
  {
   "cell_type": "markdown",
   "metadata": {},
   "source": [
    "OPERACIONES CON MATRICES:\n",
    "    A.det() // det(A) /*Determinante de A*/\n",
    "    A.rank() // rank(A)  /*Rango de A*/\n",
    "    A.trace()  /*Traza de A*/\n",
    "    A.inverse()  /*Inversa de A*/\n",
    "    A.adjoint()  /*Adjunta de A*/\n",
    "    A.echelonize()  /*Matriz escalonada de A*/"
   ]
  },
  {
   "cell_type": "markdown",
   "metadata": {},
   "source": [
    "# CADENAS DE CARACTERES"
   ]
  },
  {
   "cell_type": "markdown",
   "metadata": {},
   "source": [
    "C.count('e') /*Devuelve las veces que 'e' aparece en la cadena C*/\n",
    "\n",
    "C.index('e') /*Devuelve la posición de la cadena en la que se encuentra 'e'*/\n",
    "\n",
    "C.split('') /*Trocea una cadena de caracteres separada por espacios ' '*/"
   ]
  },
  {
   "cell_type": "markdown",
   "metadata": {},
   "source": [
    "# FUNCIONES"
   ]
  },
  {
   "cell_type": "markdown",
   "metadata": {},
   "source": [
    "f(x) = sin(x)\n",
    "f(a,b,c) = a + 2*b + c"
   ]
  },
  {
   "cell_type": "markdown",
   "metadata": {},
   "source": [
    "# PLOT"
   ]
  },
  {
   "cell_type": "markdown",
   "metadata": {},
   "source": [
    "plot(f(x), (x, 0, 10)) # Muestra la gráfica para unos valores de x entre 0 y 10"
   ]
  },
  {
   "cell_type": "markdown",
   "metadata": {},
   "source": [
    "# DECLARACIÓN DE VARIABLES"
   ]
  },
  {
   "cell_type": "markdown",
   "metadata": {},
   "source": [
    "La variable 'x' viene predefinida. Las demás se definen de la siguiente manera:\n",
    "\n",
    "var('a b c')"
   ]
  },
  {
   "cell_type": "markdown",
   "metadata": {},
   "source": [
    "# PRINT Y SHOW "
   ]
  },
  {
   "cell_type": "markdown",
   "metadata": {},
   "source": [
    "Suponemos que tenemos las siguientes expresiones:"
   ]
  },
  {
   "cell_type": "markdown",
   "metadata": {},
   "source": [
    "s = a + b + c\n",
    "s2 = a^2 + b^2 + c^2\n",
    "s3 = a^3 + b^3 + c^3\n",
    "s4 = a + b + c + 2*(a + b + c)\n",
    "p = a*b*c"
   ]
  },
  {
   "cell_type": "markdown",
   "metadata": {},
   "source": [
    "### PRINT "
   ]
  },
  {
   "cell_type": "markdown",
   "metadata": {},
   "source": [
    "print s; s2; s3; s4; p /*Imprime las expresiones tal cual han sido definidas*/"
   ]
  },
  {
   "cell_type": "markdown",
   "metadata": {},
   "source": [
    "### SHOW"
   ]
  },
  {
   "cell_type": "markdown",
   "metadata": {},
   "source": [
    "show([s, s2, s3, s4, p]) /*Imprime en formato matemático*/"
   ]
  },
  {
   "cell_type": "markdown",
   "metadata": {},
   "source": [
    "Si empleamos la función $ show(s.expand()) $ obtendremos la función s expandida en monomios"
   ]
  },
  {
   "cell_type": "markdown",
   "metadata": {},
   "source": [
    "Si empleamos la función $ show(s.factor()) $ obtendremos la función s factorizada"
   ]
  },
  {
   "cell_type": "markdown",
   "metadata": {},
   "source": [
    "# SOLVE Y FIND_ROOT"
   ]
  },
  {
   "cell_type": "markdown",
   "metadata": {},
   "source": [
    "### SOLVE"
   ]
  },
  {
   "cell_type": "markdown",
   "metadata": {},
   "source": [
    "solve() /*intenta obtener soluciones exactas en forma de expresión simbólica*/"
   ]
  },
  {
   "cell_type": "markdown",
   "metadata": {},
   "source": [
    "# PROGRAMACIÓN"
   ]
  },
  {
   "cell_type": "markdown",
   "metadata": {},
   "source": [
    "## CONTROL DE FLUJO"
   ]
  },
  {
   "cell_type": "markdown",
   "metadata": {},
   "source": [
    "### Bucle for"
   ]
  },
  {
   "cell_type": "markdown",
   "metadata": {},
   "source": [
    "for <elemento> in <contenedor>:\n",
    "    instruccion 1\n",
    "    instruccion 2\n",
    "    "
   ]
  },
  {
   "cell_type": "markdown",
   "metadata": {},
   "source": [
    "### Condicionales"
   ]
  },
  {
   "cell_type": "markdown",
   "metadata": {},
   "source": [
    "if <condicion 1>:\n",
    "    inst 1\n",
    "    inst 2\n",
    "elif <condicon 2>:\n",
    "    inst 3\n",
    "    inst 4\n",
    "else:\n",
    "    inst 5\n",
    "    inst 6"
   ]
  },
  {
   "cell_type": "markdown",
   "metadata": {},
   "source": [
    "### Bucle while"
   ]
  },
  {
   "cell_type": "markdown",
   "metadata": {},
   "source": [
    "while <condición>:\n",
    "    instr 1\n",
    "    instr 2"
   ]
  }
 ],
 "metadata": {
  "kernelspec": {
   "display_name": "SageMath 7.3",
   "language": "",
   "name": "sagemath"
  },
  "language_info": {
   "codemirror_mode": {
    "name": "ipython",
    "version": 2
   },
   "file_extension": ".py",
   "mimetype": "text/x-python",
   "name": "python",
   "nbconvert_exporter": "python",
   "pygments_lexer": "ipython2",
   "version": "2.7.10"
  }
 },
 "nbformat": 4,
 "nbformat_minor": 0
}
