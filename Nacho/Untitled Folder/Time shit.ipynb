{
 "cells": [
  {
   "cell_type": "code",
   "execution_count": 15,
   "metadata": {
    "collapsed": true
   },
   "outputs": [],
   "source": [
    "def time():\n",
    "    var('j', 'sum', 'time0', 'time1')\n",
    "    sum = 0\n",
    "    time0 = cputime()\n",
    "    for j in xsrange(2**25):\n",
    "        sum += 1\n",
    "    time1 = cputime() - time0\n",
    "    \n",
    "    return time1  \n",
    "    "
   ]
  },
  {
   "cell_type": "code",
   "execution_count": 16,
   "metadata": {
    "collapsed": false
   },
   "outputs": [
    {
     "data": {
      "text/plain": [
       "6.711999999999996"
      ]
     },
     "execution_count": 16,
     "metadata": {},
     "output_type": "execute_result"
    }
   ],
   "source": [
    "time()"
   ]
  },
  {
   "cell_type": "markdown",
   "metadata": {},
   "source": [
    "La congruencia de Wilson afirma que para todo número primo p se verifica que el factorial de p−1 es congruente con −1 módulo p. Es interesante que el recíproco también es cierto: si un entero n verifica la congruencia de Wilson entonces es primo, y por tanto la congruencia de Wilson puede servir como un criterio de primalidad.\n",
    "El método más simple, pero no el más eficiente, para determinar si un número n es primo es la criba de Eratóstenes, es decir, n es primo si después de cribar la lista de enteros entre 2 y n, ambos inclusive, n está todavía en la lista cribada. Vimos en clase dos formas de implementar la criba, la segunda, mucho más eficiente que la primera, se reproduce en la siguiente celda.\n",
    "En este ejercicio debes comparar, en términos de eficiencia, la criba con el criterio de Wilson como método para decidir si un entero n es primo, es decir, debes producir evidencia que demuestre, suficientemente, cuál de los dos métodos es mejor. No olvides discutir las consecuencias que obtienes del experimento.\n",
    "Para medir tiempos puedes usar la función de SAGE cputime(), y con los tiempos obtenidos debes generar gráficas que permitan ver la diferencia entre los métodos.\n",
    "El número de enteros n para los que medimos los tiempos no puede ser muy grande, por ejemplo deberíamos conformarnos con unos 100 enteros, pero los enteros n habría que seleccionarlos, usando la función de SAGE randint(N1,N2), en rangos [N1,N2] suficientemente grandes. Por ejemplo, puedes usar [104,105] y también [105,106]. Los parámetros sugeridos son sólo una indicación, y puede ser necesario modificarlos, pero si se aumenta el rango, por ejemplo hasta 107, sería conveniente disminuir el número de enteros para los que medimos los tiempos.\n",
    "¿Qué buscamos con este experimento? Es muy posible que en cierto rango [N1,N2] uno de los métodos sea sistemáticamente mejor y en otro rango lo sea el otro. Querríamos identificar aproximadamente dónde se produce, si es que se produce, el cambio."
   ]
  },
  {
   "cell_type": "code",
   "execution_count": 5,
   "metadata": {
    "collapsed": true
   },
   "outputs": [],
   "source": [
    "def criba(n):\n",
    "        aux = [True]*int(n)\n",
    "        aux[0] = False\n",
    "        aux[1] = False\n",
    "        for i in xrange(2,floor(sqrt(n))+1):\n",
    "            if aux[i]:\n",
    "                for j in xrange(i*i,n,i):\n",
    "                    aux[j] = False\n",
    "        return [k for k in xrange(n) if aux[k]==True]\n",
    "def erastotenes(n):\n",
    "    if (n in criba(n+1)) == True:\n",
    "        return True\n",
    "    else:\n",
    "        return False"
   ]
  },
  {
   "cell_type": "code",
   "execution_count": 6,
   "metadata": {
    "collapsed": true
   },
   "outputs": [],
   "source": [
    "def Wilson(n):\n",
    "    if factorial(n-1)%n == n-1:\n",
    "        return True\n",
    "    else:\n",
    "        return False    "
   ]
  },
  {
   "cell_type": "code",
   "execution_count": 7,
   "metadata": {
    "collapsed": false
   },
   "outputs": [
    {
     "data": {
      "text/plain": [
       "True"
      ]
     },
     "execution_count": 7,
     "metadata": {},
     "output_type": "execute_result"
    }
   ],
   "source": [
    "Wilson(11)"
   ]
  },
  {
   "cell_type": "code",
   "execution_count": 8,
   "metadata": {
    "collapsed": true
   },
   "outputs": [],
   "source": [
    "def WilsonTest(n):\n",
    "    L = []\n",
    "    var('i')\n",
    "    for i in srange(2, n):\n",
    "        if Wilson(i) == True:\n",
    "            L.append(i)\n",
    "    return L"
   ]
  },
  {
   "cell_type": "code",
   "execution_count": 9,
   "metadata": {
    "collapsed": true
   },
   "outputs": [],
   "source": [
    "def WilsonTime(n):\n",
    "    var('time0', 'time1')\n",
    "    time0 = cputime()\n",
    "    WilsonTest(n)\n",
    "    time1 = cputime() - time0\n",
    "    \n",
    "    return time1\n",
    "\n",
    "def CribaTime(n):\n",
    "    var('time0', 'time1')\n",
    "    time0 = cputime()\n",
    "    erastotenes(n)\n",
    "    time1 = cputime() - time0\n",
    "    return time1"
   ]
  },
  {
   "cell_type": "code",
   "execution_count": 16,
   "metadata": {
    "collapsed": false
   },
   "outputs": [],
   "source": [
    "L = [randint(10^3, 10^4) for i in range(100)]\n",
    "\n",
    "var('i')\n",
    "\n",
    "TWilson = []\n",
    "for i in L:\n",
    "    TWilson.append([i, WilsonTime(i)])\n",
    "TEras = []\n",
    "for i in L:\n",
    "    TEras.append([i, CribaTime(i)])"
   ]
  },
  {
   "cell_type": "code",
   "execution_count": 18,
   "metadata": {
    "collapsed": false
   },
   "outputs": [
    {
     "data": {
      "image/png": "[encoded data removed]",
      "text/plain": [
       "Graphics object consisting of 2 graphics primitives"
      ]
     },
     "execution_count": 18,
     "metadata": {},
     "output_type": "execute_result"
    }
   ],
   "source": [
    "points(TWilson, rgbcolor='blue') + points(TEras, rgbcolor='red')"
   ]
  },
  {
   "cell_type": "code",
   "execution_count": 115,
   "metadata": {
    "collapsed": false
   },
   "outputs": [
    {
     "name": "stdout",
     "output_type": "stream",
     "text": [
      "Help on function point2d in module sage.plot.point:\n",
      "\n",
      "point2d(*args, **kwds)\n",
      "    A point of size ``size`` defined by point = `(x,y)`.\n",
      "    \n",
      "    INPUT:\n",
      "    \n",
      "    -  ``points`` - either a single point (as a tuple), a list of\n",
      "       points, a single complex number, or a list of complex numbers.\n",
      "    - ``alpha`` -- How transparent the point is.\n",
      "    - ``faceted`` -- If True color the edge of the point. (only for 2D plots)\n",
      "    - ``hue`` -- The color given as a hue.\n",
      "    - ``legend_color`` -- The color of the legend text\n",
      "    - ``legend_label`` -- The label for this item in the legend.\n",
      "    - ``marker`` -- the marker symbol for 2D plots only (see documentation of\n",
      "      :func:`plot` for details)\n",
      "    - ``markeredgecolor`` -- the color of the marker edge (only for 2D plots)\n",
      "    - ``rgbcolor`` -- The color as an RGB tuple.\n",
      "    - ``size`` -- How big the point is (i.e., area in points^2=(1/72 inch)^2).\n",
      "    - ``zorder`` -- The layer level in which to draw\n",
      "    \n",
      "    EXAMPLES:\n",
      "    \n",
      "    A purple point from a single tuple or coordinates::\n",
      "    \n",
      "        sage: point((0.5, 0.5), rgbcolor=hue(0.75))\n",
      "        Graphics object consisting of 1 graphics primitive\n",
      "    \n",
      "    Points with customized markers and edge colors::\n",
      "    \n",
      "        sage: r = [(random(), random()) for _ in range(10)]\n",
      "        sage: point(r, marker='d', markeredgecolor='red', size=20)\n",
      "        Graphics object consisting of 1 graphics primitive\n",
      "    \n",
      "    Passing an empty list returns an empty plot::\n",
      "    \n",
      "        sage: point([])\n",
      "        Graphics object consisting of 0 graphics primitives\n",
      "        sage: import numpy; point(numpy.array([]))\n",
      "        Graphics object consisting of 0 graphics primitives\n",
      "    \n",
      "    If you need a 2D point to live in 3-space later, this is possible::\n",
      "    \n",
      "        sage: A=point((1,1))\n",
      "        sage: a=A[0];a\n",
      "        Point set defined by 1 point(s)\n",
      "        sage: b=a.plot3d(z=3)\n",
      "    \n",
      "    This is also true with multiple points::\n",
      "    \n",
      "        sage: P=point([(0,0), (1,1)])\n",
      "        sage: p=P[0]\n",
      "        sage: q=p.plot3d(z=[2,3])\n",
      "    \n",
      "    Here are some random larger red points, given as a list of tuples::\n",
      "    \n",
      "        sage: point(((0.5, 0.5), (1, 2), (0.5, 0.9), (-1, -1)), rgbcolor=hue(1), size=30)\n",
      "        Graphics object consisting of 1 graphics primitive\n",
      "    \n",
      "    And an example with a legend::\n",
      "    \n",
      "        sage: point((0,0), rgbcolor='black', pointsize=40, legend_label='origin')\n",
      "        Graphics object consisting of 1 graphics primitive\n",
      "    \n",
      "    The legend can be colored::\n",
      "    \n",
      "        sage: P = points([(0,0),(1,0)], pointsize=40, legend_label='origin', legend_color='red')\n",
      "        sage: P + plot(x^2,(x,0,1), legend_label='plot', legend_color='green')\n",
      "        Graphics object consisting of 2 graphics primitives\n",
      "    \n",
      "    Extra options will get passed on to show(), as long as they are valid::\n",
      "    \n",
      "        sage: point([(cos(theta), sin(theta)) for theta in srange(0, 2*pi, pi/8)], frame=True)\n",
      "        Graphics object consisting of 1 graphics primitive\n",
      "        sage: point([(cos(theta), sin(theta)) for theta in srange(0, 2*pi, pi/8)]).show(frame=True) # These are equivalent\n",
      "    \n",
      "    For plotting data, we can use a logarithmic scale, as long as we are sure\n",
      "    not to include any nonpositive points in the logarithmic direction::\n",
      "    \n",
      "        sage: point([(1,2),(2,4),(3,4),(4,8),(4.5,32)],scale='semilogy',base=2)\n",
      "        Graphics object consisting of 1 graphics primitive\n",
      "    \n",
      "    Since Sage Version 4.4 (:trac:`8599`), the size of a 2d point can be\n",
      "    given by the argument ``size`` instead of ``pointsize``. The argument\n",
      "    ``pointsize`` is still supported::\n",
      "    \n",
      "        sage: point((3,4), size=100)\n",
      "        Graphics object consisting of 1 graphics primitive\n",
      "    \n",
      "    ::\n",
      "    \n",
      "        sage: point((3,4), pointsize=100)\n",
      "        Graphics object consisting of 1 graphics primitive\n",
      "    \n",
      "    We can plot a single complex number::\n",
      "    \n",
      "        sage: point(CC(1+I), pointsize=100)\n",
      "        Graphics object consisting of 1 graphics primitive\n",
      "    \n",
      "    We can also plot a list of complex numbers::\n",
      "    \n",
      "        sage: point([CC(I), CC(I+1), CC(2+2*I)], pointsize=100)\n",
      "        Graphics object consisting of 1 graphics primitive\n",
      "\n"
     ]
    }
   ],
   "source": [
    "help(point2d)"
   ]
  },
  {
   "cell_type": "code",
   "execution_count": null,
   "metadata": {
    "collapsed": true
   },
   "outputs": [],
   "source": [
    "var('i')\n",
    "L = [randint(10^3, 10^4) for i in range(100)]\n",
    "TRange = []\n",
    "for i in L:\n",
    "    TRange.append(RangeTime(i))"
   ]
  },
  {
   "cell_type": "code",
   "execution_count": 79,
   "metadata": {
    "collapsed": false
   },
   "outputs": [
    {
     "data": {
      "text/plain": [
       "[0.0,\n",
       " 0.0,\n",
       " 0.0,\n",
       " 0.0,\n",
       " 0.0,\n",
       " 0.0,\n",
       " 0.0,\n",
       " 0.0,\n",
       " 0.0,\n",
       " 0.0,\n",
       " 0.003999999999997783,\n",
       " 0.0,\n",
       " 0.0,\n",
       " 0.0,\n",
       " 0.0,\n",
       " 0.0,\n",
       " 0.0,\n",
       " 0.0,\n",
       " 0.0,\n",
       " 0.0,\n",
       " 0.0,\n",
       " 0.0,\n",
       " 0.0,\n",
       " 0.0,\n",
       " 0.0,\n",
       " 0.0,\n",
       " 0.003999999999997783,\n",
       " 0.0,\n",
       " 0.0,\n",
       " 0.0,\n",
       " 0.0,\n",
       " 0.0,\n",
       " 0.0,\n",
       " 0.0,\n",
       " 0.0,\n",
       " 0.0,\n",
       " 0.0,\n",
       " 0.0,\n",
       " 0.0,\n",
       " 0.0,\n",
       " 0.0,\n",
       " 0.0,\n",
       " 0.0,\n",
       " 0.0040000000000048885,\n",
       " 0.0,\n",
       " 0.0,\n",
       " 0.0,\n",
       " 0.0,\n",
       " 0.0,\n",
       " 0.0,\n",
       " 0.0,\n",
       " 0.0,\n",
       " 0.0,\n",
       " 0.0,\n",
       " 0.0,\n",
       " 0.0,\n",
       " 0.0,\n",
       " 0.0,\n",
       " 0.0,\n",
       " 0.0,\n",
       " 0.0,\n",
       " 0.0,\n",
       " 0.0,\n",
       " 0.0,\n",
       " 0.0,\n",
       " 0.003999999999997783,\n",
       " 0.0,\n",
       " 0.0,\n",
       " 0.0,\n",
       " 0.0,\n",
       " 0.0,\n",
       " 0.0,\n",
       " 0.0,\n",
       " 0.0,\n",
       " 0.0,\n",
       " 0.0,\n",
       " 0.0,\n",
       " 0.0,\n",
       " 0.0,\n",
       " 0.0,\n",
       " 0.0,\n",
       " 0.0,\n",
       " 0.0,\n",
       " 0.0,\n",
       " 0.0,\n",
       " 0.0,\n",
       " 0.0,\n",
       " 0.0,\n",
       " 0.0,\n",
       " 0.0,\n",
       " 0.0,\n",
       " 0.0,\n",
       " 0.0,\n",
       " 0.0,\n",
       " 0.0,\n",
       " 0.0,\n",
       " 0.0,\n",
       " 0.0,\n",
       " 0.0,\n",
       " 0.0]"
      ]
     },
     "execution_count": 79,
     "metadata": {},
     "output_type": "execute_result"
    }
   ],
   "source": [
    "TRange"
   ]
  },
  {
   "cell_type": "code",
   "execution_count": null,
   "metadata": {
    "collapsed": true
   },
   "outputs": [],
   "source": []
  }
 ],
 "metadata": {
  "kernelspec": {
   "display_name": "SageMath 7.2",
   "language": "",
   "name": "sagemath"
  },
  "language_info": {
   "codemirror_mode": {
    "name": "ipython",
    "version": 2
   },
   "file_extension": ".py",
   "mimetype": "text/x-python",
   "name": "python",
   "nbconvert_exporter": "python",
   "pygments_lexer": "ipython2",
   "version": "2.7.10"
  }
 },
 "nbformat": 4,
 "nbformat_minor": 0
}
