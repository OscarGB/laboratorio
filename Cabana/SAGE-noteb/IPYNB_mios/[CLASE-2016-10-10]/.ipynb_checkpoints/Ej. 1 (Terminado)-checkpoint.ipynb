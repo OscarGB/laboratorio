{
 "cells": [
  {
   "cell_type": "markdown",
   "metadata": {},
   "source": [
    "1. Encontrar la condición necesaria y suficiente para que 1+2+...+n divida a n!"
   ]
  },
  {
   "cell_type": "code",
   "execution_count": 16,
   "metadata": {
    "collapsed": false
   },
   "outputs": [
    {
     "data": {
      "text/plain": [
       "[1, 3, 5, 7, 8, 9, 11, 13, 14, 15, 17, 19, 20, 21, 23, 24, 25, 26, 27, 29]"
      ]
     },
     "execution_count": 16,
     "metadata": {},
     "output_type": "execute_result"
    }
   ],
   "source": [
    "L = [n for n in srange(1, 30) if factorial(n) % (n*(n+1)/2) == 0]\n",
    "L"
   ]
  },
  {
   "cell_type": "code",
   "execution_count": 19,
   "metadata": {
    "collapsed": false
   },
   "outputs": [
    {
     "name": "stdout",
     "output_type": "stream",
     "text": [
      "1\n",
      "2 * 3\n",
      "2^3 * 3 * 5\n",
      "2^4 * 3^2 * 5 * 7\n",
      "2^7 * 3^2 * 5 * 7\n",
      "2^7 * 3^4 * 5 * 7\n",
      "2^8 * 3^4 * 5^2 * 7 * 11\n",
      "2^10 * 3^5 * 5^2 * 7 * 11 * 13\n",
      "2^11 * 3^5 * 5^2 * 7^2 * 11 * 13\n",
      "2^11 * 3^6 * 5^3 * 7^2 * 11 * 13\n",
      "2^15 * 3^6 * 5^3 * 7^2 * 11 * 13 * 17\n",
      "2^16 * 3^8 * 5^3 * 7^2 * 11 * 13 * 17 * 19\n",
      "2^18 * 3^8 * 5^4 * 7^2 * 11 * 13 * 17 * 19\n",
      "2^18 * 3^9 * 5^4 * 7^3 * 11 * 13 * 17 * 19\n",
      "2^19 * 3^9 * 5^4 * 7^3 * 11^2 * 13 * 17 * 19 * 23\n",
      "2^22 * 3^10 * 5^4 * 7^3 * 11^2 * 13 * 17 * 19 * 23\n",
      "2^22 * 3^10 * 5^6 * 7^3 * 11^2 * 13 * 17 * 19 * 23\n",
      "2^23 * 3^10 * 5^6 * 7^3 * 11^2 * 13^2 * 17 * 19 * 23\n",
      "2^23 * 3^13 * 5^6 * 7^3 * 11^2 * 13^2 * 17 * 19 * 23\n",
      "2^25 * 3^13 * 5^6 * 7^4 * 11^2 * 13^2 * 17 * 19 * 23 * 29\n"
     ]
    }
   ],
   "source": [
    "for n in L:\n",
    "    print factorial(n).factor()"
   ]
  },
  {
   "cell_type": "code",
   "execution_count": 20,
   "metadata": {
    "collapsed": false
   },
   "outputs": [
    {
     "name": "stdout",
     "output_type": "stream",
     "text": [
      "1\n",
      "2 * 3\n",
      "3 * 5\n",
      "2^2 * 7\n",
      "2^2 * 3^2\n",
      "3^2 * 5\n",
      "2 * 3 * 11\n",
      "7 * 13\n",
      "3 * 5 * 7\n",
      "2^3 * 3 * 5\n",
      "3^2 * 17\n",
      "2 * 5 * 19\n",
      "2 * 3 * 5 * 7\n",
      "3 * 7 * 11\n",
      "2^2 * 3 * 23\n",
      "2^2 * 3 * 5^2\n",
      "5^2 * 13\n",
      "3^3 * 13\n",
      "2 * 3^3 * 7\n",
      "3 * 5 * 29\n"
     ]
    }
   ],
   "source": [
    "for n in L:\n",
    "    print factor(n*(n+1)/2)"
   ]
  },
  {
   "cell_type": "code",
   "execution_count": null,
   "metadata": {
    "collapsed": true
   },
   "outputs": [],
   "source": []
  }
 ],
 "metadata": {
  "kernelspec": {
   "display_name": "SageMath 7.3",
   "language": "",
   "name": "sagemath"
  },
  "language_info": {
   "codemirror_mode": {
    "name": "ipython",
    "version": 2
   },
   "file_extension": ".py",
   "mimetype": "text/x-python",
   "name": "python",
   "nbconvert_exporter": "python",
   "pygments_lexer": "ipython2",
   "version": "2.7.10"
  }
 },
 "nbformat": 4,
 "nbformat_minor": 0
}
