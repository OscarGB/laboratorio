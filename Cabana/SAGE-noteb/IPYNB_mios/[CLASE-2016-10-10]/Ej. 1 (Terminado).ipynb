{
 "cells": [
  {
   "cell_type": "markdown",
   "metadata": {},
   "source": [
    "1. Encontrar la condición necesaria y suficiente para que 1+2+...+n divida a n!"
   ]
  },
  {
   "cell_type": "code",
   "execution_count": 47,
   "metadata": {
    "collapsed": false
   },
   "outputs": [
    {
     "data": {
      "text/plain": [
       "[1, 3, 5, 7, 8, 9, 11, 13, 14, 15, 17, 19, 20, 21, 23, 24, 25, 26, 27, 29]"
      ]
     },
     "execution_count": 47,
     "metadata": {},
     "output_type": "execute_result"
    }
   ],
   "source": [
    "L = [n for n in srange(1, 30) if factorial(n) % (n*(n+1)/2) == 0]\n",
    "L"
   ]
  },
  {
   "cell_type": "code",
   "execution_count": 48,
   "metadata": {
    "collapsed": false,
    "scrolled": true
   },
   "outputs": [
    {
     "name": "stdout",
     "output_type": "stream",
     "text": [
      "1 \t| 1 \t| 1\n",
      "3 \t| 2 * 3 \t| 2 * 3\n",
      "5 \t| 3 * 5 \t| 2^3 * 3 * 5\n",
      "7 \t| 2^2 * 7 \t| 2^4 * 3^2 * 5 * 7\n",
      "8 \t| 2^2 * 3^2 \t| 2^7 * 3^2 * 5 * 7\n",
      "9 \t| 3^2 * 5 \t| 2^7 * 3^4 * 5 * 7\n",
      "11 \t| 2 * 3 * 11 \t| 2^8 * 3^4 * 5^2 * 7 * 11\n",
      "13 \t| 7 * 13 \t| 2^10 * 3^5 * 5^2 * 7 * 11 * 13\n",
      "14 \t| 3 * 5 * 7 \t| 2^11 * 3^5 * 5^2 * 7^2 * 11 * 13\n",
      "15 \t| 2^3 * 3 * 5 \t| 2^11 * 3^6 * 5^3 * 7^2 * 11 * 13\n",
      "17 \t| 3^2 * 17 \t| 2^15 * 3^6 * 5^3 * 7^2 * 11 * 13 * 17\n",
      "19 \t| 2 * 5 * 19 \t| 2^16 * 3^8 * 5^3 * 7^2 * 11 * 13 * 17 * 19\n",
      "20 \t| 2 * 3 * 5 * 7 \t| 2^18 * 3^8 * 5^4 * 7^2 * 11 * 13 * 17 * 19\n",
      "21 \t| 3 * 7 * 11 \t| 2^18 * 3^9 * 5^4 * 7^3 * 11 * 13 * 17 * 19\n",
      "23 \t| 2^2 * 3 * 23 \t| 2^19 * 3^9 * 5^4 * 7^3 * 11^2 * 13 * 17 * 19 * 23\n",
      "24 \t| 2^2 * 3 * 5^2 \t| 2^22 * 3^10 * 5^4 * 7^3 * 11^2 * 13 * 17 * 19 * 23\n",
      "25 \t| 5^2 * 13 \t| 2^22 * 3^10 * 5^6 * 7^3 * 11^2 * 13 * 17 * 19 * 23\n",
      "26 \t| 3^3 * 13 \t| 2^23 * 3^10 * 5^6 * 7^3 * 11^2 * 13^2 * 17 * 19 * 23\n",
      "27 \t| 2 * 3^3 * 7 \t| 2^23 * 3^13 * 5^6 * 7^3 * 11^2 * 13^2 * 17 * 19 * 23\n",
      "29 \t| 3 * 5 * 29 \t| 2^25 * 3^13 * 5^6 * 7^4 * 11^2 * 13^2 * 17 * 19 * 23 * 29\n"
     ]
    }
   ],
   "source": [
    "for n in L:\n",
    "    print n, '\\t|', factor(n*(n+1)/2),'\\t|', factorial(n).factor()"
   ]
  },
  {
   "cell_type": "code",
   "execution_count": 49,
   "metadata": {
    "collapsed": false
   },
   "outputs": [
    {
     "data": {
      "text/plain": [
       "[2, 4, 6, 10, 12, 16, 18, 22, 28]"
      ]
     },
     "execution_count": 49,
     "metadata": {},
     "output_type": "execute_result"
    }
   ],
   "source": [
    "N = [n for n in srange(1, 30) if n not in L]\n",
    "N"
   ]
  },
  {
   "cell_type": "code",
   "execution_count": 50,
   "metadata": {
    "collapsed": false
   },
   "outputs": [
    {
     "name": "stdout",
     "output_type": "stream",
     "text": [
      "2 \t| 3 \t| 2\n",
      "4 \t| 2 * 5 \t| 2^3 * 3\n",
      "6 \t| 3 * 7 \t| 2^4 * 3^2 * 5\n",
      "10 \t| 5 * 11 \t| 2^8 * 3^4 * 5^2 * 7\n",
      "12 \t| 2 * 3 * 13 \t| 2^10 * 3^5 * 5^2 * 7 * 11\n",
      "16 \t| 2^3 * 17 \t| 2^15 * 3^6 * 5^3 * 7^2 * 11 * 13\n",
      "18 \t| 3^2 * 19 \t| 2^16 * 3^8 * 5^3 * 7^2 * 11 * 13 * 17\n",
      "22 \t| 11 * 23 \t| 2^19 * 3^9 * 5^4 * 7^3 * 11^2 * 13 * 17 * 19\n",
      "28 \t| 2 * 7 * 29 \t| 2^25 * 3^13 * 5^6 * 7^4 * 11^2 * 13^2 * 17 * 19 * 23\n"
     ]
    }
   ],
   "source": [
    "for n in N:\n",
    "    print n, '\\t|', factor(n*(n+1)/2), '\\t|', factorial(n).factor()"
   ]
  },
  {
   "cell_type": "markdown",
   "metadata": {},
   "source": [
    "Veo que no se cumple para n si n+1 es primo."
   ]
  },
  {
   "cell_type": "markdown",
   "metadata": {},
   "source": [
    "n! nunca es múltiplo de n+1.\n",
    "Si n+1 es primo entonces n(n+1)/2 es múltiplo de n+1.\n",
    "(Si n+1 es primo y no es 2, entonces es impar, y por tanto n es par y divisible entre 2)"
   ]
  },
  {
   "cell_type": "markdown",
   "metadata": {},
   "source": [
    "Es decir, si n+1 es primo entonces la suma de todos sus menores no puede dividir al producto."
   ]
  },
  {
   "cell_type": "markdown",
   "metadata": {},
   "source": [
    "Si por el contrario n+1 no es primo, entonces es producto de al menos dos primos, que serán menores o iguales que n. Por tanto, es seguro que formen parte de los factores de n!."
   ]
  }
 ],
 "metadata": {
  "kernelspec": {
   "display_name": "SageMath 7.3",
   "language": "",
   "name": "sagemath"
  },
  "language_info": {
   "codemirror_mode": {
    "name": "ipython",
    "version": 2
   },
   "file_extension": ".py",
   "mimetype": "text/x-python",
   "name": "python",
   "nbconvert_exporter": "python",
   "pygments_lexer": "ipython2",
   "version": "2.7.10"
  }
 },
 "nbformat": 4,
 "nbformat_minor": 0
}
