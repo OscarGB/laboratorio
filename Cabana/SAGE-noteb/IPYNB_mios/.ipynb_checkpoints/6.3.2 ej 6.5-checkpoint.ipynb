{
 "cells": [
  {
   "cell_type": "code",
   "execution_count": 16,
   "metadata": {
    "collapsed": false
   },
   "outputs": [],
   "source": [
    "def mcd_i(a,b):\n",
    "    count = 0\n",
    "    if a < b:\n",
    "        return mcd_i(b,a)\n",
    "    while a%b != 0:\n",
    "        a,b = b,a%b\n",
    "        count+=1\n",
    "    count+=1\n",
    "    return count"
   ]
  },
  {
   "cell_type": "code",
   "execution_count": 17,
   "metadata": {
    "collapsed": false
   },
   "outputs": [
    {
     "name": "stdout",
     "output_type": "stream",
     "text": [
      "[1, 1, 2, 1, 1, 3, 3, 1, 2]\n"
     ]
    },
    {
     "data": {
      "text/plain": [
       "3"
      ]
     },
     "execution_count": 17,
     "metadata": {},
     "output_type": "execute_result"
    }
   ],
   "source": [
    "a = 1000000000\n",
    "L1 = [mcd_i(a,b) for b in srange(1,10)]\n",
    "print L1\n",
    "max(L1)"
   ]
  },
  {
   "cell_type": "code",
   "execution_count": 18,
   "metadata": {
    "collapsed": false
   },
   "outputs": [
    {
     "name": "stdout",
     "output_type": "stream",
     "text": [
      "[3, 8, 11, 16, 20, 24, 28]\n"
     ]
    }
   ],
   "source": [
    "L = []\n",
    "for n in srange(1, 8):\n",
    "    L0 = [mcd_i(a,b) for b in srange(10**(n-1), 10**n)]\n",
    "    L.append(max(L0))\n",
    "print L"
   ]
  },
  {
   "cell_type": "code",
   "execution_count": null,
   "metadata": {
    "collapsed": true
   },
   "outputs": [],
   "source": []
  }
 ],
 "metadata": {
  "kernelspec": {
   "display_name": "SageMath 7.3",
   "language": "",
   "name": "sagemath"
  },
  "language_info": {
   "codemirror_mode": {
    "name": "ipython",
    "version": 2
   },
   "file_extension": ".py",
   "mimetype": "text/x-python",
   "name": "python",
   "nbconvert_exporter": "python",
   "pygments_lexer": "ipython2",
   "version": "2.7.10"
  }
 },
 "nbformat": 4,
 "nbformat_minor": 0
}
