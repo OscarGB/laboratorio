{
 "cells": [
  {
   "cell_type": "code",
   "execution_count": 2,
   "metadata": {
    "collapsed": false
   },
   "outputs": [],
   "source": [
    "def sumfact(n):\n",
    "    suma = 0\n",
    "    for i in srange(1, n+1):\n",
    "        suma += factorial(i)\n",
    "    return suma"
   ]
  },
  {
   "cell_type": "code",
   "execution_count": 3,
   "metadata": {
    "collapsed": false
   },
   "outputs": [
    {
     "name": "stdout",
     "output_type": "stream",
     "text": [
      "True\n",
      "False\n",
      "True\n",
      "False\n",
      "False\n",
      "False\n",
      "False\n",
      "False\n",
      "False\n"
     ]
    }
   ],
   "source": [
    "for i in srange(1, 10):\n",
    "    print is_square(sumfact(i))"
   ]
  },
  {
   "cell_type": "code",
   "execution_count": 4,
   "metadata": {
    "collapsed": false
   },
   "outputs": [],
   "source": [
    "L = [is_square(sumfact(i)) for i in srange(4,1000)]"
   ]
  },
  {
   "cell_type": "code",
   "execution_count": 5,
   "metadata": {
    "collapsed": false
   },
   "outputs": [
    {
     "data": {
      "text/plain": [
       "False"
      ]
     },
     "execution_count": 5,
     "metadata": {},
     "output_type": "execute_result"
    }
   ],
   "source": [
    "any(L)"
   ]
  },
  {
   "cell_type": "code",
   "execution_count": 6,
   "metadata": {
    "collapsed": false
   },
   "outputs": [
    {
     "data": {
      "text/plain": [
       "[3 * 11,\n",
       " 3^2 * 17,\n",
       " 3^2 * 97,\n",
       " 3^4 * 73,\n",
       " 3^2 * 11 * 467,\n",
       " 3^2 * 131 * 347,\n",
       " 3^2 * 11 * 40787,\n",
       " 3^2 * 11 * 443987,\n",
       " 3^2 * 11^2 * 23 * 20879,\n",
       " 3^2 * 11 * 821 * 83047,\n",
       " 3^2 * 11 * 2789 * 340183,\n",
       " 3^2 * 11 * 107 * 509 * 259949,\n",
       " 3^2 * 11 * 225498914387,\n",
       " 3^2 * 11 * 163 * 20143 * 1162943,\n",
       " 3^2 * 11 * 19727 * 3471827581,\n",
       " 3^2 * 11 * 29 * 43 * 1621 * 641751001,\n",
       " 3^2 * 11^2 * 53 * 67 * 662348503367,\n",
       " 3^2 * 11 * 877 * 3203 * 41051 * 4699727,\n",
       " 3^2 * 11 * 11895484822660898387,\n",
       " 3^2 * 11 * 139 * 2129333 * 922459185301,\n",
       " 3^2 * 11 * 37^2 * 29131483 * 163992440081,\n",
       " 3^2 * 11 * 454823 * 519472957 * 690821017,\n",
       " 3^2 * 11 * 107 * 173 * 7823 * 12227 * 1281439 * 1867343,\n",
       " 3^2 * 11 * 431363 * 2882477797 * 91865833117,\n",
       " 3^2 * 11 * 191 * 47793258077 * 349882390108241,\n",
       " 3^2 * 11 * 37 * 283 * 5087 * 1736655143086866180331]"
      ]
     },
     "execution_count": 6,
     "metadata": {},
     "output_type": "execute_result"
    }
   ],
   "source": [
    "[factor(sumfact(i)) for i in srange(4, 30)]"
   ]
  },
  {
   "cell_type": "markdown",
   "metadata": {},
   "source": [
    "En todas hay 11, o eso parece. Voy a ver si todos son múltiplos de 11 pero no de 121.\n",
    "1! + 2! + ... + 10! + 11(...)"
   ]
  },
  {
   "cell_type": "code",
   "execution_count": 7,
   "metadata": {
    "collapsed": false
   },
   "outputs": [
    {
     "data": {
      "text/plain": [
       "0"
      ]
     },
     "execution_count": 7,
     "metadata": {},
     "output_type": "execute_result"
    }
   ],
   "source": [
    "sumfact(10)%11"
   ]
  },
  {
   "cell_type": "code",
   "execution_count": 8,
   "metadata": {
    "collapsed": false
   },
   "outputs": [
    {
     "data": {
      "text/plain": [
       "11"
      ]
     },
     "execution_count": 8,
     "metadata": {},
     "output_type": "execute_result"
    }
   ],
   "source": [
    "sumfact(120)%121"
   ]
  },
  {
   "cell_type": "code",
   "execution_count": null,
   "metadata": {
    "collapsed": true
   },
   "outputs": [],
   "source": []
  }
 ],
 "metadata": {
  "kernelspec": {
   "display_name": "SageMath 7.3",
   "language": "",
   "name": "sagemath"
  },
  "language_info": {
   "codemirror_mode": {
    "name": "ipython",
    "version": 2
   },
   "file_extension": ".py",
   "mimetype": "text/x-python",
   "name": "python",
   "nbconvert_exporter": "python",
   "pygments_lexer": "ipython2",
   "version": "2.7.10"
  }
 },
 "nbformat": 4,
 "nbformat_minor": 0
}
