{
 "cells": [
  {
   "cell_type": "code",
   "execution_count": 1,
   "metadata": {
    "collapsed": false
   },
   "outputs": [],
   "source": [
    "def salamin_brent(N,d):\n",
    "    R = RealField(prec=d) # con d bits de presicion\n",
    "    a,b,s,k = R(1),R(sqrt(2)/2),R(1/2),0 # las valiables iniciales definidas a la vez, al poner el paretensis, por ejemplo en R(1) pone en forma numerica, el uno en d bits, no en foma numerica\n",
    "    for muda in xsrange(N):\n",
    "        k += 1 # foma de hacer el bucle, y porque lo necesita para la s\n",
    "        a_orig = a\n",
    "        a = (a+b)/2\n",
    "        b = sqrt(a_orig*b)\n",
    "        c = a^2-b^2\n",
    "        s = s-2^k*c\n",
    "        p = (2*a^2)/s\n",
    "    return p"
   ]
  },
  {
   "cell_type": "code",
   "execution_count": 2,
   "metadata": {
    "collapsed": false
   },
   "outputs": [
    {
     "data": {
      "text/plain": [
       "2.6908842175065946118178475288036324985331096230356454289567268375340142518311553511660407\n",
       "399871523305675934481980474985741592107770502011866279680847606698914629111863763632804058\n",
       "515369625762718462125072756196597384563318807811987562577990181342276711419679756618894578\n",
       "0006158439645782422621517076859e-294\n",
       "Time: CPU 0.01 s, Wall: 0.01 s"
      ]
     },
     "execution_count": 2,
     "metadata": {},
     "output_type": "execute_result"
    }
   ],
   "source": [
    "time salamin_brent(20,1000)-pi.n(prec=1000)"
   ]
  },
  {
   "cell_type": "markdown",
   "metadata": {},
   "source": [
    "<p>El n&uacute;mero de decimales que coinciden es igual a $294-1=293.$ La precisi&oacute;n elegida ($1000$ bits) es arbitraria, pero teniendo en cuenta que cada d&iacute;gito decimal ocupa en promedio $4$ bits podemos probar con una precisi&oacute;n de $4d$, con $d$ el n&uacute;mero de decimales correctos que queremos obtener.&nbsp;</p>"
   ]
  },
  {
   "cell_type": "code",
   "execution_count": 3,
   "metadata": {
    "collapsed": false
   },
   "outputs": [],
   "source": [
    "def salamin_brent2(d):\n",
    "    R = RealField(prec=4*d)\n",
    "    a,b,s,k,p = R(1),R(sqrt(2)/2),R(0.5),0,R(10)\n",
    "    while abs(R(pi)-R(p)) > R(10^(-d+1)): #porque quiero las diez primeras cifras de pi, por eso acoto el eror. abs() significa el valor absoluto de()\n",
    "        k += 1\n",
    "        a_orig = a\n",
    "        a = R((a+b)/2)\n",
    "        b = R(sqrt(a_orig*b))\n",
    "        c = R(a^2-b^2)\n",
    "        s = R(s-2^k*c)\n",
    "        p = R((2*a^2)/s)\n",
    "    return R(p)-R(pi),k"
   ]
  },
  {
   "cell_type": "code",
   "execution_count": 4,
   "metadata": {
    "collapsed": false
   },
   "outputs": [
    {
     "data": {
      "text/plain": [
       "(-9.65556097377327944673587811053260632555756748216259774500980009720791557505854420914039\n",
       "610618663000961760161510358361810904265712336544100511529878641775924573156385983029682934\n",
       "465507113796342080955302893190497130370363261131003491894347344828549469876794791990439367\n",
       "663460533820251276626079163301083135467627708830807823354468706391390647021196784714610214\n",
       "062040241939025749224107899407491658227116328599964479679749886420918803375931288170942890\n",
       "768138027053182822310277411203660810382964784923435082123411089894393836296850074780424146\n",
       "562747200474584664628404647543223330825202785257265385011183920184715185378425290153437781\n",
       "502936245051936758320070654001242914141600242429549243929454884923806111267641823165869758\n",
       "172552291749654897720189667812816316281695105244685139025174741225717608588919465372130752\n",
       "644265196382598560351289995973998427951808359538115707638950127626097958734530312602446747\n",
       "369645281035079011786962807203579413043091618719819958990764582878635711418595486538507243\n",
       "450194483867261479802892631536857161586099810198755027306456149073719035239925998198111433\n",
       "939693449792278364061745242287411928489006207475302464728714247683554909356847218715263265\n",
       "667892871457098113401234626212916287e-1201,\n",
       " 10)\n",
       "Time: CPU 0.00 s, Wall: 0.00 s"
      ]
     },
     "execution_count": 4,
     "metadata": {},
     "output_type": "execute_result"
    }
   ],
   "source": [
    "time salamin_brent2(1000)"
   ]
  },
  {
   "cell_type": "markdown",
   "metadata": {},
   "source": [
    "<p>Si rebajamos la precisi&oacute;n a $3d$ el bucle while es infinito. Queremos ahora comprobar &nbsp;que, como se afirma en las notas, el n&uacute;mero de cifras correctas al ir iterando el procedimiento, es decir al ir aumentando $k$, se duplica en cada paso.</p>"
   ]
  },
  {
   "cell_type": "code",
   "execution_count": 5,
   "metadata": {
    "collapsed": false
   },
   "outputs": [],
   "source": [
    "def salamin_brent2b(d):\n",
    "    R = RealField(prec=4*d)\n",
    "    a,b,s,k,p = R(1),R(sqrt(2)/2),R(0.5),0,R(10)\n",
    "    while abs(R(pi)-R(p)) > R(10^(-d+1)):\n",
    "        k += 1\n",
    "        a_orig = a\n",
    "        a = R((a+b)/2)\n",
    "        b = R(sqrt(a_orig*b))\n",
    "        c = R(a^2-b^2)\n",
    "        s = R(s-2^k*c)\n",
    "        p = R((2*a^2)/s)\n",
    "    return abs(ZZ(ceil(log(abs(R(p)-R(pi)),base=10)),base=10)),k"
   ]
  },
  {
   "cell_type": "code",
   "execution_count": 6,
   "metadata": {
    "collapsed": false
   },
   "outputs": [
    {
     "data": {
      "text/plain": [
       "(1200, 10)\n",
       "Time: CPU 0.00 s, Wall: 0.00 s"
      ]
     },
     "execution_count": 6,
     "metadata": {},
     "output_type": "execute_result"
    }
   ],
   "source": [
    "time salamin_brent2b(1000)"
   ]
  },
  {
   "cell_type": "code",
   "execution_count": 7,
   "metadata": {
    "collapsed": false
   },
   "outputs": [
    {
     "data": {
      "text/plain": [
       "[(2, 1),\n",
       " (4, 2),\n",
       " (8, 3),\n",
       " (16, 4),\n",
       " (32, 5),\n",
       " (64, 6),\n",
       " (128, 7),\n",
       " (256, 8),\n",
       " (512, 9),\n",
       " (1024, 10)]"
      ]
     },
     "execution_count": 7,
     "metadata": {},
     "output_type": "execute_result"
    }
   ],
   "source": [
    "[(2^t,salamin_brent2b(2^t)[1]) for t in srange(1,11)]"
   ]
  },
  {
   "cell_type": "code",
   "execution_count": 8,
   "metadata": {
    "collapsed": false
   },
   "outputs": [
    {
     "data": {
      "text/plain": [
       "1453387014.2"
      ]
     },
     "execution_count": 8,
     "metadata": {},
     "output_type": "execute_result"
    }
   ],
   "source": [
    "import timeit\n",
    "t1 = timeit.default_timer()\n",
    "print t1"
   ]
  },
  {
   "cell_type": "code",
   "execution_count": 9,
   "metadata": {
    "collapsed": false
   },
   "outputs": [],
   "source": [
    "def tiempo(N):\n",
    "    import timeit\n",
    "    for int in srange(1,N+1):\n",
    "        t1 = timeit.default_timer()\n",
    "        salamin_brent2b(2^int)\n",
    "        t2= timeit.default_timer()\n",
    "        print t2-t1"
   ]
  },
  {
   "cell_type": "code",
   "execution_count": 10,
   "metadata": {
    "collapsed": false
   },
   "outputs": [
    {
     "data": {
      "text/plain": [
       "0.00635099411011\n",
       "0.00276398658752\n",
       "0.00290679931641\n",
       "0.0026547908783\n",
       "0.00303196907043\n",
       "0.0031578540802\n",
       "0.00329613685608\n",
       "0.00399398803711\n",
       "0.00443291664124\n",
       "0.00649309158325"
      ]
     },
     "execution_count": 10,
     "metadata": {},
     "output_type": "execute_result"
    }
   ],
   "source": [
    "tiempo(10)"
   ]
  },
  {
   "cell_type": "code",
   "execution_count": 11,
   "metadata": {
    "collapsed": false
   },
   "outputs": [
    {
     "data": {
      "text/plain": [
       "0.00062084197998\n",
       "0.000479936599731\n",
       "0.000478982925415\n",
       "0.000535011291504\n",
       "0.000598907470703\n",
       "0.000757932662964\n",
       "0.000906944274902\n",
       "0.0012800693512\n",
       "0.00202608108521\n",
       "0.00399398803711\n",
       "0.012953042984\n",
       "0.0316469669342\n",
       "0.0858430862427\n",
       "0.262590169907\n",
       "0.80903506279\n",
       "2.784512043\n",
       "7.70735383034\n",
       "20.5763990879\n",
       "48.7188079357\n",
       "113.642480135"
      ]
     },
     "execution_count": 11,
     "metadata": {},
     "output_type": "execute_result"
    }
   ],
   "source": [
    "tiempo(20)"
   ]
  },
  {
   "cell_type": "code",
   "execution_count": 12,
   "metadata": {
    "collapsed": false
   },
   "outputs": [
    {
     "data": {
      "text/plain": [
       "1048576"
      ]
     },
     "execution_count": 12,
     "metadata": {},
     "output_type": "execute_result"
    }
   ],
   "source": [
    "2^20"
   ]
  }
 ],
 "metadata": {
  "kernelspec": {
   "display_name": "Python 2",
   "language": "python",
   "name": "python2"
  },
  "language_info": {
   "codemirror_mode": {
    "name": "ipython",
    "version": 2
   },
   "file_extension": ".py",
   "mimetype": "text/x-python",
   "name": "python",
   "nbconvert_exporter": "python",
   "pygments_lexer": "ipython2",
   "version": "2.7.10"
  }
 },
 "nbformat": 4,
 "nbformat_minor": 0
}
