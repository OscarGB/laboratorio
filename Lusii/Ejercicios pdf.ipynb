{
 "cells": [
  {
   "cell_type": "markdown",
   "metadata": {},
   "source": [
    "### Ejercicio 1 ###"
   ]
  },
  {
   "cell_type": "code",
   "execution_count": 18,
   "metadata": {
    "collapsed": true
   },
   "outputs": [],
   "source": [
    "def pn(n):\n",
    "    return 2*n*sin(pi/n)"
   ]
  },
  {
   "cell_type": "code",
   "execution_count": 257,
   "metadata": {
    "collapsed": false
   },
   "outputs": [],
   "source": [
    "def aprox_pi(n):\n",
    "    L=[]\n",
    "    for j in xsrange(1, n+1):\n",
    "        L.append([j, (pn(j)).n()])\n",
    "    return L"
   ]
  },
  {
   "cell_type": "code",
   "execution_count": 20,
   "metadata": {
    "collapsed": false
   },
   "outputs": [],
   "source": [
    "L= aprox_pi(100)"
   ]
  },
  {
   "cell_type": "code",
   "execution_count": 21,
   "metadata": {
    "collapsed": false
   },
   "outputs": [
    {
     "name": "stdout",
     "output_type": "stream",
     "text": [
      "[[1, 0.000000000000000], [2, 4.00000000000000], [3, 5.19615242270663], [4, 5.65685424949238], [5, 5.87785252292473], [6, 6.00000000000000], [7, 6.07437234764581], [8, 6.12293491784144], [9, 6.15636257986204], [10, 6.18033988749895], [11, 6.19811625051145], [12, 6.21165708246050], [13, 6.22220727147650], [14, 6.23058615077680], [15, 6.23735072453278], [16, 6.24289030451610], [17, 6.24748360576339], [18, 6.25133439600949], [19, 6.25459443066789], [20, 6.25737860160923], [21, 6.25977517939933], [22, 6.26185288402455], [23, 6.26366585842734], [24, 6.26525722656248], [25, 6.26666167821521], [26, 6.26790737327680], [27, 6.26901736276243], [28, 6.27001066178524], [29, 6.27090306858862], [30, 6.27170779605920], [31, 6.27243596322079], [32, 6.27309698109188], [33, 6.27369885807606], [34, 6.27424844350454], [35, 6.27475162324034], [36, 6.27521347783139], [37, 6.27563841118768], [38, 6.27603025589726], [39, 6.27639235990462], [40, 6.27672765822760], [41, 6.27703873259264], [42, 6.27732786125964], [43, 6.27759706083805], [44, 6.27784812153245], [45, 6.27808263697128], [46, 6.27830202954973], [47, 6.27850757204143], [48, 6.27870040609373], [49, 6.27888155810987], [50, 6.27905195293134], [51, 6.27921242566217], [52, 6.27936373191775], [53, 6.27950655673371], [54, 6.27964152233139], [55, 6.27976919490448], [56, 6.27989009056548], [57, 6.28000468056866], [58, 6.28011339590843], [59, 6.28021663137708], [60, 6.28031474915326], [61, 6.28040808198228], [62, 6.28049693600038], [63, 6.28058159324784], [64, 6.28066231390951], [65, 6.28073933831592], [66, 6.28081288873398], [67, 6.28088317097197], [68, 6.28095037582058], [69, 6.28101468034898], [70, 6.28107624907209], [71, 6.28113523500380], [72, 6.28119178060838], [73, 6.28124601866145], [74, 6.28129807302995], [75, 6.28134805937994], [76, 6.28139608581961], [77, 6.28144225348418], [78, 6.28148665706876], [79, 6.28152938531425], [80, 6.28157052145098], [81, 6.28161014360431], [82, 6.28164832516580], [83, 6.28168513513327], [84, 6.28172063842270], [85, 6.28175489615463], [86, 6.28178796591732], [87, 6.28181990200894], [88, 6.28185075566056], [89, 6.28188057524174], [90, 6.28190940645017], [91, 6.28193729248688], [92, 6.28196427421809], [93, 6.28199039032508], [94, 6.28201567744282], [95, 6.28204017028856], [96, 6.28206390178102], [97, 6.28208690315105], [98, 6.28210920404441], [99, 6.28213083261740], [100, 6.28215181562566]]\n"
     ]
    }
   ],
   "source": [
    "print L"
   ]
  },
  {
   "cell_type": "code",
   "execution_count": 23,
   "metadata": {
    "collapsed": false
   },
   "outputs": [
    {
     "data": {
      "image/png": "[encoded data removed]",
      "text/plain": [
       "Graphics object consisting of 2 graphics primitives"
      ]
     },
     "execution_count": 23,
     "metadata": {},
     "output_type": "execute_result"
    }
   ],
   "source": [
    "line(L) + plot(2*pi,(x, 0, 100), color= 'green')"
   ]
  },
  {
   "cell_type": "markdown",
   "metadata": {},
   "source": [
    "## Ejercicio2 ##"
   ]
  },
  {
   "cell_type": "markdown",
   "metadata": {},
   "source": [
    "### Arquímides ###"
   ]
  },
  {
   "cell_type": "markdown",
   "metadata": {
    "collapsed": false
   },
   "source": [
    "\n",
    "Calcula hasta que n hay que iterar el algoritmo para obtener que la\n",
    "diferencia entre el perimetro del poligono circunscrito e inscrito < 10^-(n0)\n",
    "\n",
    "\n"
   ]
  },
  {
   "cell_type": "code",
   "execution_count": 27,
   "metadata": {
    "collapsed": true
   },
   "outputs": [],
   "source": [
    "def S(n):                            \n",
    "    if n == 6:\n",
    "        return 1/2\n",
    "    return sqrt( T(n)*S(n/2)/2 )\n"
   ]
  },
  {
   "cell_type": "code",
   "execution_count": 28,
   "metadata": {
    "collapsed": true
   },
   "outputs": [],
   "source": [
    "def T(n):\n",
    "    if n == 6:\n",
    "        return 1/sqrt(3).n(prec = 100)\n",
    "    return 1/( (1/T(n/2)) + (1/S(n/2)) )\n",
    "\n"
   ]
  },
  {
   "cell_type": "code",
   "execution_count": 30,
   "metadata": {
    "collapsed": false
   },
   "outputs": [
    {
     "data": {
      "text/html": [
       "<html><script type=\"math/tex; mode=display\">\\newcommand{\\Bold}[1]{\\mathbf{#1}}3.14159292738510</script></html>"
      ],
      "text/plain": [
       "3.14159292738510"
      ]
     },
     "metadata": {},
     "output_type": "display_data"
    },
    {
     "data": {
      "text/plain": [
       "6144"
      ]
     },
     "execution_count": 30,
     "metadata": {},
     "output_type": "execute_result"
    }
   ],
   "source": [
    "def comprobar_pi(n0) :\n",
    "    n = 6\n",
    "    r = T(6) - S(6)\n",
    "    while r >= 10^(-n0):\n",
    "        n = n*2\n",
    "        T0 = T(n)\n",
    "        S0 = S(n)\n",
    "        r = T0 - S0\n",
    "    \n",
    "    show(n*T0.n())\n",
    "    return n\n",
    "\n",
    "comprobar_pi(10)"
   ]
  },
  {
   "cell_type": "markdown",
   "metadata": {
    "collapsed": true
   },
   "source": [
    "### Ejercicio 3 ###"
   ]
  },
  {
   "cell_type": "markdown",
   "metadata": {},
   "source": [
    "Definimos la función de la arctg"
   ]
  },
  {
   "cell_type": "code",
   "execution_count": 119,
   "metadata": {
    "collapsed": true
   },
   "outputs": [],
   "source": [
    "def arctg(x, max):\n",
    "    var('j')\n",
    "    return sum((-1)**j*x**(2*j+1)/(2*j+1), j, 0, oo)"
   ]
  },
  {
   "cell_type": "code",
   "execution_count": 120,
   "metadata": {
    "collapsed": false
   },
   "outputs": [
    {
     "data": {
      "text/plain": [
       "1/4*pi"
      ]
     },
     "execution_count": 120,
     "metadata": {},
     "output_type": "execute_result"
    }
   ],
   "source": [
    "arctg(1, oo)"
   ]
  },
  {
   "cell_type": "code",
   "execution_count": 102,
   "metadata": {
    "collapsed": false
   },
   "outputs": [
    {
     "data": {
      "text/html": [
       "<html><script type=\"math/tex; mode=display\">\\newcommand{\\Bold}[1]{\\mathbf{#1}}7</script></html>"
      ],
      "text/plain": [
       "7"
      ]
     },
     "metadata": {},
     "output_type": "display_data"
    },
    {
     "data": {
      "text/html": [
       "<html><script type=\"math/tex; mode=display\">\\newcommand{\\Bold}[1]{\\mathbf{#1}}71535</script></html>"
      ],
      "text/plain": [
       "71535"
      ]
     },
     "metadata": {},
     "output_type": "display_data"
    }
   ],
   "source": [
    "def eficiencia_normal(prec, sup):\n",
    "\n",
    "    p = n(pi, prec = prec)\n",
    "    p = p/4\n",
    "    suma = 0\n",
    "    x = 1\n",
    "    for i in srange(0, sup+1):\n",
    "        suma = suma + (-1)^i * x^(2*i + 1) / (2*i + 1)\n",
    "        if p == suma:\n",
    "            return i\n",
    "    return -1\n",
    "\n",
    "def eficiencia_suma(prec, sup):\n",
    "    p = n(pi, prec = prec)\n",
    "    p = p/4\n",
    "    asuma = 0\n",
    "    bsuma = 0\n",
    "    a = 1/2\n",
    "    b = 1/3\n",
    "    for i in srange(0, sup+1):\n",
    "        asuma = asuma + (-1)^i *a^(2*i + 1) / (2*i + 1)\n",
    "        bsuma = bsuma + (-1)^i *b^(2*i + 1) / (2*i + 1)\n",
    "        if p == (asuma + bsuma):\n",
    "            return i\n",
    "    return -1\n",
    "pr = 18\n",
    "su = 100000\n",
    "show(eficiencia_suma(pr, su))\n",
    "show(eficiencia_normal(pr, su))\n",
    "show(p = n(pi, prec = pr))"
   ]
  },
  {
   "cell_type": "code",
   "execution_count": 101,
   "metadata": {
    "collapsed": false
   },
   "outputs": [
    {
     "data": {
      "image/png": "[encoded data removed]",
      "text/plain": [
       "Graphics object consisting of 1 graphics primitive"
      ]
     },
     "metadata": {},
     "output_type": "display_data"
    },
    {
     "data": {
      "image/png": "[encoded data removed]",
      "text/plain": [
       "Graphics object consisting of 1 graphics primitive"
      ]
     },
     "metadata": {},
     "output_type": "display_data"
    }
   ],
   "source": [
    "Lsuma = []\n",
    "Lnormal = []\n",
    "sup = 10000000\n",
    "for prec in srange(2, 20):\n",
    "    Lsuma.append((prec, eficiencia_suma(prec, sup)))\n",
    "    Lnormal.append((prec, eficiencia_normal(prec, sup)))\n",
    "show(line2d(Lsuma))\n",
    "show(line2d(Lnormal))"
   ]
  },
  {
   "cell_type": "markdown",
   "metadata": {},
   "source": [
    "Ambas gráficas muestran que con x < 1 la serie converge muchísimo más rápido a $\\pi$.\n",
    "\n",
    "Con x = 1 el crecimiento del número de sumandos que necesitamos con respecto a la precisión buscada es exponencial, y con x = 1/2, x= 1/3 la función parece una recta. ¿lo será? ¿y con qué pendiente?\n",
    "\n",
    "Comprobamos aumentando la precisión"
   ]
  },
  {
   "cell_type": "code",
   "execution_count": 104,
   "metadata": {
    "collapsed": false,
    "scrolled": true
   },
   "outputs": [
    {
     "data": {
      "image/png": "[encoded data removed]",
      "text/plain": [
       "Graphics object consisting of 1 graphics primitive"
      ]
     },
     "metadata": {},
     "output_type": "display_data"
    }
   ],
   "source": [
    "Lsuma = []\n",
    "sup = 1000\n",
    "for prec in srange(2, 2000):\n",
    "    Lsuma.append((prec, eficiencia_suma(prec, sup)))\n",
    "\n",
    "show(line2d(Lsuma))"
   ]
  },
  {
   "cell_type": "markdown",
   "metadata": {},
   "source": [
    "### Ejercicio 4###"
   ]
  },
  {
   "cell_type": "markdown",
   "metadata": {},
   "source": [
    "La funcion guarda en una lista el resultado de la serie asociado\n",
    "a cada limite superior entre 0 y un n dado"
   ]
  },
  {
   "cell_type": "code",
   "execution_count": 111,
   "metadata": {
    "collapsed": false
   },
   "outputs": [],
   "source": [
    "def suma1(n):\n",
    "    L = []\n",
    "    suma = 0\n",
    "    for i in srange(0, n+1):\n",
    "        a = 2*i\n",
    "        a = (factorial(a))^3\n",
    "        a = a * (42*i + 5)\n",
    "        a = a / (factorial(i)^6)\n",
    "        a = a / (16^(3*i + 1))\n",
    "        suma = suma + a\n",
    "        if i > 0:\n",
    "            L.append((i, (1/suma).n()))\n",
    "        \n",
    "    return L"
   ]
  },
  {
   "cell_type": "code",
   "execution_count": 112,
   "metadata": {
    "collapsed": false
   },
   "outputs": [
    {
     "data": {
      "text/plain": [
       "[(1, 3.14230916762562), (2, 3.14160219274531)]"
      ]
     },
     "execution_count": 112,
     "metadata": {},
     "output_type": "execute_result"
    }
   ],
   "source": [
    "suma1(2)"
   ]
  },
  {
   "cell_type": "code",
   "execution_count": 118,
   "metadata": {
    "collapsed": false
   },
   "outputs": [
    {
     "data": {
      "image/png": "[encoded data removed]",
      "text/plain": [
       "Graphics object consisting of 1 graphics primitive"
      ]
     },
     "metadata": {},
     "output_type": "display_data"
    }
   ],
   "source": [
    "show(line2d(suma1(n)))"
   ]
  },
  {
   "cell_type": "code",
   "execution_count": 178,
   "metadata": {
    "collapsed": true
   },
   "outputs": [],
   "source": [
    "def suma(n):\n",
    "    suma=0\n",
    "    for i in xsrange (0,n+1):\n",
    "        suma += ((factorial(2*i)**3)*(42*i+5))/(factorial(i)**6*(16**(3*i+1)))\n",
    "    return suma"
   ]
  },
  {
   "cell_type": "code",
   "execution_count": 181,
   "metadata": {
    "collapsed": true
   },
   "outputs": [],
   "source": [
    " def estimar(N):\n",
    "    L=[]\n",
    "    for i in xsrange(0,N+1):\n",
    "        L.append((pi-1/suma(10*i)).n(digits=100))\n",
    "    return L"
   ]
  },
  {
   "cell_type": "code",
   "execution_count": 183,
   "metadata": {
    "collapsed": false
   },
   "outputs": [
    {
     "data": {
      "text/plain": [
       "[-0.05840734641020676153735661672049711580283060062489417902505540769218359371379100137196517465788293203,\n",
       " -1.885653513937740756024361605142625249738665163194320060522641856028780681187189749636173896305901390e-20,\n",
       " -1.197293026266134981759042013032573596157518228278155216572497500399457021144336976744193803217832240e-38,\n",
       " -8.581992822547192573001623549858624176145944812352535232370566630865687332278544956363370885350274533e-57,\n",
       " -6.486021447367707287664994206187531004001889076789830872435677573112723799451428380302374010387933443e-75,\n",
       " -5.050487182303206457809868274005941361721961656980641781907825390534420213910143811278360234462545365e-93]"
      ]
     },
     "execution_count": 183,
     "metadata": {},
     "output_type": "execute_result"
    }
   ],
   "source": [
    "estimar(5)\n"
   ]
  },
  {
   "cell_type": "markdown",
   "metadata": {},
   "source": [
    "Como aumentan de 18 en 18 en el esponente vemos que cada vez obtenemos 18 cifras correctas de pi"
   ]
  },
  {
   "cell_type": "code",
   "execution_count": 295,
   "metadata": {
    "collapsed": true
   },
   "outputs": [],
   "source": [
    "def estimar_de1(N):\n",
    "    L=[]\n",
    "    for i in srange(0,N+1):\n",
    "        L.append(floor(-log(abs(pi-1/suma(i)))))\n",
    "    return L"
   ]
  },
  {
   "cell_type": "markdown",
   "metadata": {},
   "source": [
    "### Ejercicio 5###"
   ]
  },
  {
   "cell_type": "code",
   "execution_count": 261,
   "metadata": {
    "collapsed": true
   },
   "outputs": [],
   "source": [
    "def salamin_brent(n):\n",
    "    ver('a b c s p')\n",
    "    ao = 1\n",
    "    bo = sqrt(2)/2\n",
    "    so =1/2\n",
    "    for i in xsrange(n):\n",
    "        a, ao = (ao +bo)/2, a\n",
    "        b, bo = sqrt(ao*bo), b\n",
    "        c = a**2 - b**2\n",
    "        s, so= so - 2**j*c, s\n",
    "        p = 2*a**2/s\n",
    "    return p"
   ]
  },
  {
   "cell_type": "code",
   "execution_count": 262,
   "metadata": {
    "collapsed": true
   },
   "outputs": [],
   "source": [
    "def a(k):\n",
    "    if k==0:\n",
    "        return 1\n",
    "    return (a(k-1) + b(k-1))/2"
   ]
  },
  {
   "cell_type": "code",
   "execution_count": 263,
   "metadata": {
    "collapsed": true
   },
   "outputs": [],
   "source": [
    "def b(k):\n",
    "    if k==0:\n",
    "        return sqrt(2)/2\n",
    "    return sqrt(a(k-1)*b(k-1))"
   ]
  },
  {
   "cell_type": "code",
   "execution_count": 264,
   "metadata": {
    "collapsed": true
   },
   "outputs": [],
   "source": [
    "def c(k):\n",
    "    return (a(k))**2 - (b(k))**2"
   ]
  },
  {
   "cell_type": "code",
   "execution_count": 265,
   "metadata": {
    "collapsed": true
   },
   "outputs": [],
   "source": [
    "def s(k):\n",
    "    if k==0:\n",
    "        return 1/2\n",
    "    return s(k-1)-2**k*c(k)"
   ]
  },
  {
   "cell_type": "code",
   "execution_count": 266,
   "metadata": {
    "collapsed": true
   },
   "outputs": [],
   "source": [
    "def p(k):\n",
    "    return (2*a(k)**2)/s(k)"
   ]
  },
  {
   "cell_type": "code",
   "execution_count": 267,
   "metadata": {
    "collapsed": false
   },
   "outputs": [
    {
     "name": "stdout",
     "output_type": "stream",
     "text": [
      "CPU times: user 148 ms, sys: 4 ms, total: 152 ms\n",
      "Wall time: 147 ms\n"
     ]
    },
    {
     "data": {
      "text/plain": [
       "3.14159265358979323846264338325"
      ]
     },
     "execution_count": 267,
     "metadata": {},
     "output_type": "execute_result"
    }
   ],
   "source": [
    "time p(5).n(digits=30)"
   ]
  },
  {
   "cell_type": "code",
   "execution_count": 274,
   "metadata": {
    "collapsed": false
   },
   "outputs": [
    {
     "data": {
      "text/plain": [
       "[-1, -4, -10, -22, -48, -98]"
      ]
     },
     "execution_count": 274,
     "metadata": {},
     "output_type": "execute_result"
    }
   ],
   "source": [
    "L=[]\n",
    "for i in xsrange (0, 6):\n",
    "    x = floor(log(abs(pi-p(i))))\n",
    "    L.append(x)\n",
    "L"
   ]
  },
  {
   "cell_type": "markdown",
   "metadata": {},
   "source": [
    "se va duplicando con cada incremento de p"
   ]
  },
  {
   "cell_type": "code",
   "execution_count": 289,
   "metadata": {
    "collapsed": true
   },
   "outputs": [],
   "source": [
    "def aprox_pi2(n):\n",
    "    L=[]\n",
    "    for j in xsrange(0, n):\n",
    "        x = floor(-log(abs(pi-p(i))))\n",
    "        L.append(x)\n",
    "    return L"
   ]
  },
  {
   "cell_type": "code",
   "execution_count": 290,
   "metadata": {
    "collapsed": false
   },
   "outputs": [
    {
     "name": "stdout",
     "output_type": "stream",
     "text": [
      "CPU times: user 652 ms, sys: 8 ms, total: 660 ms\n",
      "Wall time: 629 ms\n"
     ]
    },
    {
     "data": {
      "text/plain": [
       "[97, 97, 97, 97, 97, 97, 97]"
      ]
     },
     "execution_count": 290,
     "metadata": {},
     "output_type": "execute_result"
    }
   ],
   "source": [
    "time aprox_pi2(7)"
   ]
  },
  {
   "cell_type": "code",
   "execution_count": 296,
   "metadata": {
    "collapsed": true
   },
   "outputs": [],
   "source": [
    "def aprox_1(n):\n",
    "    L=[]\n",
    "    for i in srange (0, n):\n",
    "        x = floor(-log(abs(pi-p(i))))\n",
    "        L.append(x)\n",
    "    return L"
   ]
  },
  {
   "cell_type": "code",
   "execution_count": 297,
   "metadata": {
    "collapsed": false
   },
   "outputs": [
    {
     "name": "stdout",
     "output_type": "stream",
     "text": [
      "CPU times: user 4 ms, sys: 0 ns, total: 4 ms\n",
      "Wall time: 1.45 ms\n"
     ]
    },
    {
     "data": {
      "text/plain": [
       "[2, 7, 11, 15, 20, 24]"
      ]
     },
     "execution_count": 297,
     "metadata": {},
     "output_type": "execute_result"
    }
   ],
   "source": [
    "time estimar_de1(5)"
   ]
  },
  {
   "cell_type": "code",
   "execution_count": 299,
   "metadata": {
    "collapsed": true
   },
   "outputs": [],
   "source": [
    "def aprox(N):\n",
    "    L=[]\n",
    "    for n in srange (0,N+1):\n",
    "        L.append([n, (1/suma(n)).n()])\n",
    "    return L"
   ]
  },
  {
   "cell_type": "code",
   "execution_count": 300,
   "metadata": {
    "collapsed": false
   },
   "outputs": [
    {
     "name": "stdout",
     "output_type": "stream",
     "text": [
      "CPU times: user 0 ns, sys: 0 ns, total: 0 ns\n",
      "Wall time: 2.06 ms\n"
     ]
    },
    {
     "data": {
      "text/plain": [
       "[[0, 3.20000000000000],\n",
       " [1, 3.14230916762562],\n",
       " [2, 3.14160219274531],\n",
       " [3, 3.14159278549850],\n",
       " [4, 3.14159265545752],\n",
       " [5, 3.14159265361667]]"
      ]
     },
     "execution_count": 300,
     "metadata": {},
     "output_type": "execute_result"
    }
   ],
   "source": [
    "time aprox(5)"
   ]
  },
  {
   "cell_type": "markdown",
   "metadata": {},
   "source": [
    "### Ejercicio 6 Chudnovsky ###"
   ]
  },
  {
   "cell_type": "code",
   "execution_count": 19,
   "metadata": {
    "collapsed": true
   },
   "outputs": [],
   "source": [
    "def F(n):\n",
    "    return ((-1)^n*(factorial(6*n))*(545140134*n+13591409))/(factorial(3*n)*(factorial(n)^3)*(640320^(3*n)))"
   ]
  },
  {
   "cell_type": "code",
   "execution_count": 33,
   "metadata": {
    "collapsed": true
   },
   "outputs": [],
   "source": [
    "def pi_chudnovski(digits=100):\n",
    "    k = 0\n",
    "    S = 0 \n",
    "    while 1:\n",
    "        S += F(k)\n",
    "        if floor(abs(10^digits*F(k))) == 0:\n",
    "            break\n",
    "        k += 1\n",
    "        \n",
    "    return (426880*sqrt(10005).n(digits=digits))/S"
   ]
  },
  {
   "cell_type": "code",
   "execution_count": 34,
   "metadata": {
    "collapsed": false
   },
   "outputs": [
    {
     "data": {
      "text/plain": [
       "3.1415926535897932384626433832795028841971693993751058209749445923078164062862090"
      ]
     },
     "execution_count": 34,
     "metadata": {},
     "output_type": "execute_result"
    }
   ],
   "source": [
    "pi_chudnovski(80)"
   ]
  },
  {
   "cell_type": "code",
   "execution_count": 35,
   "metadata": {
    "collapsed": false
   },
   "outputs": [],
   "source": [
    "def denominador(d):\n",
    "    '''Constantes que son siempre iguales en la ecuación'''\n",
    "    A = 545140134\n",
    "    B = 13591409\n",
    "    '''Sumas que acumulo en el bucle'''\n",
    "    s1 = 0\n",
    "    s2 = 0\n",
    "    denominador = B\n",
    "    '''Valores iniciales de las sumas a y b (para n = 0)'''\n",
    "    a = 1\n",
    "    b = 0\n",
    "    n = 1\n",
    "    while floor(abs(10^d * (B*a + A*b))) != 0:\n",
    "        cte = (-1)*(6*n)*(6*n - 2)*(6*n - 3)*(6*n - 4)*(6*n - 5)/((640320*n)^3*(3*n)*(3*n - 1)*(3*n - 2))\n",
    "        a = a * cte\n",
    "        b = a * n\n",
    "        denominador = denominador + (B*a + A*b)\n",
    "        n += 1\n",
    "    return denominador, n\n",
    "\n",
    "def pi_ch(d):\n",
    "    den = denominador(d)\n",
    "    return 426880*sqrt(10005).n(digits = d)/den[0] \n"
   ]
  },
  {
   "cell_type": "code",
   "execution_count": 36,
   "metadata": {
    "collapsed": false
   },
   "outputs": [
    {
     "data": {
      "text/plain": [
       "3.14"
      ]
     },
     "execution_count": 36,
     "metadata": {},
     "output_type": "execute_result"
    }
   ],
   "source": [
    "pi_ch(3)"
   ]
  },
  {
   "cell_type": "code",
   "execution_count": 37,
   "metadata": {
    "collapsed": false
   },
   "outputs": [
    {
     "data": {
      "text/html": [
       "<html><script type=\"math/tex; mode=display\">\\newcommand{\\Bold}[1]{\\mathbf{#1}}3.1</script></html>"
      ],
      "text/plain": [
       "3.1"
      ]
     },
     "metadata": {},
     "output_type": "display_data"
    },
    {
     "data": {
      "text/html": [
       "<html><script type=\"math/tex; mode=display\">\\newcommand{\\Bold}[1]{\\mathbf{#1}}3.14</script></html>"
      ],
      "text/plain": [
       "3.14"
      ]
     },
     "metadata": {},
     "output_type": "display_data"
    },
    {
     "data": {
      "text/html": [
       "<html><script type=\"math/tex; mode=display\">\\newcommand{\\Bold}[1]{\\mathbf{#1}}3.142</script></html>"
      ],
      "text/plain": [
       "3.142"
      ]
     },
     "metadata": {},
     "output_type": "display_data"
    },
    {
     "ename": "TypeError",
     "evalue": "'sage.rings.real_mpfr.RealNumber' object has no attribute '__getitem__'",
     "output_type": "error",
     "traceback": [
      "\u001b[1;31m---------------------------------------------------------------------------\u001b[0m",
      "\u001b[1;31mTypeError\u001b[0m                                 Traceback (most recent call last)",
      "\u001b[1;32m<ipython-input-37-f4f45cef7c33>\u001b[0m in \u001b[0;36m<module>\u001b[1;34m()\u001b[0m\n\u001b[0;32m      5\u001b[0m \u001b[1;33m\u001b[0m\u001b[0m\n\u001b[0;32m      6\u001b[0m \u001b[1;32mfor\u001b[0m \u001b[0mi\u001b[0m \u001b[1;32min\u001b[0m \u001b[0msrange\u001b[0m\u001b[1;33m(\u001b[0m\u001b[0mInteger\u001b[0m\u001b[1;33m(\u001b[0m\u001b[1;36m2\u001b[0m\u001b[1;33m)\u001b[0m\u001b[1;33m,\u001b[0m \u001b[0mInteger\u001b[0m\u001b[1;33m(\u001b[0m\u001b[1;36m400\u001b[0m\u001b[1;33m)\u001b[0m\u001b[1;33m)\u001b[0m\u001b[1;33m:\u001b[0m\u001b[1;33m\u001b[0m\u001b[0m\n\u001b[1;32m----> 7\u001b[1;33m     \u001b[0mL\u001b[0m\u001b[1;33m.\u001b[0m\u001b[0mappend\u001b[0m\u001b[1;33m(\u001b[0m\u001b[1;33m(\u001b[0m\u001b[0mi\u001b[0m\u001b[1;33m,\u001b[0m \u001b[0mpi_ch\u001b[0m\u001b[1;33m(\u001b[0m\u001b[0mi\u001b[0m\u001b[1;33m)\u001b[0m\u001b[1;33m[\u001b[0m\u001b[0mInteger\u001b[0m\u001b[1;33m(\u001b[0m\u001b[1;36m1\u001b[0m\u001b[1;33m)\u001b[0m\u001b[1;33m]\u001b[0m\u001b[1;33m)\u001b[0m\u001b[1;33m)\u001b[0m\u001b[1;33m\u001b[0m\u001b[0m\n\u001b[0m\u001b[0;32m      8\u001b[0m \u001b[1;33m\u001b[0m\u001b[0m\n\u001b[0;32m      9\u001b[0m \u001b[0mshow\u001b[0m\u001b[1;33m(\u001b[0m\u001b[0mline2d\u001b[0m\u001b[1;33m(\u001b[0m\u001b[0mL\u001b[0m\u001b[1;33m)\u001b[0m\u001b[1;33m)\u001b[0m\u001b[1;33m\u001b[0m\u001b[0m\n",
      "\u001b[1;31mTypeError\u001b[0m: 'sage.rings.real_mpfr.RealNumber' object has no attribute '__getitem__'"
     ]
    }
   ],
   "source": [
    "'''Esto se añade en la función anterior para calcular una gráfica '''\n",
    "L=[]\n",
    "for  i in srange(2,5):\n",
    "    show(pi_ch(i))\n",
    "    \n",
    "for i in srange(2, 400):\n",
    "    L.append((i, pi_ch(i)[1]))\n",
    "    \n",
    "show(line2d(L))\n",
    "\n",
    "var('x m n')\n",
    "model(x) = m * x + n\n",
    "find_fit(L, model)"
   ]
  },
  {
   "cell_type": "code",
   "execution_count": 38,
   "metadata": {
    "collapsed": false
   },
   "outputs": [
    {
     "data": {
      "text/plain": [
       "4.7224635351833482462292756316135638526852346034960184076174524317576232656985279e-14"
      ]
     },
     "execution_count": 38,
     "metadata": {},
     "output_type": "execute_result"
    }
   ],
   "source": [
    "pi_chudnovski(80)-pi_ch(80)\n"
   ]
  },
  {
   "cell_type": "markdown",
   "metadata": {},
   "source": [
    "Podemos ver que el primer método es más exacto"
   ]
  },
  {
   "cell_type": "markdown",
   "metadata": {},
   "source": [
    "### Ejercicio 7 Rabinowitz y Wagon###"
   ]
  },
  {
   "cell_type": "markdown",
   "metadata": {},
   "source": [
    "Implementa este calculo en Sage , teniendo en cuenta que una simplificacion como la de la seccion anterior es posible, y\n",
    "trata de entender cuantos sumandos son necesarios para obtener cada cifra adicional de pi."
   ]
  },
  {
   "cell_type": "code",
   "execution_count": 44,
   "metadata": {
    "collapsed": true
   },
   "outputs": [],
   "source": [
    "def pi_ra(n):\n",
    "    var('sum a b')\n",
    "    sum=0\n",
    "    L=[]\n",
    "    for i in xsrange (0,n):\n",
    "        a=(factorial(i)^2)*2^(i+1)\n",
    "        b=factorial(2*i+1)\n",
    "        sum += a/b\n",
    "        L.append([sum.n(100), i, pi.n(100)-sum.n(100)])\n",
    "    show (L)\n",
    "    return sum"
   ]
  },
  {
   "cell_type": "code",
   "execution_count": 45,
   "metadata": {
    "collapsed": false
   },
   "outputs": [
    {
     "data": {
      "text/html": [
       "<html><script type=\"math/tex; mode=display\">\\newcommand{\\Bold}[1]{\\mathbf{#1}}\\left[\\left[2.0000000000000000000000000000, 0, 1.1415926535897932384626433833\\right], \\left[2.6666666666666666666666666667, 1, 0.47492598692312657179597671661\\right], \\left[2.9333333333333333333333333333, 2, 0.20825932025645990512931004995\\right], \\left[3.0476190476190476190476190476, 3, 0.093973605970745619415024335661\\right], \\left[3.0984126984126984126984126984, 4, 0.043179955177094825764230684868\\right], \\left[3.1215007215007215007215007215, 5, 0.020091932089071737741142661780\\right], \\left[3.1321567321567321567321567322, 6, 0.0094359214330610817304866511220\\right], \\left[3.1371295371295371295371295371, 7, 0.0044631164602561089255138461510\\right], \\left[3.1394696806461512343865285042, 8, 0.0021229729436420040761148791041\\right], \\left[3.1405781696803368629994016991, 9, 0.0010144839094563754632416841887\\right], \\left[3.1411060216013776385293413157, 10, 0.00048663198841559993330206756001\\right], \\left[3.1413584725201362703045298280, 11, 0.00023418106965696815811355526031\\right], \\left[3.1414796489611404135566203139, 12, 0.00011300462865282490602306935797\\right], \\left[3.1415379931734757417891083257, 13, 0.000054660416317496673535057625806\\right], \\left[3.1415661593449479692116887451, 14, 0.000026494244845269250954638169881\\right], \\left[3.1415797881375958211903566900, 15, 0.000012865452197417272286693269308\\right], \\left[3.1415863960370614463921350875, 16, 6.2575527317920705082957430002 \\times 10^{-6}\\right], \\left[3.1415896055882304643472845949, 17, 3.0480015627741153587883724483 \\times 10^{-6}\\right], \\left[3.1415911669915018784876275985, 18, 1.4865982913599750157847874567 \\times 10^{-6}\\right], \\left[3.1415919276751469264021536772, 19, 7.2591464631206048970611889720 \\times 10^{-7}\\right], \\left[3.1415922987403396327019224960, 20, 3.5484945360576072088725479994 \\times 10^{-7}\\right], \\left[3.1415924799582244427552979657, 21, 1.7363156879570734541757647132 \\times 10^{-7}\\right], \\left[3.1415925685536347943369481953, 22, 8.5036158444125695187956656311 \\times 10^{-8}\\right], \\left[3.1415926119088356046854153290, 23, 4.1680957633777228054312111408 \\times 10^{-8}\\right], \\left[3.1415926331440360015907869863, 24, 2.0445757236871856397018112045 \\times 10^{-8}\\right], \\left[3.1415926435534479608581260340, 25, 1.0036345277604517349324851360 \\times 10^{-8}\\right], \\left[3.1415926486599519408760659441, 26, 4.9298412975865774391351092414 \\times 10^{-9}\\right], \\left[3.1415926511667811674303273546, 27, 2.4230120710323160286793594377 \\times 10^{-9}\\right], \\left[3.1415926523982060506499645387, 28, 1.1915871878126788445951689144 \\times 10^{-9}\\right], \\left[3.1415926530034826881647014597, 29, 5.8631055029794192360442066100 \\times 10^{-10}\\right], \\left[3.1415926533011597230080146995, 30, 2.8863351545462868377445698406 \\times 10^{-10}\\right], \\left[3.1415926534476357242801212143, 31, 1.4215751418252216893508658281 \\times 10^{-10}\\right], \\left[3.1415926535197469864448505755, 32, 7.0046252017792807785435441150 \\times 10^{-11}\\right], \\left[3.1415926535552644737797172758, 33, 3.4528764682926107517320049751 \\times 10^{-11}\\right], \\left[3.1415926535727658443505211571, 34, 1.7027394112122226226013584686 \\times 10^{-11}\\right], \\left[3.1415926535813932805473963098, 35, 8.3999579152470734762446889009 \\times 10^{-12}\\right], \\left[3.1415926535856479066170881660, 36, 4.1453318455552173239879416479 \\times 10^{-12}\\right], \\left[3.1415926535877468554781361483, 37, 2.0463829845072349590753765251 \\times 10^{-12}\\right], \\left[3.1415926535887827003706013864, 38, 1.0105380920419969067688167936 \\times 10^{-12}\\right], \\left[3.1415926535892940668365019469, 39, 4.9917162614143635045934888819 \\times 10^{-13}\\right], \\left[3.1415926535895465934863293842, 40, 2.4664497631399903780559679565 \\times 10^{-13}\\right], \\left[3.1415926535896713355663646244, 41, 1.2190289627875891901252929124 \\times 10^{-13}\\right], \\left[3.1415926535897329728294408607, 42, 6.0265633202522624612309114602 \\times 10^{-14}\\right], \\left[3.1415926535897634372238348625, 43, 2.9801238808520777809651159668 \\times 10^{-14}\\right], \\left[3.1415926535897784982727487511, 44, 1.4740189894632226957807091447 \\times 10^{-14}\\right], \\left[3.1415926535897859460441896850, 45, 7.2924184536983264164817317219 \\times 10^{-15}\\right], \\left[3.1415926535897896298881282114, 46, 3.6085745151718819035356157703 \\times 10^{-15}\\right], \\left[3.1415926535897914524214451666, 47, 1.7860411982166922701591035155 \\times 10^{-15}\\right], \\left[3.1415926535897923542936020104, 48, 8.8416904137288826184877118144 \\times 10^{-16}\\right], \\left[3.1415926535897928006747705492, 49, 4.3778787283403481669205490982 \\times 10^{-16}\\right], \\left[3.1415926535897930216555470536, 50, 2.1680709632965286031059761220 \\times 10^{-16}\\right], \\left[3.1415926535897931310732130898, 51, 1.0738943029350088628289401218 \\times 10^{-16}\\right], \\left[3.1415926535897931852610096029, 52, 5.3201633780360158361982089909 \\times 10^{-17}\\right], \\left[3.1415926535897932121016938571, 53, 2.6360949526186203254077835715 \\times 10^{-17}\\right], \\left[3.1415926535897932253989135793, 54, 1.3063729803936883527316471244 \\times 10^{-17}\\right], \\left[3.1415926535897932319876260543, 55, 6.4750173289471173447428002524 \\times 10^{-18}\\right], \\left[3.1415926535897932352528286968, 56, 3.2098146864754577603563460079 \\times 10^{-18}\\right], \\left[3.1415926535897932368712334848, 57, 1.5914098984663388092405732915 \\times 10^{-18}\\right], \\left[3.1415926535897932376735196190, 58, 7.8912376424221213288596589854 \\times 10^{-19}\\right], \\left[3.1415926535897932380712917360, 59, 3.9135164727148162732576377606 \\times 10^{-19}\\right], \\left[3.1415926535897932382685341081, 60, 1.9410927522118362606487183402 \\times 10^{-19}\\right], \\left[3.1415926535897932383663534958, 61, 9.6289887454811141663170863348 \\times 10^{-20}\\right], \\left[3.1415926535897932384148719122, 62, 4.7771471123902079750346656029 \\times 10^{-20}\\right], \\left[3.1415926535897932384389401029, 63, 2.3703280344434195442719953404 \\times 10^{-20}\\right], \\left[3.1415926535897932384508809108, 64, 1.1762472518307061848923796460 \\times 10^{-20}\\right], \\left[3.1415926535897932384568057391, 65, 5.8376442046946358539268196480 \\times 10^{-21}\\right], \\left[3.1415926535897932384597458794, 66, 2.8975038416253693505067118976 \\times 10^{-21}\\right], \\left[3.1415926535897932384612050602, 67, 1.4383230676274143578021365287 \\times 10^{-21}\\right], \\left[3.1415926535897932384619293251, 68, 7.1405815753728269767034177956 \\times 10^{-22}\\right], \\left[3.1415926535897932384622888523, 69, 3.5453097242969443500466662823 \\times 10^{-22}\\right], \\left[3.1415926535897932384624673410, 70, 1.7604229742787324190114521768 \\times 10^{-22}\\right], \\left[3.1415926535897932384625559612, 71, 8.7422048299466523534952671583 \\times 10^{-23}\\right], \\left[3.1415926535897932384625999658, 72, 4.3417509517284059020989572297 \\times 10^{-23}\\right], \\left[3.1415926535897932384626218184, 73, 2.1564917016627651101943233209 \\times 10^{-23}\\right], \\left[3.1415926535897932384626326713, 74, 1.0711948542883361073780305482 \\times 10^{-23}\\right], \\left[3.1415926535897932384626380619, 75, 5.3214032311312749155297891483 \\times 10^{-24}\\right], \\left[3.1415926535897932384626407395, 76, 2.6437474169906274720429857038 \\times 10^{-24}\\right], \\left[3.1415926535897932384626420697, 77, 1.3135543813888529455216207625 \\times 10^{-24}\\right], \\left[3.1415926535897932384626427306, 78, 6.5269720209262339970322092109 \\times 10^{-25}\\right], \\left[3.1415926535897932384626430589, 79, 3.2434489434705032986586466999 \\times 10^{-25}\\right], \\left[3.1415926535897932384626432221, 80, 1.6118952648561978422338932120 \\times 10^{-25}\\right], \\left[3.1415926535897932384626433032, 81, 8.0110402647004190863171859262 \\times 10^{-26}\\right], \\left[3.1415926535897932384626433435, 82, 3.9818543051935791889962411061 \\times 10^{-26}\\right], \\left[3.1415926535897932384626433635, 83, 1.9794097833805628221391093160 \\times 10^{-26}\\right], \\left[3.1415926535897932384626433734, 84, 9.8386732099164592370950786662 \\times 10^{-27}\\right], \\left[3.1415926535897932384626433784, 85, 4.8909376123702731935527171048 \\times 10^{-27}\\right], \\left[3.1415926535897932384626433808, 86, 2.4328470317016004078897708953 \\times 10^{-27}\\right], \\left[3.1415926535897932384626433821, 87, 1.2085349067985900858907681620 \\times 10^{-27}\\right], \\left[3.1415926535897932384626433827, 88, 5.9953428796796897211291370961 \\times 10^{-28}\\right], \\left[3.1415926535897932384626433830, 89, 2.9976714398398448605645685481 \\times 10^{-28}\\right], \\left[3.1415926535897932384626433831, 90, 1.4830585018155021941740497027 \\times 10^{-28}\\right], \\left[3.1415926535897932384626433832, 91, 7.2575203280333086097879028006 \\times 10^{-29}\\right], \\left[3.1415926535897932384626433832, 92, 3.7865323450608566659762971134 \\times 10^{-29}\\right], \\left[3.1415926535897932384626433833, 93, 1.8932661725304283329881485567 \\times 10^{-29}\\right], \\left[3.1415926535897932384626433833, 94, 9.4663308626521416649407427834 \\times 10^{-30}\\right], \\left[3.1415926535897932384626433833, 95, 3.1554436208840472216469142611 \\times 10^{-30}\\right], \\left[3.1415926535897932384626433833, 96, 3.1554436208840472216469142611 \\times 10^{-30}\\right], \\left[3.1415926535897932384626433833, 97, 0.00000000000000000000000000000\\right], \\left[3.1415926535897932384626433833, 98, 0.00000000000000000000000000000\\right], \\left[3.1415926535897932384626433833, 99, 0.00000000000000000000000000000\\right]\\right]</script></html>"
      ],
      "text/plain": [
       "[[2.0000000000000000000000000000, 0, 1.1415926535897932384626433833],\n",
       " [2.6666666666666666666666666667, 1, 0.47492598692312657179597671661],\n",
       " [2.9333333333333333333333333333, 2, 0.20825932025645990512931004995],\n",
       " [3.0476190476190476190476190476, 3, 0.093973605970745619415024335661],\n",
       " [3.0984126984126984126984126984, 4, 0.043179955177094825764230684868],\n",
       " [3.1215007215007215007215007215, 5, 0.020091932089071737741142661780],\n",
       " [3.1321567321567321567321567322, 6, 0.0094359214330610817304866511220],\n",
       " [3.1371295371295371295371295371, 7, 0.0044631164602561089255138461510],\n",
       " [3.1394696806461512343865285042, 8, 0.0021229729436420040761148791041],\n",
       " [3.1405781696803368629994016991, 9, 0.0010144839094563754632416841887],\n",
       " [3.1411060216013776385293413157, 10, 0.00048663198841559993330206756001],\n",
       " [3.1413584725201362703045298280, 11, 0.00023418106965696815811355526031],\n",
       " [3.1414796489611404135566203139, 12, 0.00011300462865282490602306935797],\n",
       " [3.1415379931734757417891083257, 13, 0.000054660416317496673535057625806],\n",
       " [3.1415661593449479692116887451, 14, 0.000026494244845269250954638169881],\n",
       " [3.1415797881375958211903566900, 15, 0.000012865452197417272286693269308],\n",
       " [3.1415863960370614463921350875, 16, 6.2575527317920705082957430002e-6],\n",
       " [3.1415896055882304643472845949, 17, 3.0480015627741153587883724483e-6],\n",
       " [3.1415911669915018784876275985, 18, 1.4865982913599750157847874567e-6],\n",
       " [3.1415919276751469264021536772, 19, 7.2591464631206048970611889720e-7],\n",
       " [3.1415922987403396327019224960, 20, 3.5484945360576072088725479994e-7],\n",
       " [3.1415924799582244427552979657, 21, 1.7363156879570734541757647132e-7],\n",
       " [3.1415925685536347943369481953, 22, 8.5036158444125695187956656311e-8],\n",
       " [3.1415926119088356046854153290, 23, 4.1680957633777228054312111408e-8],\n",
       " [3.1415926331440360015907869863, 24, 2.0445757236871856397018112045e-8],\n",
       " [3.1415926435534479608581260340, 25, 1.0036345277604517349324851360e-8],\n",
       " [3.1415926486599519408760659441, 26, 4.9298412975865774391351092414e-9],\n",
       " [3.1415926511667811674303273546, 27, 2.4230120710323160286793594377e-9],\n",
       " [3.1415926523982060506499645387, 28, 1.1915871878126788445951689144e-9],\n",
       " [3.1415926530034826881647014597, 29, 5.8631055029794192360442066100e-10],\n",
       " [3.1415926533011597230080146995, 30, 2.8863351545462868377445698406e-10],\n",
       " [3.1415926534476357242801212143, 31, 1.4215751418252216893508658281e-10],\n",
       " [3.1415926535197469864448505755, 32, 7.0046252017792807785435441150e-11],\n",
       " [3.1415926535552644737797172758, 33, 3.4528764682926107517320049751e-11],\n",
       " [3.1415926535727658443505211571, 34, 1.7027394112122226226013584686e-11],\n",
       " [3.1415926535813932805473963098, 35, 8.3999579152470734762446889009e-12],\n",
       " [3.1415926535856479066170881660, 36, 4.1453318455552173239879416479e-12],\n",
       " [3.1415926535877468554781361483, 37, 2.0463829845072349590753765251e-12],\n",
       " [3.1415926535887827003706013864, 38, 1.0105380920419969067688167936e-12],\n",
       " [3.1415926535892940668365019469, 39, 4.9917162614143635045934888819e-13],\n",
       " [3.1415926535895465934863293842, 40, 2.4664497631399903780559679565e-13],\n",
       " [3.1415926535896713355663646244, 41, 1.2190289627875891901252929124e-13],\n",
       " [3.1415926535897329728294408607, 42, 6.0265633202522624612309114602e-14],\n",
       " [3.1415926535897634372238348625, 43, 2.9801238808520777809651159668e-14],\n",
       " [3.1415926535897784982727487511, 44, 1.4740189894632226957807091447e-14],\n",
       " [3.1415926535897859460441896850, 45, 7.2924184536983264164817317219e-15],\n",
       " [3.1415926535897896298881282114, 46, 3.6085745151718819035356157703e-15],\n",
       " [3.1415926535897914524214451666, 47, 1.7860411982166922701591035155e-15],\n",
       " [3.1415926535897923542936020104, 48, 8.8416904137288826184877118144e-16],\n",
       " [3.1415926535897928006747705492, 49, 4.3778787283403481669205490982e-16],\n",
       " [3.1415926535897930216555470536, 50, 2.1680709632965286031059761220e-16],\n",
       " [3.1415926535897931310732130898, 51, 1.0738943029350088628289401218e-16],\n",
       " [3.1415926535897931852610096029, 52, 5.3201633780360158361982089909e-17],\n",
       " [3.1415926535897932121016938571, 53, 2.6360949526186203254077835715e-17],\n",
       " [3.1415926535897932253989135793, 54, 1.3063729803936883527316471244e-17],\n",
       " [3.1415926535897932319876260543, 55, 6.4750173289471173447428002524e-18],\n",
       " [3.1415926535897932352528286968, 56, 3.2098146864754577603563460079e-18],\n",
       " [3.1415926535897932368712334848, 57, 1.5914098984663388092405732915e-18],\n",
       " [3.1415926535897932376735196190, 58, 7.8912376424221213288596589854e-19],\n",
       " [3.1415926535897932380712917360, 59, 3.9135164727148162732576377606e-19],\n",
       " [3.1415926535897932382685341081, 60, 1.9410927522118362606487183402e-19],\n",
       " [3.1415926535897932383663534958, 61, 9.6289887454811141663170863348e-20],\n",
       " [3.1415926535897932384148719122, 62, 4.7771471123902079750346656029e-20],\n",
       " [3.1415926535897932384389401029, 63, 2.3703280344434195442719953404e-20],\n",
       " [3.1415926535897932384508809108, 64, 1.1762472518307061848923796460e-20],\n",
       " [3.1415926535897932384568057391, 65, 5.8376442046946358539268196480e-21],\n",
       " [3.1415926535897932384597458794, 66, 2.8975038416253693505067118976e-21],\n",
       " [3.1415926535897932384612050602, 67, 1.4383230676274143578021365287e-21],\n",
       " [3.1415926535897932384619293251, 68, 7.1405815753728269767034177956e-22],\n",
       " [3.1415926535897932384622888523, 69, 3.5453097242969443500466662823e-22],\n",
       " [3.1415926535897932384624673410, 70, 1.7604229742787324190114521768e-22],\n",
       " [3.1415926535897932384625559612, 71, 8.7422048299466523534952671583e-23],\n",
       " [3.1415926535897932384625999658, 72, 4.3417509517284059020989572297e-23],\n",
       " [3.1415926535897932384626218184, 73, 2.1564917016627651101943233209e-23],\n",
       " [3.1415926535897932384626326713, 74, 1.0711948542883361073780305482e-23],\n",
       " [3.1415926535897932384626380619, 75, 5.3214032311312749155297891483e-24],\n",
       " [3.1415926535897932384626407395, 76, 2.6437474169906274720429857038e-24],\n",
       " [3.1415926535897932384626420697, 77, 1.3135543813888529455216207625e-24],\n",
       " [3.1415926535897932384626427306, 78, 6.5269720209262339970322092109e-25],\n",
       " [3.1415926535897932384626430589, 79, 3.2434489434705032986586466999e-25],\n",
       " [3.1415926535897932384626432221, 80, 1.6118952648561978422338932120e-25],\n",
       " [3.1415926535897932384626433032, 81, 8.0110402647004190863171859262e-26],\n",
       " [3.1415926535897932384626433435, 82, 3.9818543051935791889962411061e-26],\n",
       " [3.1415926535897932384626433635, 83, 1.9794097833805628221391093160e-26],\n",
       " [3.1415926535897932384626433734, 84, 9.8386732099164592370950786662e-27],\n",
       " [3.1415926535897932384626433784, 85, 4.8909376123702731935527171048e-27],\n",
       " [3.1415926535897932384626433808, 86, 2.4328470317016004078897708953e-27],\n",
       " [3.1415926535897932384626433821, 87, 1.2085349067985900858907681620e-27],\n",
       " [3.1415926535897932384626433827, 88, 5.9953428796796897211291370961e-28],\n",
       " [3.1415926535897932384626433830, 89, 2.9976714398398448605645685481e-28],\n",
       " [3.1415926535897932384626433831, 90, 1.4830585018155021941740497027e-28],\n",
       " [3.1415926535897932384626433832, 91, 7.2575203280333086097879028006e-29],\n",
       " [3.1415926535897932384626433832, 92, 3.7865323450608566659762971134e-29],\n",
       " [3.1415926535897932384626433833, 93, 1.8932661725304283329881485567e-29],\n",
       " [3.1415926535897932384626433833, 94, 9.4663308626521416649407427834e-30],\n",
       " [3.1415926535897932384626433833, 95, 3.1554436208840472216469142611e-30],\n",
       " [3.1415926535897932384626433833, 96, 3.1554436208840472216469142611e-30],\n",
       " [3.1415926535897932384626433833, 97, 0.00000000000000000000000000000],\n",
       " [3.1415926535897932384626433833, 98, 0.00000000000000000000000000000],\n",
       " [3.1415926535897932384626433833, 99, 0.00000000000000000000000000000]]"
      ]
     },
     "metadata": {},
     "output_type": "display_data"
    },
    {
     "data": {
      "text/plain": [
       "3.1415926535898"
      ]
     },
     "execution_count": 45,
     "metadata": {},
     "output_type": "execute_result"
    }
   ],
   "source": [
    "(pi_ra(100)).n(50)"
   ]
  },
  {
   "cell_type": "markdown",
   "metadata": {},
   "source": [
    "A partir de 97 sumandos es necesario para obtener cada cifra decimal"
   ]
  },
  {
   "cell_type": "markdown",
   "metadata": {},
   "source": [
    "### Ejercicio 8 ###"
   ]
  },
  {
   "cell_type": "markdown",
   "metadata": {},
   "source": [
    "Calcular la cifra que ocupa el lugar x de pi"
   ]
  },
  {
   "cell_type": "markdown",
   "metadata": {},
   "source": [
    "Sabiendo que tenemos pi = 1/16^k*(4/(8*k+1)-2/(8*k+4)-1/(8*k+5)-4/(8*k+6))   =>   16^n*pi = 16^n-k*(4/(8*k+1)-2/(8*k+4)-1/(8*k+5)-4/(8*k+6)) y las funciones que nos dan hacer lo mismo para:\n",
    "            \n",
    "            log(2) = 1/(k*2^k)   =>  2^n*log(2) = 2^n-k*(1/k)"
   ]
  },
  {
   "cell_type": "code",
   "execution_count": 50,
   "metadata": {
    "collapsed": true
   },
   "outputs": [],
   "source": [
    "def F0(n):\n",
    "    '''Sumandos con n-k no negativo'''\n",
    "    S =RR(0.0)\n",
    "    k = 1\n",
    "    while k <= n:\n",
    "        r = k\n",
    "        S+=RR(power_mod(2,n-k,r)/r)-floor(RR(power_mod(2,n-k,r)/r)) \n",
    "        k += 1\n",
    "    return RR(S)"
   ]
  },
  {
   "cell_type": "code",
   "execution_count": 51,
   "metadata": {
    "collapsed": true
   },
   "outputs": [],
   "source": [
    "def F1(n):\n",
    "    '''Resto de los sumandos'''\n",
    "    S =RR(0.0)\n",
    "    '''porque n - (n+1) sera el primer momento en el que sera negativo el exp'''\n",
    "    k = n+1\n",
    "    while 1:\n",
    "        r = k\n",
    "        nS = S+ RR(2^(n-k)/r)\n",
    "        if S == nS:\n",
    "            break\n",
    "        else:\n",
    "            S = nS\n",
    "        k += 1\n",
    "    return RR(S)"
   ]
  },
  {
   "cell_type": "code",
   "execution_count": 52,
   "metadata": {
    "collapsed": true
   },
   "outputs": [],
   "source": [
    "def S(n):\n",
    "    return RR(F0(n)+F1(n))"
   ]
  },
  {
   "cell_type": "code",
   "execution_count": 53,
   "metadata": {
    "collapsed": true
   },
   "outputs": [],
   "source": [
    "def cifra_pi(n):\n",
    "    n -= 1\n",
    "    x = RR(S(n))\n",
    "    return (x-floor(x)).str(base=2)"
   ]
  },
  {
   "cell_type": "code",
   "execution_count": 54,
   "metadata": {
    "collapsed": false
   },
   "outputs": [
    {
     "data": {
      "text/plain": [
       "'0.10001011100100001011111110111110100011100111101111001'"
      ]
     },
     "execution_count": 54,
     "metadata": {},
     "output_type": "execute_result"
    }
   ],
   "source": [
    "cifra_pi(4)"
   ]
  },
  {
   "cell_type": "markdown",
   "metadata": {},
   "source": [
    "### Ejercicio 9 ###"
   ]
  },
  {
   "cell_type": "code",
   "execution_count": 55,
   "metadata": {
    "collapsed": true
   },
   "outputs": [],
   "source": [
    "def aproxracionalpi_01(k):\n",
    "    L1=[]\n",
    "    L2=[]\n",
    "    for b in srange(10^(k-1),10^k):\n",
    "        Lb=[]\n",
    "        for a in srange(ceil(3.14*b),floor(3.142*b)):\n",
    "            Lb.append(pi-a/b)\n",
    "        Lb.sort()\n",
    "        for a in srange(ceil(3.14*b),floor(3.142*b)):\n",
    "            if Lb[0]==(pi-a/b):\n",
    "                L1.append(a/b)\n",
    "                L2.append(pi-a/b)\n",
    "    L2.sort()\n",
    "    for h in srange(len(L1)):\n",
    "        if L2[0]==(pi-L1[h]):\n",
    "            return L1[h]"
   ]
  },
  {
   "cell_type": "code",
   "execution_count": 57,
   "metadata": {
    "collapsed": false
   },
   "outputs": [
    {
     "data": {
      "text/plain": [
       "3119/993"
      ]
     },
     "execution_count": 57,
     "metadata": {},
     "output_type": "execute_result"
    }
   ],
   "source": [
    "aproxracionalpi_01(3)"
   ]
  },
  {
   "cell_type": "markdown",
   "metadata": {},
   "source": [
    "escribir un codigo q tomando un r>1  y un numero dado de k pasos halle los a0................ak de la fraccion continua de r\n",
    "\n",
    "me daba un error de punto flotante asiq como n sabia que era he reservado 64 bits para cada numero del que queremos saber su fraccion continua , \n",
    "\n",
    "este programa puede tener errores a partir de k=6"
   ]
  },
  {
   "cell_type": "code",
   "execution_count": 62,
   "metadata": {
    "collapsed": true
   },
   "outputs": [],
   "source": [
    "def fc(r,k):\n",
    "    b=r.n(prec=64)\n",
    "    L1=[]\n",
    "    a=b\n",
    "    for j in srange(1,k+1):\n",
    "        if a==0:\n",
    "            return L1\n",
    "        if a!=0:\n",
    "            c=floor(a)\n",
    "            L1.append(c)\n",
    "            a=((a-c)**(-1))\n",
    "    return L1"
   ]
  },
  {
   "cell_type": "code",
   "execution_count": 63,
   "metadata": {
    "collapsed": false
   },
   "outputs": [
    {
     "data": {
      "text/plain": [
       "[1, 3, 1, 1, 2, 1, 1]"
      ]
     },
     "execution_count": 63,
     "metadata": {},
     "output_type": "execute_result"
    }
   ],
   "source": [
    "fc(55/43,7)"
   ]
  },
  {
   "cell_type": "code",
   "execution_count": null,
   "metadata": {
    "collapsed": true
   },
   "outputs": [],
   "source": []
  },
  {
   "cell_type": "code",
   "execution_count": 64,
   "metadata": {
    "collapsed": true
   },
   "outputs": [],
   "source": [
    "def FContinuaF(n,m):\n",
    "    l=[]\n",
    "    while m>0:\n",
    "        l.append(n//m)\n",
    "        n,m=m,n%m\n",
    "    return l"
   ]
  },
  {
   "cell_type": "code",
   "execution_count": 65,
   "metadata": {
    "collapsed": false
   },
   "outputs": [
    {
     "data": {
      "text/plain": [
       "[1, 2, 2]"
      ]
     },
     "execution_count": 65,
     "metadata": {},
     "output_type": "execute_result"
    }
   ],
   "source": [
    "FContinuaF(7,5)\n"
   ]
  },
  {
   "cell_type": "code",
   "execution_count": 66,
   "metadata": {
    "collapsed": false
   },
   "outputs": [
    {
     "data": {
      "text/plain": [
       "[55/301, 1, 6]"
      ]
     },
     "execution_count": 66,
     "metadata": {},
     "output_type": "execute_result"
    }
   ],
   "source": [
    "FContinuaF(55/43, 7)"
   ]
  },
  {
   "cell_type": "code",
   "execution_count": null,
   "metadata": {
    "collapsed": true
   },
   "outputs": [],
   "source": []
  }
 ],
 "metadata": {
  "kernelspec": {
   "display_name": "SageMath 7.3",
   "language": "",
   "name": "sagemath"
  },
  "language_info": {
   "codemirror_mode": {
    "name": "ipython",
    "version": 2
   },
   "file_extension": ".py",
   "mimetype": "text/x-python",
   "name": "python",
   "nbconvert_exporter": "python",
   "pygments_lexer": "ipython2",
   "version": "2.7.10"
  }
 },
 "nbformat": 4,
 "nbformat_minor": 0
}
