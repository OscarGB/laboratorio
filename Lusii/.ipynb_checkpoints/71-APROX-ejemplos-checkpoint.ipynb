{
 "cells": [
  {
   "cell_type": "markdown",
   "metadata": {},
   "source": [
    "<h4>Ejemplo -1</h4>"
   ]
  },
  {
   "cell_type": "code",
   "execution_count": 1,
   "metadata": {
    "collapsed": false
   },
   "outputs": [],
   "source": [
    "NR0 = RealField(prec=2048)"
   ]
  },
  {
   "cell_type": "code",
   "execution_count": 2,
   "metadata": {
    "collapsed": false
   },
   "outputs": [
    {
     "data": {
      "text/plain": [
       "3.1415926535897932384626433832795028841971693993751058209749445923078164062862089986280348\n",
       "253421170679821480865132823066470938446095505822317253594081284811174502841027019385211055\n",
       "596446229489549303819644288109756659334461284756482337867831652712019091456485669234603486\n",
       "104543266482133936072602491412737245870066063155881748815209209628292540917153643678925903\n",
       "600113305305488204665213841469519415116094330572703657595919530921861173819326117931051185\n",
       "480744623799627495673518857527248912279381830119491298336733624406566430860213949463952247\n",
       "37190702179860943702770539217176293176752384674818467669405132000568127145264"
      ]
     },
     "execution_count": 2,
     "metadata": {},
     "output_type": "execute_result"
    }
   ],
   "source": [
    "NR0(pi)"
   ]
  },
  {
   "cell_type": "code",
   "execution_count": 3,
   "metadata": {
    "collapsed": false
   },
   "outputs": [],
   "source": [
    "C = str(NR0(pi))"
   ]
  },
  {
   "cell_type": "code",
   "execution_count": 4,
   "metadata": {
    "collapsed": false
   },
   "outputs": [
    {
     "data": {
      "text/plain": [
       "617"
      ]
     },
     "execution_count": 4,
     "metadata": {},
     "output_type": "execute_result"
    }
   ],
   "source": [
    "len(C)"
   ]
  },
  {
   "cell_type": "code",
   "execution_count": 5,
   "metadata": {
    "collapsed": false
   },
   "outputs": [
    {
     "data": {
      "text/plain": [
       "'3.'"
      ]
     },
     "execution_count": 5,
     "metadata": {},
     "output_type": "execute_result"
    }
   ],
   "source": [
    "C[:2]"
   ]
  },
  {
   "cell_type": "code",
   "execution_count": 6,
   "metadata": {
    "collapsed": false
   },
   "outputs": [
    {
     "data": {
      "text/plain": [
       "3.32467532467532"
      ]
     },
     "execution_count": 6,
     "metadata": {},
     "output_type": "execute_result"
    }
   ],
   "source": [
    "(2048/(617-1)).n() #bits por cifra en promedio"
   ]
  },
  {
   "cell_type": "code",
   "execution_count": 7,
   "metadata": {
    "collapsed": false
   },
   "outputs": [
    {
     "data": {
      "text/plain": [
       "3.1415926535897932384626433832795028841971693993751058209749445923078164062862089986280348\n",
       "253421170679821480865132823066470938446095505822317253594081284811174502841027019385211055\n",
       "596446229489549303819644288109756659334461284756482337867831652712019091456485669234603486\n",
       "104543266482133936072602491412737245870066063155881748815209209628292540917153643678925903\n",
       "600113305305488204665213841469519415116094330572703657595919530921861173819326117931051185\n",
       "480744623799627495673518857527248912279381830119491298336733624406566430860213949463952247\n",
       "37190702179860943702770539217176293176752384674818467669405132000568127145264"
      ]
     },
     "execution_count": 7,
     "metadata": {},
     "output_type": "execute_result"
    }
   ],
   "source": [
    "N(pi,digits=616)"
   ]
  },
  {
   "cell_type": "markdown",
   "metadata": {},
   "source": [
    "<h4>Ejemplo 0</h4>"
   ]
  },
  {
   "cell_type": "code",
   "execution_count": 8,
   "metadata": {
    "collapsed": false
   },
   "outputs": [
    {
     "data": {
      "text/plain": [
       "False"
      ]
     },
     "execution_count": 8,
     "metadata": {},
     "output_type": "execute_result"
    }
   ],
   "source": [
    "1.1+1.1+1.1==3.3 #No son iguales ¿Por qué?"
   ]
  },
  {
   "cell_type": "code",
   "execution_count": 9,
   "metadata": {
    "collapsed": false
   },
   "outputs": [
    {
     "data": {
      "text/plain": [
       "False"
      ]
     },
     "execution_count": 9,
     "metadata": {},
     "output_type": "execute_result"
    }
   ],
   "source": [
    "bool(1.1+1.1+1.1==3.3+0.0)"
   ]
  },
  {
   "cell_type": "code",
   "execution_count": 10,
   "metadata": {
    "collapsed": false
   },
   "outputs": [
    {
     "data": {
      "text/plain": [
       "True"
      ]
     },
     "execution_count": 10,
     "metadata": {},
     "output_type": "execute_result"
    }
   ],
   "source": [
    "type(1.1+1.1+1.1)==type(3.3+0.0)"
   ]
  },
  {
   "cell_type": "code",
   "execution_count": 11,
   "metadata": {
    "collapsed": false
   },
   "outputs": [
    {
     "data": {
      "text/plain": [
       "4.44089209850063e-16"
      ]
     },
     "execution_count": 11,
     "metadata": {},
     "output_type": "execute_result"
    }
   ],
   "source": [
    "1.1+1.1+1.1-3.3"
   ]
  },
  {
   "cell_type": "markdown",
   "metadata": {},
   "source": [
    "<p>Debido a los errores de redondeo, $1.1+1.1+1.1-3.3 $ resulta ser, para el ordenador, &nbsp;del orden de $4\\cdot 10^{-16}$ y, por tanto no es cero. Cuando preguntamos a SAGE si dos enteros o racionales son iguales la respuesta es fiable, si en cambio son decimales NO.</p>"
   ]
  },
  {
   "cell_type": "code",
   "execution_count": 12,
   "metadata": {
    "collapsed": false
   },
   "outputs": [],
   "source": [
    "R = RealField(2048)"
   ]
  },
  {
   "cell_type": "code",
   "execution_count": 13,
   "metadata": {
    "collapsed": false
   },
   "outputs": [
    {
     "data": {
      "text/plain": [
       "4.4408920985006261616945266723632812500000000000000000000000000000000000000000000000000000\n",
       "000000000000000000000000000000000000000000000000000000000000000000000000000000000000000000\n",
       "000000000000000000000000000000000000000000000000000000000000000000000000000000000000000000\n",
       "000000000000000000000000000000000000000000000000000000000000000000000000000000000000000000\n",
       "000000000000000000000000000000000000000000000000000000000000000000000000000000000000000000\n",
       "000000000000000000000000000000000000000000000000000000000000000000000000000000000000000000\n",
       "00000000000000000000000000000000000000000000000000000000000000000000000000000e-16"
      ]
     },
     "execution_count": 13,
     "metadata": {},
     "output_type": "execute_result"
    }
   ],
   "source": [
    "R(1.1+1.1+1.1-3.3)"
   ]
  },
  {
   "cell_type": "markdown",
   "metadata": {},
   "source": [
    "<p>Aunque aumentemos &nbsp;la precisi&oacute;n se obtiene la misma respuesta. Sin embargo:</p>"
   ]
  },
  {
   "cell_type": "code",
   "execution_count": 14,
   "metadata": {
    "collapsed": false
   },
   "outputs": [
    {
     "data": {
      "text/plain": [
       "0.0000000000000000000000000000000000000000000000000000000000000000000000000000000000000000\n",
       "000000000000000000000000000000000000000000000000000000000000000000000000000000000000000000\n",
       "000000000000000000000000000000000000000000000000000000000000000000000000000000000000000000\n",
       "000000000000000000000000000000000000000000000000000000000000000000000000000000000000000000\n",
       "000000000000000000000000000000000000000000000000000000000000000000000000000000000000000000\n",
       "000000000000000000000000000000000000000000000000000000000000000000000000000000000000000000\n",
       "000000000000000000000000000000000000000000000000000000000000000000000000000000\n",
       "False\n",
       "True"
      ]
     },
     "execution_count": 14,
     "metadata": {},
     "output_type": "execute_result"
    }
   ],
   "source": [
    "R(1.1+1.1+1.1+1.1-4.4);R(1.1+1.1+1.1+1.1)==R(4.4);1.1+1.1+1.1+1.1==4.4"
   ]
  },
  {
   "cell_type": "markdown",
   "metadata": {},
   "source": [
    "<p>En este otro c&aacute;lculo no se producen errores de redondeo y la respuesta es, m&aacute;s o menos, &nbsp;\"correcta\". &iquest;A qu&eacute; se puede deber que primero responde $False$ y despu&eacute;s $True$?</p>\r\n\r\n<h4>Ejemplo 1</h4>"
   ]
  },
  {
   "cell_type": "code",
   "execution_count": 15,
   "metadata": {
    "collapsed": false
   },
   "outputs": [],
   "source": [
    "NR = RealField(prec=30)"
   ]
  },
  {
   "cell_type": "code",
   "execution_count": 16,
   "metadata": {
    "collapsed": false
   },
   "outputs": [],
   "source": [
    "f(x)=(1-cos(x))/x^2"
   ]
  },
  {
   "cell_type": "code",
   "execution_count": 17,
   "metadata": {
    "collapsed": false
   },
   "outputs": [],
   "source": [
    "plot(f,-0.5,0.5)"
   ]
  },
  {
   "cell_type": "code",
   "execution_count": 18,
   "metadata": {
    "collapsed": false
   },
   "outputs": [
    {
     "data": {
      "text/plain": [
       "x |--> 1/720*x^4 - 1/24*x^2 + 1/2"
      ]
     },
     "execution_count": 18,
     "metadata": {},
     "output_type": "execute_result"
    }
   ],
   "source": [
    "taylor(f,x,0,5)"
   ]
  },
  {
   "cell_type": "code",
   "execution_count": 19,
   "metadata": {
    "collapsed": false
   },
   "outputs": [],
   "source": [
    "g(x) = cos(x)"
   ]
  },
  {
   "cell_type": "code",
   "execution_count": 20,
   "metadata": {
    "collapsed": false
   },
   "outputs": [
    {
     "data": {
      "text/plain": [
       "1.0000000"
      ]
     },
     "execution_count": 20,
     "metadata": {},
     "output_type": "execute_result"
    }
   ],
   "source": [
    "g(x=NR(1.2*10^(-5)))"
   ]
  },
  {
   "cell_type": "markdown",
   "metadata": {},
   "source": [
    "<p>Como, con $prec=30$, el $cos(1.2*10^{-5})$ vale $1.0000000$ el valor de $f(1.2*10^{-5})$ sale cero con un error enorme.</p>"
   ]
  },
  {
   "cell_type": "code",
   "execution_count": 21,
   "metadata": {
    "collapsed": false
   },
   "outputs": [
    {
     "data": {
      "text/plain": [
       "0"
      ]
     },
     "execution_count": 21,
     "metadata": {},
     "output_type": "execute_result"
    }
   ],
   "source": [
    "V = f(x=NR(1.2*10^(-5)));V"
   ]
  },
  {
   "cell_type": "code",
   "execution_count": 22,
   "metadata": {
    "collapsed": false
   },
   "outputs": [],
   "source": [
    "NR1 = RealField(prec=40)"
   ]
  },
  {
   "cell_type": "code",
   "execution_count": 23,
   "metadata": {
    "collapsed": false
   },
   "outputs": [
    {
     "data": {
      "text/plain": [
       "0.49895889889"
      ]
     },
     "execution_count": 23,
     "metadata": {},
     "output_type": "execute_result"
    }
   ],
   "source": [
    "f(x=NR1(1.2*10^(-5)))"
   ]
  },
  {
   "cell_type": "code",
   "execution_count": 24,
   "metadata": {
    "collapsed": false
   },
   "outputs": [],
   "source": [
    "NR2 = RealField(prec=56)"
   ]
  },
  {
   "cell_type": "code",
   "execution_count": 25,
   "metadata": {
    "collapsed": false
   },
   "outputs": [
    {
     "data": {
      "text/plain": [
       "0.5000000220954802"
      ]
     },
     "execution_count": 25,
     "metadata": {},
     "output_type": "execute_result"
    }
   ],
   "source": [
    "f(x=NR2(1.2*10^(-5)))"
   ]
  },
  {
   "cell_type": "code",
   "execution_count": 26,
   "metadata": {
    "collapsed": false
   },
   "outputs": [],
   "source": [
    "NR3 = RealField(prec=1024)"
   ]
  },
  {
   "cell_type": "code",
   "execution_count": 27,
   "metadata": {
    "collapsed": false
   },
   "outputs": [
    {
     "data": {
      "text/plain": [
       "0.4999999999940000000000287996959896367808401946049893137272434253999345548870214160533317\n",
       "730845617285722502432223786603796647722494314281106550122486419291139762883177187870625828\n",
       "619182166257891515121223486872565303968357493572184046760153971092244692489670753101321308\n",
       "165196129357616023322554642414879821846"
      ]
     },
     "execution_count": 27,
     "metadata": {},
     "output_type": "execute_result"
    }
   ],
   "source": [
    "V1 = f(x=NR3(1.2*10^(-5)));V1"
   ]
  },
  {
   "cell_type": "markdown",
   "metadata": {},
   "source": [
    "<p>Vemos que con $prec=40$ son correctas dos de las cifras decimales, aumentando a $prec=56$ se pierden las dos cifras correctas y pas&aacute;ndose con $prec=1024$ se vuelve a obtener un resultado menor que $1/2$, no es dif&iacute;cil demostrar que $f(x)&lt;1/2$ para $x\\ne 0$, que deber&iacute;a tener bastantes cifras&nbsp; decimales&nbsp; correctas. El error que se produce&nbsp; en $V$ se llama de \"cancelaci&oacute;n\" , y se define como un error enorme que aparece al restar dos cantidades muy pr&oacute;ximas que s&oacute;lo difieren en cifras m&aacute;s all&aacute; de la precisi&oacute;n que estamos usando en el c&aacute;lculo.</p>"
   ]
  },
  {
   "cell_type": "code",
   "execution_count": 28,
   "metadata": {
    "collapsed": false
   },
   "outputs": [],
   "source": [
    "NR4 = RealField(prec=2048)"
   ]
  },
  {
   "cell_type": "code",
   "execution_count": 29,
   "metadata": {
    "collapsed": false
   },
   "outputs": [
    {
     "data": {
      "text/plain": [
       "0.4999999999940000000000287996959896367808401946049893137272434253999345548870214160533317\n",
       "730845617285722502432223786603796647722494314281106550122486419291139762883177187870625828\n",
       "619182166257891515121223486872565303968357493572184046760153971092244692489670753101321308\n",
       "165196129357616023322554642414870456418543638973129377268343117471789823088189449541231129\n",
       "087592748968562522092878449769309652637472158867643382603013683636349597161832640383334439\n",
       "630293346195460796416860554034393996820351981332104220873571808970953714644046636865487171\n",
       "353767152907515793470337839573319942150988595039681068818739774665119878135721"
      ]
     },
     "execution_count": 29,
     "metadata": {},
     "output_type": "execute_result"
    }
   ],
   "source": [
    "V2 = f(x=NR4(1.2*10^(-5)));V2"
   ]
  },
  {
   "cell_type": "markdown",
   "metadata": {},
   "source": [
    "<p>Al aumentar la precisi&oacute;n a $prec=2048$ s&oacute;lo las &uacute;ltimas $7$ cifras decimales de $V1$ no se mantienen. El error que se produce en esas &uacute;ltimas $7$ cifras de $V1$&nbsp; es el inherente al c&aacute;lculo con decimales aproximados (\"error de redondeo\") y es inevitable.&nbsp; Los errores de cancelaci&oacute;n, en general, se pueden evitar aumentando la precisi&oacute;n pero los de redondeo son inevitables y debemos tratar de mantenerlos controlados. </p>\r\n\r\n<h4>Ejemplo 2</h4>\r\n\r\n<p>Otro ejemplo de cancelaci&oacute;n, ahora en el c&aacute;lculo de las ra&iacute;ces de una ecuaci&oacute;n de segundo grado:</p>"
   ]
  },
  {
   "cell_type": "code",
   "execution_count": 30,
   "metadata": {
    "collapsed": false
   },
   "outputs": [],
   "source": [
    "f(x)=(10^(-20))*x^2-3*10^(20)*x+2*10^(20)"
   ]
  },
  {
   "cell_type": "code",
   "execution_count": 31,
   "metadata": {
    "collapsed": false
   },
   "outputs": [
    {
     "data": {
      "text/plain": [
       "[{x: -100000000000000000000*sqrt(22499999999999999999999999999999999999998) +\n",
       "15000000000000000000000000000000000000000}, {x:\n",
       "100000000000000000000*sqrt(22499999999999999999999999999999999999998) +\n",
       "15000000000000000000000000000000000000000}]"
      ]
     },
     "execution_count": 31,
     "metadata": {},
     "output_type": "execute_result"
    }
   ],
   "source": [
    "sols = solve(f,x,solution_dict=True);sols"
   ]
  },
  {
   "cell_type": "code",
   "execution_count": 32,
   "metadata": {
    "collapsed": false
   },
   "outputs": [
    {
     "data": {
      "text/plain": [
       "0.0000000000\n",
       "3.000000000e40"
      ]
     },
     "execution_count": 32,
     "metadata": {},
     "output_type": "execute_result"
    }
   ],
   "source": [
    "for sol in sols:\n",
    "    print sol[x].n(digits=10)"
   ]
  },
  {
   "cell_type": "code",
   "execution_count": 33,
   "metadata": {
    "collapsed": false
   },
   "outputs": [
    {
     "data": {
      "text/plain": [
       "0.00000000000000000000\n",
       "3.0000000000000000000e40"
      ]
     },
     "execution_count": 33,
     "metadata": {},
     "output_type": "execute_result"
    }
   ],
   "source": [
    "for sol in sols:\n",
    "    print sol[x].n(digits=20)"
   ]
  },
  {
   "cell_type": "code",
   "execution_count": 34,
   "metadata": {
    "collapsed": false
   },
   "outputs": [
    {
     "data": {
      "text/plain": [
       "0.6250000000000000000000000000000000000000\n",
       "3.000000000000000000000000000000000000000e40"
      ]
     },
     "execution_count": 34,
     "metadata": {},
     "output_type": "execute_result"
    }
   ],
   "source": [
    "for sol in sols:\n",
    "    print sol[x].n(digits=40)"
   ]
  },
  {
   "cell_type": "code",
   "execution_count": 35,
   "metadata": {
    "collapsed": false
   },
   "outputs": [
    {
     "data": {
      "text/plain": [
       "0.66666666667151730507612228393554687500000000000000\n",
       "2.9999999999999999999999999999999999999999333333333e40"
      ]
     },
     "execution_count": 35,
     "metadata": {},
     "output_type": "execute_result"
    }
   ],
   "source": [
    "for sol in sols:\n",
    "    print sol[x].n(digits=50)"
   ]
  },
  {
   "cell_type": "markdown",
   "metadata": {},
   "source": [
    "<h4>Ejemplo 3</h4>\n<p>De la misma forma en que podemos obtener cancelaciones cuando una diferencia es muy pr&oacute;xima a $0$, podemos obtenerlas cuando multiplicamos por cantidades muy pr&oacute;ximas a $1$, que la m&aacute;quina toma como $1$:</p>"
   ]
  },
  {
   "cell_type": "code",
   "execution_count": 36,
   "metadata": {
    "collapsed": false
   },
   "outputs": [],
   "source": [
    "def prueba(x,k):\n",
    "    for muda in srange(k):\n",
    "      x = sqrt(x)\n",
    "    for muda in srange(k):\n",
    "      x = x*x\n",
    "    return x"
   ]
  },
  {
   "cell_type": "code",
   "execution_count": 37,
   "metadata": {
    "collapsed": false
   },
   "outputs": [
    {
     "data": {
      "text/plain": [
       "[100.000000000006, 100.000000011555, 99.9999770096763, 99.9810245754440, 90.0171269377680,\n",
       "1.00000000000000, 1.00000000000000]"
      ]
     },
     "execution_count": 37,
     "metadata": {},
     "output_type": "execute_result"
    }
   ],
   "source": [
    "[prueba(100.0,10*k) for k in srange(1,8)]"
   ]
  },
  {
   "cell_type": "code",
   "execution_count": 38,
   "metadata": {
    "collapsed": false
   },
   "outputs": [],
   "source": [
    "NR7 = RealField(prec=128)"
   ]
  },
  {
   "cell_type": "code",
   "execution_count": 39,
   "metadata": {
    "collapsed": false
   },
   "outputs": [],
   "source": [
    "def prueba2(x,k):\n",
    "    for muda in srange(k):\n",
    "      x = NR7(sqrt(x))\n",
    "    for muda in srange(k):\n",
    "      x = NR7(x*x)\n",
    "    return x"
   ]
  },
  {
   "cell_type": "code",
   "execution_count": 40,
   "metadata": {
    "collapsed": false
   },
   "outputs": [
    {
     "data": {
      "text/plain": [
       "[99.999999999999999999999999999999999915, 100.00000000000000000000000000000000360,\n",
       "99.999999999999999999999999999984601618, 99.999999999999999999999999700849351586,\n",
       "100.00000000000000000000019874119658729, 100.00000000000000000018416370944114861,\n",
       "99.999999999999999698640434507180424762]"
      ]
     },
     "execution_count": 40,
     "metadata": {},
     "output_type": "execute_result"
    }
   ],
   "source": [
    "[prueba2(100.0,10*k) for k in srange(1,8)]"
   ]
  },
  {
   "cell_type": "markdown",
   "metadata": {},
   "source": [
    "<p>Vemos que tambi&eacute;n en este caso aumentando la precisi&oacute;n se resuelve el problema.</p>\n\n<h4>Ejemplo 7</h4>\n\n<p>En c&aacute;lculos en &nbsp;&Aacute;lgebra Lineal num&eacute;rica (&Aacute;lgebra Lineal con datos decimales) &nbsp;se encuentran con cierta frecuencia problemas de \"inestabilidad\": peque&ntilde;os cambios en los datos producen cambios muy grandes en la soluci&oacute;n calculada.</p>"
   ]
  },
  {
   "cell_type": "code",
   "execution_count": 41,
   "metadata": {
    "collapsed": false
   },
   "outputs": [],
   "source": [
    "def hilbert_m(n):\n",
    "    A = matrix(RR,n,n,[0]*n^2)\n",
    "    for fila in srange(n):\n",
    "        for columna in srange(n):\n",
    "            A[fila,columna]=(1/(fila+columna+1)).n()\n",
    "    return A"
   ]
  },
  {
   "cell_type": "code",
   "execution_count": 42,
   "metadata": {
    "collapsed": false
   },
   "outputs": [
    {
     "data": {
      "text/plain": [
       "[ 1.00000000000000 0.500000000000000 0.333333333333333 0.250000000000000\n",
       "0.200000000000000]\n",
       "[0.500000000000000 0.333333333333333 0.250000000000000 0.200000000000000\n",
       "0.166666666666667]\n",
       "[0.333333333333333 0.250000000000000 0.200000000000000 0.166666666666667\n",
       "0.142857142857143]\n",
       "[0.250000000000000 0.200000000000000 0.166666666666667 0.142857142857143\n",
       "0.125000000000000]\n",
       "[0.200000000000000 0.166666666666667 0.142857142857143 0.125000000000000\n",
       "0.111111111111111]"
      ]
     },
     "execution_count": 42,
     "metadata": {},
     "output_type": "execute_result"
    }
   ],
   "source": [
    "M = hilbert_m(5);M"
   ]
  },
  {
   "cell_type": "code",
   "execution_count": 43,
   "metadata": {
    "collapsed": false
   },
   "outputs": [
    {
     "data": {
      "text/plain": [
       "(2.28333333333333, 1.45000000000000, 1.09285714285714, 0.884523809523809,\n",
       "0.745634920634921)"
      ]
     },
     "execution_count": 43,
     "metadata": {},
     "output_type": "execute_result"
    }
   ],
   "source": [
    "b = M*vector([1,1,1,1,1]);b"
   ]
  },
  {
   "cell_type": "code",
   "execution_count": 44,
   "metadata": {
    "collapsed": false
   },
   "outputs": [
    {
     "data": {
      "text/plain": [
       "(0.999999999999984, 1.00000000000015, 0.999999999999717, 1.00000000000002,\n",
       "1.00000000000013)"
      ]
     },
     "execution_count": 44,
     "metadata": {},
     "output_type": "execute_result"
    }
   ],
   "source": [
    "M.solve_right(b)"
   ]
  },
  {
   "cell_type": "markdown",
   "metadata": {},
   "source": [
    "<p>Resolvemos el sistema con matriz $M$ y vector de t&eacute;rminos independientes $b=M\\cdot(1,1,1,1,1)^t$. La soluci&oacute;n, como esperar&iacute;amos, es aproximadamente $(1,1,1,1,1)^t$. Perturbamos ligeramente el elemento $M[4,0]$ de $M$</p>"
   ]
  },
  {
   "cell_type": "code",
   "execution_count": 45,
   "metadata": {
    "collapsed": false
   },
   "outputs": [
    {
     "data": {
      "text/plain": [
       "0.200000000000000"
      ]
     },
     "execution_count": 45,
     "metadata": {},
     "output_type": "execute_result"
    }
   ],
   "source": [
    "M[4,0]"
   ]
  },
  {
   "cell_type": "code",
   "execution_count": 46,
   "metadata": {
    "collapsed": false
   },
   "outputs": [],
   "source": [
    "M[4,0] += 10^(-5)"
   ]
  },
  {
   "cell_type": "code",
   "execution_count": 47,
   "metadata": {
    "collapsed": false
   },
   "outputs": [
    {
     "data": {
      "text/plain": [
       "0.200010000000000"
      ]
     },
     "execution_count": 47,
     "metadata": {},
     "output_type": "execute_result"
    }
   ],
   "source": [
    "M[4,0]"
   ]
  },
  {
   "cell_type": "code",
   "execution_count": 48,
   "metadata": {
    "collapsed": false
   },
   "outputs": [
    {
     "data": {
      "text/plain": [
       "(0.993739441518408, 1.12521116963169, 0.436549736657753, 1.87647818742091,\n",
       "0.561760906289674)"
      ]
     },
     "execution_count": 48,
     "metadata": {},
     "output_type": "execute_result"
    }
   ],
   "source": [
    "M.solve_right(b)"
   ]
  },
  {
   "cell_type": "markdown",
   "metadata": {},
   "source": [
    "<p>Ahora la soluci&oacute;n difiere mucho de&nbsp;$(1,1,1,1,1)^t$. Por supuesto, SAGE puede hacer este c&aacute;lculo de manera exacta usando el cuerpo $QQ$ de los n&uacute;meros racionales en lugar de $RR$.</p>"
   ]
  }
 ],
 "metadata": {
  "kernelspec": {
   "display_name": "Sage 6.6",
   "language": "python",
   "name": "sage_6_6"
  }
 },
 "nbformat": 4,
 "nbformat_minor": 0
}
