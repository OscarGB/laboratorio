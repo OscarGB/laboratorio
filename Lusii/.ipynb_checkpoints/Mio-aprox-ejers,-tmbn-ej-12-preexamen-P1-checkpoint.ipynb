{
 "cells": [
  {
   "cell_type": "markdown",
   "metadata": {},
   "source": [
    "<p>Define una funcion que encuentre y devuelva , la fraccion, con denominador de maximo k cifras que mejor se aprox a pi</p>"
   ]
  },
  {
   "cell_type": "code",
   "execution_count": 1,
   "metadata": {
    "collapsed": false
   },
   "outputs": [],
   "source": [
    "def aproxracionalpi_01(k):\n",
    "    L1=[]\n",
    "    L2=[]\n",
    "    for b in srange(10^(k-1),10^k):\n",
    "        Lb=[]\n",
    "        for a in srange(ceil(3.14*b),floor(3.142*b)):\n",
    "            Lb.append(pi-a/b)\n",
    "        Lb.sort()\n",
    "        for a in srange(ceil(3.14*b),floor(3.142*b)):\n",
    "            if Lb[0]==(pi-a/b):\n",
    "                L1.append(a/b)\n",
    "                L2.append(pi-a/b)\n",
    "    L2.sort()\n",
    "    for h in srange(len(L1)):\n",
    "        if L2[0]==(pi-L1[h]):\n",
    "            return L1[h]"
   ]
  },
  {
   "cell_type": "code",
   "execution_count": 2,
   "metadata": {
    "collapsed": false
   },
   "outputs": [
    {
     "data": {
      "text/plain": [
       "^C"
      ]
     },
     "execution_count": 2,
     "metadata": {},
     "output_type": "execute_result"
    },
    {
     "name": "stderr",
     "output_type": "stream",
     "text": [
      "Traceback (most recent call last):\n",
      "  File \"<stdin>\", line 1, in <module>\n",
      "  File \"_sage_input_11.py\", line 10, in <module>\n",
      "    exec compile(u'open(\"___code___.py\",\"w\").write(\"# -*- coding: utf-8 -*-\\\\n\" + _support\n",
      "_.preparse_worksheet_cell(base64.b64decode(\"YXByb3hyYWNpb25hbHBpXzAxKDUp\"),globals())+\"\\\\n\n",
      "\"); execfile(os.path.abspath(\"___code___.py\"))' + '\\n', '', 'single')\n",
      "  File \"\", line 1, in <module>\n",
      "\n",
      "  File \"/tmp/tmpt7rjYU/___code___.py\", line 3, in <module>\n",
      "    exec compile(u'aproxracionalpi_01(_sage_const_5 )' + '\\n', '', 'single')\n",
      "  File \"\", line 1, in <module>\n",
      "\n",
      "  File \"/tmp/tmpZ5D4Kn/___code___.py\", line 12, in aproxracionalpi_01\n",
      "    if Lb[_sage_const_0 ]==(pi-a/b):\n",
      "  File \"sage/symbolic/expression.pyx\", line 2425, in\n",
      "sage.symbolic.expression.Expression.__nonzero__ (/mnt/highperf/buildbot/slave/sage_git/bui\n",
      "ld/src/build/cythonized/sage/symbolic/expression.cpp:15237)\n",
      "  File \"/home/sageserver/sage/local/lib/python2.7/site-\n",
      "packages/sage/symbolic/assumptions.py\", line 504, in assumptions\n",
      "    def assumptions(*args):\n",
      "  File \"sage/ext/interrupt/interrupt.pyx\", line 197, in\n",
      "sage.ext.interrupt.interrupt.sage_python_check_interrupt (/mnt/highperf/buildbot/slave/sag\n",
      "e_git/build/src/build/cythonized/sage/ext/interrupt/interrupt.c:1743)\n",
      "  File \"sage/ext/interrupt/interrupt.pyx\", line 86, in\n",
      "sage.ext.interrupt.interrupt.sig_raise_exception (/mnt/highperf/buildbot/slave/sage_git/bu\n",
      "ild/src/build/cythonized/sage/ext/interrupt/interrupt.c:884)\n",
      "KeyboardInterrupt\n",
      "__SAGE__"
     ]
    }
   ],
   "source": [
    "aproxracionalpi_01(5)"
   ]
  },
  {
   "cell_type": "code",
   "execution_count": 3,
   "metadata": {
    "collapsed": false
   },
   "outputs": [
    {
     "data": {
      "text/plain": [
       "3.14098690835851"
      ]
     },
     "execution_count": 3,
     "metadata": {},
     "output_type": "execute_result"
    }
   ],
   "source": [
    "n(3119/993)"
   ]
  },
  {
   "cell_type": "markdown",
   "metadata": {},
   "source": [
    "<p>escribir un codigo q tomando un r&gt;1 &nbsp;y un numero dado de k pasos halle los a0................ak de la fraccion continua de r</p>\n<p>me daba un error de punto flotante asiq como n sabia que era he reservado 64 bits para cada numero del que queremos saber su fraccion continua ,&nbsp;</p>\n<p>este programa puede tener errores a partir de k=6</p>\n<p><span style=\"color: #00ff00;\">Conseguido</span></p>"
   ]
  },
  {
   "cell_type": "code",
   "execution_count": 4,
   "metadata": {
    "collapsed": false
   },
   "outputs": [],
   "source": [
    "def fc(r,k):\n",
    "    b=n(r,prec=64)\n",
    "    L1=[]\n",
    "    a=b\n",
    "    for j in srange(1,k+1):\n",
    "        if a==0:\n",
    "            return L1\n",
    "        if a!=0:\n",
    "            c=floor(a)\n",
    "            L1.append(c)\n",
    "            a=((a-c)**(-1))\n",
    "    return L1"
   ]
  },
  {
   "cell_type": "code",
   "execution_count": 5,
   "metadata": {
    "collapsed": false
   },
   "outputs": [
    {
     "data": {
      "text/plain": [
       "[1, 3, 1, 1, 2, 1, 1]"
      ]
     },
     "execution_count": 5,
     "metadata": {},
     "output_type": "execute_result"
    }
   ],
   "source": [
    "fc(55/43,7)"
   ]
  },
  {
   "cell_type": "markdown",
   "metadata": {},
   "source": [
    "<p>Problema 12 preexamen parcial 1</p>\n<p>la sucesion de numeros triangulares d&iexcl;se genera sumando los numeros naturales, asi el tercer triangular es 1+2+3=6</p>\n<p>&iquest;Cual es el valor del primer triangular que tiene mas de 500 divisores?</p>\n<p><span style=\"color: #00ff00;\">Conseguido</span></p>"
   ]
  },
  {
   "cell_type": "code",
   "execution_count": 6,
   "metadata": {
    "collapsed": false
   },
   "outputs": [],
   "source": [
    "def triangular(n):\n",
    "    return sum(srange(1,n+1))"
   ]
  },
  {
   "cell_type": "code",
   "execution_count": 7,
   "metadata": {
    "collapsed": false
   },
   "outputs": [],
   "source": [
    "def pregunta(N):\n",
    "    for j in NN:\n",
    "        if j!=0:\n",
    "            if len(divisors(triangular(j)))>=N:\n",
    "                return triangular(j), j"
   ]
  },
  {
   "cell_type": "code",
   "execution_count": 8,
   "metadata": {
    "collapsed": false
   },
   "outputs": [
    {
     "data": {
      "text/plain": [
       "(76576500, 12375)"
      ]
     },
     "execution_count": 8,
     "metadata": {},
     "output_type": "execute_result"
    }
   ],
   "source": [
    "pregunta(500)"
   ]
  },
  {
   "cell_type": "code",
   "execution_count": 9,
   "metadata": {
    "collapsed": false
   },
   "outputs": [
    {
     "data": {
      "text/plain": [
       "96"
      ]
     },
     "execution_count": 9,
     "metadata": {},
     "output_type": "execute_result"
    }
   ],
   "source": [
    "len(divisors(triangular(12374)))"
   ]
  },
  {
   "cell_type": "code",
   "execution_count": 10,
   "metadata": {
    "collapsed": false
   },
   "outputs": [
    {
     "name": "stderr",
     "output_type": "stream",
     "text": [
      "Traceback (most recent call last):\n",
      "  File \"<stdin>\", line 1, in <module>\n",
      "  File \"_sage_input_6.py\", line 10, in <module>\n",
      "    exec compile(u'open(\"___code___.py\",\"w\").write(\"# -*- coding: utf-8 -*-\\\\n\" + _support\n",
      "_.preparse_worksheet_cell(base64.b64decode(\"cGkuZXhhY3RfcmF0aW9uYWwoKQ==\"),globals())+\"\\\\n\n",
      "\"); execfile(os.path.abspath(\"___code___.py\"))' + '\\n', '', 'single')\n",
      "  File \"\", line 1, in <module>\n",
      "\n",
      "  File \"/tmp/tmppoqnuZ/___code___.py\", line 2, in <module>\n",
      "    exec compile(u'pi.exact_rational()' + '\\n', '', 'single')\n",
      "  File \"\", line 1, in <module>\n",
      "\n",
      "  File \"sage/structure/element.pyx\", line 418, in\n",
      "sage.structure.element.Element.__getattr__ (/mnt/highperf/buildbot/slave/sage_git/build/sr\n",
      "c/build/cythonized/sage/structure/element.c:4679)\n",
      "  File \"sage/structure/misc.pyx\", line 259, in\n",
      "sage.structure.misc.getattr_from_other_class (/mnt/highperf/buildbot/slave/sage_git/build/\n",
      "src/build/cythonized/sage/structure/misc.c:1669)\n",
      "AttributeError: 'sage.symbolic.expression.Expression' object has no attribute\n",
      "'exact_rational'"
     ]
    }
   ],
   "source": [
    "pi.exact_rational()"
   ]
  },
  {
   "cell_type": "code",
   "execution_count": 11,
   "metadata": {
    "collapsed": false
   },
   "outputs": [
    {
     "data": {
      "text/plain": [
       "2.71828182845905"
      ]
     },
     "execution_count": 11,
     "metadata": {},
     "output_type": "execute_result"
    }
   ],
   "source": [
    "n(e)"
   ]
  },
  {
   "cell_type": "code",
   "execution_count": 12,
   "metadata": {
    "collapsed": false
   },
   "outputs": [
    {
     "data": {
      "text/plain": [
       "[3, 7, 15, 1, 292, 1, 1]"
      ]
     },
     "execution_count": 12,
     "metadata": {},
     "output_type": "execute_result"
    }
   ],
   "source": [
    "fc(pi,7)"
   ]
  },
  {
   "cell_type": "code",
   "execution_count": 13,
   "metadata": {
    "collapsed": false
   },
   "outputs": [
    {
     "data": {
      "text/plain": [
       "[1, 2, 2, 2, 2, 2, 2]"
      ]
     },
     "execution_count": 13,
     "metadata": {},
     "output_type": "execute_result"
    }
   ],
   "source": [
    "fc(sqrt(2),7)"
   ]
  },
  {
   "cell_type": "code",
   "execution_count": 14,
   "metadata": {
    "collapsed": false
   },
   "outputs": [
    {
     "data": {
      "text/plain": [
       "[1, 1, 1, 1, 1, 1, 1]"
      ]
     },
     "execution_count": 14,
     "metadata": {},
     "output_type": "execute_result"
    }
   ],
   "source": [
    "fc((1+sqrt(5))*(1/2),7)"
   ]
  }
 ],
 "metadata": {
  "kernelspec": {
   "display_name": "Sage 6.6",
   "language": "python",
   "name": "sage_6_6"
  }
 },
 "nbformat": 4,
 "nbformat_minor": 0
}
