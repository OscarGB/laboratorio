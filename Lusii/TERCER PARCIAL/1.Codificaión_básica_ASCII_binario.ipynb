{
 "cells": [
  {
   "cell_type": "code",
   "execution_count": 6,
   "metadata": {
    "collapsed": true
   },
   "outputs": [],
   "source": [
    "alfb=\"ABCDEFGHIJKLMNOPQRSTUVWXYZ\""
   ]
  },
  {
   "cell_type": "code",
   "execution_count": 7,
   "metadata": {
    "collapsed": true
   },
   "outputs": [],
   "source": [
    "texto = \"Through the use of abstraction and logical reasoning, mathematics developed from counting, calculation, measurement, and the systematic study of the shapes and motions of physical objects. Practical mathematics has been a human activity for as far back as written records exist. Rigorous arguments first appeared in Greek mathematics, most notably in Euclid's Elements. Mathematics developed at a relatively slow pace until the Renaissance, when mathematical innovations interacting with new scientific discoveries led to a rapid increase in the rate of mathematical discovery that continues to the present day.\""
   ]
  },
  {
   "cell_type": "code",
   "execution_count": 9,
   "metadata": {
    "collapsed": false
   },
   "outputs": [
    {
     "name": "stdout",
     "output_type": "stream",
     "text": [
      "[65, 66, 67, 68, 69, 70, 71, 72, 73, 74, 75, 76, 77, 78, 79, 80, 81, 82, 83, 84, 85, 86, 87, 88, 89, 90]\n"
     ]
    }
   ],
   "source": [
    "print(map(ord,[x for x in alfb]))"
   ]
  },
  {
   "cell_type": "code",
   "execution_count": 12,
   "metadata": {
    "collapsed": true
   },
   "outputs": [],
   "source": [
    "cad= \"CACA\""
   ]
  },
  {
   "cell_type": "code",
   "execution_count": 13,
   "metadata": {
    "collapsed": false
   },
   "outputs": [
    {
     "name": "stdout",
     "output_type": "stream",
     "text": [
      "[67, 65, 67, 65]\n"
     ]
    }
   ],
   "source": [
    "print(map(ord, [x for x in cad]))"
   ]
  },
  {
   "cell_type": "code",
   "execution_count": 14,
   "metadata": {
    "collapsed": false
   },
   "outputs": [
    {
     "name": "stdout",
     "output_type": "stream",
     "text": [
      "['A', 'B', 'C', 'D', 'E', 'F', 'G', 'H', 'I', 'J', 'K', 'L', 'M', 'N', 'O', 'P', 'Q', 'R', 'S', 'T', 'U', 'V', 'W', 'X', 'Y', 'Z']\n"
     ]
    }
   ],
   "source": [
    "print(map(chr, map(ord, [x for x in alfb])))"
   ]
  },
  {
   "cell_type": "code",
   "execution_count": 22,
   "metadata": {
    "collapsed": true
   },
   "outputs": [],
   "source": [
    "from string import *\n",
    "def limpiar(texto, alfb):\n",
    "    L=[x.capitalize() for x in list(texto)] ##Lo que hace es que pone en mayuscaulas las letras del texto. Necesitamos hacer esto porque el alfb está en mayusculas\n",
    "    L1=[car for car in L if car in alfb] ##Guarada en una lista los caracteres de L que estén en alfb\n",
    "    C1=join(L1, sep=\"\") ##Lo que hace es colocar entre cada letra el valor introducido en sep\n",
    "    return C1\n",
    "    \n",
    "    "
   ]
  },
  {
   "cell_type": "code",
   "execution_count": 23,
   "metadata": {
    "collapsed": false
   },
   "outputs": [
    {
     "data": {
      "text/plain": [
       "'THROUGHTHEUSEOFABSTRACTIONANDLOGICALREASONINGMATHEMATICSDEVELOPEDFROMCOUNTINGCALCULATIONMEASUREMENTANDTHESYSTEMATICSTUDYOFTHESHAPESANDMOTIONSOFPHYSICALOBJECTSPRACTICALMATHEMATICSHASBEENAHUMANACTIVITYFORASFARBACKASWRITTENRECORDSEXISTRIGOROUSARGUMENTSFIRSTAPPEAREDINGREEKMATHEMATICSMOSTNOTABLYINEUCLIDSELEMENTSMATHEMATICSDEVELOPEDATARELATIVELYSLOWPACEUNTILTHERENAISSANCEWHENMATHEMATICALINNOVATIONSINTERACTINGWITHNEWSCIENTIFICDISCOVERIESLEDTOARAPIDINCREASEINTHERATEOFMATHEMATICALDISCOVERYTHATCONTINUESTOTHEPRESENTDAY'"
      ]
     },
     "execution_count": 23,
     "metadata": {},
     "output_type": "execute_result"
    }
   ],
   "source": [
    "limpiar(texto, alfb)"
   ]
  },
  {
   "cell_type": "markdown",
   "metadata": {},
   "source": [
    "#### Codificación adaptada al tamaño del alfb \n",
    "\n",
    "Imaginémonos que en vez de codificarlo en ASCII, lo que queremos hacer es suponiendo que el alfb tiene 26 caracteres, vamos a asignar a cada letra un número entre el 0 y el 25. Para eso hay que redefinir ord y chr"
   ]
  },
  {
   "cell_type": "code",
   "execution_count": 59,
   "metadata": {
    "collapsed": true
   },
   "outputs": [],
   "source": [
    "L_alfb= list(alfb)"
   ]
  },
  {
   "cell_type": "code",
   "execution_count": 60,
   "metadata": {
    "collapsed": false
   },
   "outputs": [
    {
     "name": "stdout",
     "output_type": "stream",
     "text": [
      "['A', 'B', 'C', 'D', 'E', 'F', 'G', 'H', 'I', 'J', 'K', 'L', 'M', 'N', 'O', 'P', 'Q', 'R', 'S', 'T', 'U', 'V', 'W', 'X', 'Y', 'Z']\n"
     ]
    }
   ],
   "source": [
    "print(L_alfb)"
   ]
  },
  {
   "cell_type": "code",
   "execution_count": 61,
   "metadata": {
    "collapsed": true
   },
   "outputs": [],
   "source": [
    "def ord2(c):\n",
    "    return L_alfb.index(c)"
   ]
  },
  {
   "cell_type": "code",
   "execution_count": 62,
   "metadata": {
    "collapsed": true
   },
   "outputs": [],
   "source": [
    "def chr2(n):\n",
    "    return L_alfb[n]"
   ]
  },
  {
   "cell_type": "code",
   "execution_count": 63,
   "metadata": {
    "collapsed": false
   },
   "outputs": [
    {
     "name": "stdout",
     "output_type": "stream",
     "text": [
      "[0, 1, 2, 3, 4, 5, 6, 7, 8, 9, 10, 11, 12, 13, 14, 15, 16, 17, 18, 19, 20, 21, 22, 23, 24, 25]\n"
     ]
    }
   ],
   "source": [
    "print map(ord2, [x for x in alfb])"
   ]
  },
  {
   "cell_type": "code",
   "execution_count": 64,
   "metadata": {
    "collapsed": false
   },
   "outputs": [
    {
     "name": "stdout",
     "output_type": "stream",
     "text": [
      "['A', 'B', 'C', 'D', 'E', 'F', 'G', 'H', 'I', 'J', 'K', 'L', 'M', 'N', 'O', 'P', 'Q', 'R', 'S', 'T', 'U', 'V', 'W', 'X', 'Y', 'Z']\n"
     ]
    }
   ],
   "source": [
    "print map(chr2, map(ord2, [x for x in alfb]))"
   ]
  },
  {
   "cell_type": "markdown",
   "metadata": {},
   "source": [
    "#### Codificación binaria\n",
    "\n",
    "En este ejercicio a parte de asignarle a cada palabra del diccionario un entero entre el 0 y el 25, después lo que hacemos es escribir dicho entero como una palabra de 5 bits (2^5 = 32 porque con 4 bits no llegamos, ya que 2^4 =16)"
   ]
  },
  {
   "cell_type": "code",
   "execution_count": 99,
   "metadata": {
    "collapsed": true
   },
   "outputs": [],
   "source": [
    "alfb=\"ABCDEFGHIJKLMNOPQRSTUVWXYZ\""
   ]
  },
  {
   "cell_type": "code",
   "execution_count": 100,
   "metadata": {
    "collapsed": true
   },
   "outputs": [],
   "source": [
    "L_alfb = list(alfb)"
   ]
  },
  {
   "cell_type": "code",
   "execution_count": 101,
   "metadata": {
    "collapsed": true
   },
   "outputs": [],
   "source": [
    "def ord2(c):\n",
    "    return L_alfb.index(c);\n",
    "\n",
    "def chr2(n):\n",
    "    return L_alfb[n]"
   ]
  },
  {
   "cell_type": "code",
   "execution_count": 102,
   "metadata": {
    "collapsed": false
   },
   "outputs": [
    {
     "name": "stdout",
     "output_type": "stream",
     "text": [
      "[0, 1, 2, 3, 4, 5, 6, 7, 8, 9, 10, 11, 12, 13, 14, 15, 16, 17, 18, 19, 20, 21, 22, 23, 24, 25]\n"
     ]
    }
   ],
   "source": [
    "print map(ord2, [x for x in alfb])"
   ]
  },
  {
   "cell_type": "code",
   "execution_count": 103,
   "metadata": {
    "collapsed": false
   },
   "outputs": [
    {
     "name": "stdout",
     "output_type": "stream",
     "text": [
      "['A', 'B', 'C', 'D', 'E', 'F', 'G', 'H', 'I', 'J', 'K', 'L', 'M', 'N', 'O', 'P', 'Q', 'R', 'S', 'T', 'U', 'V', 'W', 'X', 'Y', 'Z']\n"
     ]
    }
   ],
   "source": [
    "print map(chr2, map(ord2, [x for x in alfb]))"
   ]
  },
  {
   "cell_type": "markdown",
   "metadata": {},
   "source": [
    "El 7 es la H"
   ]
  },
  {
   "cell_type": "code",
   "execution_count": 104,
   "metadata": {
    "collapsed": false
   },
   "outputs": [
    {
     "data": {
      "text/plain": [
       "[1, 1, 1, 0, 0]"
      ]
     },
     "execution_count": 104,
     "metadata": {},
     "output_type": "execute_result"
    }
   ],
   "source": [
    "(7).digits(base=2, padto=5) ## Vemos que el 7 en base binaria y con una precisión de 5 bits es 11100"
   ]
  },
  {
   "cell_type": "markdown",
   "metadata": {},
   "source": [
    "Sin embargo, Digits te escribe los números al revés por lo que nos interesa darle la vuelta"
   ]
  },
  {
   "cell_type": "code",
   "execution_count": 114,
   "metadata": {
    "collapsed": true
   },
   "outputs": [],
   "source": [
    "def cadena(L):\n",
    "    C=''\n",
    "    L.reverse()\n",
    "    for item in L:\n",
    "        C = C +str(item) ##te devuelve del valor que le pases como argumento una cadena\n",
    "    return C\n",
    "    "
   ]
  },
  {
   "cell_type": "code",
   "execution_count": 106,
   "metadata": {
    "collapsed": false
   },
   "outputs": [],
   "source": [
    "def bin_2(n):\n",
    "    return cadena(ZZ(n).digits(base=2, padto=5))"
   ]
  },
  {
   "cell_type": "code",
   "execution_count": 107,
   "metadata": {
    "collapsed": false
   },
   "outputs": [
    {
     "data": {
      "text/plain": [
       "'00111'"
      ]
     },
     "execution_count": 107,
     "metadata": {},
     "output_type": "execute_result"
    }
   ],
   "source": [
    "bin_2(7)"
   ]
  },
  {
   "cell_type": "code",
   "execution_count": 110,
   "metadata": {
    "collapsed": true
   },
   "outputs": [],
   "source": [
    "def limpiar(texto, alfb):\n",
    "    L = map(ord, [x.capitalize() for x in list(texto)])\n",
    "    L1=[item for item in L if item in map(ord, [x for x in alfb])]\n",
    "    C1=join(map(chr, L1), sep = \"\")\n",
    "    return C1"
   ]
  },
  {
   "cell_type": "code",
   "execution_count": 111,
   "metadata": {
    "collapsed": false
   },
   "outputs": [],
   "source": [
    "texto2 = limpiar(texto, alfb)"
   ]
  },
  {
   "cell_type": "code",
   "execution_count": 98,
   "metadata": {
    "collapsed": false
   },
   "outputs": [
    {
     "data": {
      "text/plain": [
       "'THROUGHTHEUSEOFABSTRACTIONANDLOGICALREASONINGMATHEMATICSDEVELOPEDFROMCOUNTINGCALCULATIONMEASUREMENTANDTHESYSTEMATICSTUDYOFTHESHAPESANDMOTIONSOFPHYSICALOBJECTSPRACTICALMATHEMATICSHASBEENAHUMANACTIVITYFORASFARBACKASWRITTENRECORDSEXISTRIGOROUSARGUMENTSFIRSTAPPEAREDINGREEKMATHEMATICSMOSTNOTABLYINEUCLIDSELEMENTSMATHEMATICSDEVELOPEDATARELATIVELYSLOWPACEUNTILTHERENAISSANCEWHENMATHEMATICALINNOVATIONSINTERACTINGWITHNEWSCIENTIFICDISCOVERIESLEDTOARAPIDINCREASEINTHERATEOFMATHEMATICALDISCOVERYTHATCONTINUESTOTHEPRESENTDAY'"
      ]
     },
     "execution_count": 98,
     "metadata": {},
     "output_type": "execute_result"
    }
   ],
   "source": [
    "texto2"
   ]
  },
  {
   "cell_type": "code",
   "execution_count": 119,
   "metadata": {
    "collapsed": true
   },
   "outputs": [],
   "source": [
    "texto_cod0 = map(ord2, list(texto2))"
   ]
  },
  {
   "cell_type": "code",
   "execution_count": 121,
   "metadata": {
    "collapsed": false
   },
   "outputs": [
    {
     "name": "stdout",
     "output_type": "stream",
     "text": [
      "[19, 7, 17, 14, 20, 6, 7, 19, 7, 4, 20, 18, 4, 14, 5, 0, 1, 18, 19, 17, 0, 2, 19, 8, 14, 13, 0, 13, 3, 11, 14, 6, 8, 2, 0, 11, 17, 4, 0, 18, 14, 13, 8, 13, 6, 12, 0, 19, 7, 4, 12, 0, 19, 8, 2, 18, 3, 4, 21, 4, 11, 14, 15, 4, 3, 5, 17, 14, 12, 2, 14, 20, 13, 19, 8, 13, 6, 2, 0, 11, 2, 20, 11, 0, 19, 8, 14, 13, 12, 4, 0, 18, 20, 17, 4, 12, 4, 13, 19, 0, 13, 3, 19, 7, 4, 18, 24, 18, 19, 4, 12, 0, 19, 8, 2, 18, 19, 20, 3, 24, 14, 5, 19, 7, 4, 18, 7, 0, 15, 4, 18, 0, 13, 3, 12, 14, 19, 8, 14, 13, 18, 14, 5, 15, 7, 24, 18, 8, 2, 0, 11, 14, 1, 9, 4, 2, 19, 18, 15, 17, 0, 2, 19, 8, 2, 0, 11, 12, 0, 19, 7, 4, 12, 0, 19, 8, 2, 18, 7, 0, 18, 1, 4, 4, 13, 0, 7, 20, 12, 0, 13, 0, 2, 19, 8, 21, 8, 19, 24, 5, 14, 17, 0, 18, 5, 0, 17, 1, 0, 2, 10, 0, 18, 22, 17, 8, 19, 19, 4, 13, 17, 4, 2, 14, 17, 3, 18, 4, 23, 8, 18, 19, 17, 8, 6, 14, 17, 14, 20, 18, 0, 17, 6, 20, 12, 4, 13, 19, 18, 5, 8, 17, 18, 19, 0, 15, 15, 4, 0, 17, 4, 3, 8, 13, 6, 17, 4, 4, 10, 12, 0, 19, 7, 4, 12, 0, 19, 8, 2, 18, 12, 14, 18, 19, 13, 14, 19, 0, 1, 11, 24, 8, 13, 4, 20, 2, 11, 8, 3, 18, 4, 11, 4, 12, 4, 13, 19, 18, 12, 0, 19, 7, 4, 12, 0, 19, 8, 2, 18, 3, 4, 21, 4, 11, 14, 15, 4, 3, 0, 19, 0, 17, 4, 11, 0, 19, 8, 21, 4, 11, 24, 18, 11, 14, 22, 15, 0, 2, 4, 20, 13, 19, 8, 11, 19, 7, 4, 17, 4, 13, 0, 8, 18, 18, 0, 13, 2, 4, 22, 7, 4, 13, 12, 0, 19, 7, 4, 12, 0, 19, 8, 2, 0, 11, 8, 13, 13, 14, 21, 0, 19, 8, 14, 13, 18, 8, 13, 19, 4, 17, 0, 2, 19, 8, 13, 6, 22, 8, 19, 7, 13, 4, 22, 18, 2, 8, 4, 13, 19, 8, 5, 8, 2, 3, 8, 18, 2, 14, 21, 4, 17, 8, 4, 18, 11, 4, 3, 19, 14, 0, 17, 0, 15, 8, 3, 8, 13, 2, 17, 4, 0, 18, 4, 8, 13, 19, 7, 4, 17, 0, 19, 4, 14, 5, 12, 0, 19, 7, 4, 12, 0, 19, 8, 2, 0, 11, 3, 8, 18, 2, 14, 21, 4, 17, 24, 19, 7, 0, 19, 2, 14, 13, 19, 8, 13, 20, 4, 18, 19, 14, 19, 7, 4, 15, 17, 4, 18, 4, 13, 19, 3, 0, 24]\n"
     ]
    }
   ],
   "source": [
    "print texto_cod0 ##Nuestro texto convertido en una lista de números comprendidos entre el 0 y el 25"
   ]
  },
  {
   "cell_type": "code",
   "execution_count": 126,
   "metadata": {
    "collapsed": true
   },
   "outputs": [],
   "source": [
    "texto_cod1=map(bin_2, list(texto_cod0)) ## Nuestro texto codificado cad una de sus letras que es un número entre 0 y 25 en binario"
   ]
  },
  {
   "cell_type": "code",
   "execution_count": 127,
   "metadata": {
    "collapsed": false
   },
   "outputs": [
    {
     "name": "stdout",
     "output_type": "stream",
     "text": [
      "['10011', '00111', '10001', '01110', '10100', '00110', '00111', '10011', '00111', '00100', '10100', '10010', '00100', '01110', '00101', '00000', '00001', '10010', '10011', '10001', '00000', '00010', '10011', '01000', '01110', '01101', '00000', '01101', '00011', '01011', '01110', '00110', '01000', '00010', '00000', '01011', '10001', '00100', '00000', '10010', '01110', '01101', '01000', '01101', '00110', '01100', '00000', '10011', '00111', '00100', '01100', '00000', '10011', '01000', '00010', '10010', '00011', '00100', '10101', '00100', '01011', '01110', '01111', '00100', '00011', '00101', '10001', '01110', '01100', '00010', '01110', '10100', '01101', '10011', '01000', '01101', '00110', '00010', '00000', '01011', '00010', '10100', '01011', '00000', '10011', '01000', '01110', '01101', '01100', '00100', '00000', '10010', '10100', '10001', '00100', '01100', '00100', '01101', '10011', '00000', '01101', '00011', '10011', '00111', '00100', '10010', '11000', '10010', '10011', '00100', '01100', '00000', '10011', '01000', '00010', '10010', '10011', '10100', '00011', '11000', '01110', '00101', '10011', '00111', '00100', '10010', '00111', '00000', '01111', '00100', '10010', '00000', '01101', '00011', '01100', '01110', '10011', '01000', '01110', '01101', '10010', '01110', '00101', '01111', '00111', '11000', '10010', '01000', '00010', '00000', '01011', '01110', '00001', '01001', '00100', '00010', '10011', '10010', '01111', '10001', '00000', '00010', '10011', '01000', '00010', '00000', '01011', '01100', '00000', '10011', '00111', '00100', '01100', '00000', '10011', '01000', '00010', '10010', '00111', '00000', '10010', '00001', '00100', '00100', '01101', '00000', '00111', '10100', '01100', '00000', '01101', '00000', '00010', '10011', '01000', '10101', '01000', '10011', '11000', '00101', '01110', '10001', '00000', '10010', '00101', '00000', '10001', '00001', '00000', '00010', '01010', '00000', '10010', '10110', '10001', '01000', '10011', '10011', '00100', '01101', '10001', '00100', '00010', '01110', '10001', '00011', '10010', '00100', '10111', '01000', '10010', '10011', '10001', '01000', '00110', '01110', '10001', '01110', '10100', '10010', '00000', '10001', '00110', '10100', '01100', '00100', '01101', '10011', '10010', '00101', '01000', '10001', '10010', '10011', '00000', '01111', '01111', '00100', '00000', '10001', '00100', '00011', '01000', '01101', '00110', '10001', '00100', '00100', '01010', '01100', '00000', '10011', '00111', '00100', '01100', '00000', '10011', '01000', '00010', '10010', '01100', '01110', '10010', '10011', '01101', '01110', '10011', '00000', '00001', '01011', '11000', '01000', '01101', '00100', '10100', '00010', '01011', '01000', '00011', '10010', '00100', '01011', '00100', '01100', '00100', '01101', '10011', '10010', '01100', '00000', '10011', '00111', '00100', '01100', '00000', '10011', '01000', '00010', '10010', '00011', '00100', '10101', '00100', '01011', '01110', '01111', '00100', '00011', '00000', '10011', '00000', '10001', '00100', '01011', '00000', '10011', '01000', '10101', '00100', '01011', '11000', '10010', '01011', '01110', '10110', '01111', '00000', '00010', '00100', '10100', '01101', '10011', '01000', '01011', '10011', '00111', '00100', '10001', '00100', '01101', '00000', '01000', '10010', '10010', '00000', '01101', '00010', '00100', '10110', '00111', '00100', '01101', '01100', '00000', '10011', '00111', '00100', '01100', '00000', '10011', '01000', '00010', '00000', '01011', '01000', '01101', '01101', '01110', '10101', '00000', '10011', '01000', '01110', '01101', '10010', '01000', '01101', '10011', '00100', '10001', '00000', '00010', '10011', '01000', '01101', '00110', '10110', '01000', '10011', '00111', '01101', '00100', '10110', '10010', '00010', '01000', '00100', '01101', '10011', '01000', '00101', '01000', '00010', '00011', '01000', '10010', '00010', '01110', '10101', '00100', '10001', '01000', '00100', '10010', '01011', '00100', '00011', '10011', '01110', '00000', '10001', '00000', '01111', '01000', '00011', '01000', '01101', '00010', '10001', '00100', '00000', '10010', '00100', '01000', '01101', '10011', '00111', '00100', '10001', '00000', '10011', '00100', '01110', '00101', '01100', '00000', '10011', '00111', '00100', '01100', '00000', '10011', '01000', '00010', '00000', '01011', '00011', '01000', '10010', '00010', '01110', '10101', '00100', '10001', '11000', '10011', '00111', '00000', '10011', '00010', '01110', '01101', '10011', '01000', '01101', '10100', '00100', '10010', '10011', '01110', '10011', '00111', '00100', '01111', '10001', '00100', '10010', '00100', '01101', '10011', '00011', '00000', '11000']\n"
     ]
    }
   ],
   "source": [
    "print list(texto_cod1)"
   ]
  },
  {
   "cell_type": "code",
   "execution_count": 129,
   "metadata": {
    "collapsed": false
   },
   "outputs": [],
   "source": [
    "texto_cod2= join(texto_cod1, sep=\"\")"
   ]
  },
  {
   "cell_type": "code",
   "execution_count": 130,
   "metadata": {
    "collapsed": false
   },
   "outputs": [
    {
     "name": "stdout",
     "output_type": "stream",
     "text": [
      "100110011110001011101010000110001111001100111001001010010010001000111000101000000000110010100111000100000000101001101000011100110100000011010001101011011100011001000000100000001011100010010000000100100111001101010000110100110011000000010011001110010001100000001001101000000101001000011001001010100100010110111001111001000001100101100010111001100000100111010100011011001101000011010011000010000000101100010101000101100000100110100001110011010110000100000001001010100100010010001100001000110110011000000110100011100110011100100100101100010010100110010001100000001001101000000101001010011101000001111000011100010110011001110010010010001110000001111001001001000000011010001101100011101001101000011100110110010011100010101111001111100010010010000001000000010110111000001010010010000010100111001001111100010000000010100110100000010000000101101100000001001100111001000110000000100110100000010100100011100000100100000100100001000110100000001111010001100000000110100000000101001101000101010100010011110000010101110100010000010010001010000010001000010000000010010100000010010101101000101000100111001100100011011000100100000100111010001000111001000100101110100010010100111000101000001100111010001011101010010010000001000100110101000110000100011011001110010001010100010001100101001100000011110111100100000001000100100000110100001101001101000100100001000101001100000001001100111001000110000000100110100000010100100110001110100101001101101011101001100000000010101111000010000110100100101000001001011010000001110010001000101100100011000010001101100111001001100000001001100111001000110000000100110100000010100100001100100101010010001011011100111100100000110000010011000001000100100010110000010011010001010100100010111100010010010110111010110011110000000010001001010001101100110100001011100110011100100100010010001101000000100010010100100000001101000100010010110001110010001101011000000010011001110010001100000001001101000000100000001011010000110101101011101010100000100110100001110011011001001000011011001100100100010000000010100110100001101001101011001000100110011101101001001011010010000100100000100011011001101000001010100000010000110100010010000100111010101001001000101000001001001001011001000001110011011100000010001000000111101000000110100001101000101000100100000001001000100010000110110011001110010010001000001001100100011100010101100000001001100111001000110000000100110100000010000000101100011010001001000010011101010100100100011100010011001110000010011000100111001101100110100001101101000010010010100110111010011001110010001111100010010010010001000110110011000110000011000\n"
     ]
    }
   ],
   "source": [
    "print texto_cod2"
   ]
  },
  {
   "cell_type": "markdown",
   "metadata": {},
   "source": [
    "#### Aquí está nuestro texto codificado en binario"
   ]
  },
  {
   "cell_type": "code",
   "execution_count": 136,
   "metadata": {
    "collapsed": false
   },
   "outputs": [],
   "source": [
    "texto2 = limpiar(texto, alfb)"
   ]
  },
  {
   "cell_type": "code",
   "execution_count": 137,
   "metadata": {
    "collapsed": true
   },
   "outputs": [],
   "source": [
    "def codificar(texto):\n",
    "    L = map(ord2, list(texto))\n",
    "    L1 = map(bin_2, L)\n",
    "    L2 = join(L1, sep=\"\")\n",
    "    return L2;"
   ]
  },
  {
   "cell_type": "code",
   "execution_count": 138,
   "metadata": {
    "collapsed": false
   },
   "outputs": [
    {
     "data": {
      "text/plain": [
       "'100110011110001011101010000110001111001100111001001010010010001000111000101000000000110010100111000100000000101001101000011100110100000011010001101011011100011001000000100000001011100010010000000100100111001101010000110100110011000000010011001110010001100000001001101000000101001000011001001010100100010110111001111001000001100101100010111001100000100111010100011011001101000011010011000010000000101100010101000101100000100110100001110011010110000100000001001010100100010010001100001000110110011000000110100011100110011100100100101100010010100110010001100000001001101000000101001010011101000001111000011100010110011001110010010010001110000001111001001001000000011010001101100011101001101000011100110110010011100010101111001111100010010010000001000000010110111000001010010010000010100111001001111100010000000010100110100000010000000101101100000001001100111001000110000000100110100000010100100011100000100100000100100001000110100000001111010001100000000110100000000101001101000101010100010011110000010101110100010000010010001010000010001000010000000010010100000010010101101000101000100111001100100011011000100100000100111010001000111001000100101110100010010100111000101000001100111010001011101010010010000001000100110101000110000100011011001110010001010100010001100101001100000011110111100100000001000100100000110100001101001101000100100001000101001100000001001100111001000110000000100110100000010100100110001110100101001101101011101001100000000010101111000010000110100100101000001001011010000001110010001000101100100011000010001101100111001001100000001001100111001000110000000100110100000010100100001100100101010010001011011100111100100000110000010011000001000100100010110000010011010001010100100010111100010010010110111010110011110000000010001001010001101100110100001011100110011100100100010010001101000000100010010100100000001101000100010010110001110010001101011000000010011001110010001100000001001101000000100000001011010000110101101011101010100000100110100001110011011001001000011011001100100100010000000010100110100001101001101011001000100110011101101001001011010010000100100000100011011001101000001010100000010000110100010010000100111010101001001000101000001001001001011001000001110011011100000010001000000111101000000110100001101000101000100100000001001000100010000110110011001110010010001000001001100100011100010101100000001001100111001000110000000100110100000010000000101100011010001001000010011101010100100100011100010011001110000010011000100111001101100110100001101101000010010010100110111010011001110010001111100010010010010001000110110011000110000011000'"
      ]
     },
     "execution_count": 138,
     "metadata": {},
     "output_type": "execute_result"
    }
   ],
   "source": [
    "codificar(texto2)"
   ]
  },
  {
   "cell_type": "code",
   "execution_count": 143,
   "metadata": {
    "collapsed": true
   },
   "outputs": [],
   "source": [
    "def descodificar(C):\n",
    "    C1=''\n",
    "    while C != '':\n",
    "        C1 = C1 +chr2(ZZ(C[:5], base =2))  ##Lo que estamos haciendo aquí es tomar las letras del alfabeto que estén formadas por esos 5 bits\n",
    "        C = C[5:]\n",
    "    return C1"
   ]
  },
  {
   "cell_type": "code",
   "execution_count": 144,
   "metadata": {
    "collapsed": false
   },
   "outputs": [
    {
     "data": {
      "text/plain": [
       "'THROUGHTHEUSEOFABSTRACTIONANDLOGICALREASONINGMATHEMATICSDEVELOPEDFROMCOUNTINGCALCULATIONMEASUREMENTANDTHESYSTEMATICSTUDYOFTHESHAPESANDMOTIONSOFPHYSICALOBJECTSPRACTICALMATHEMATICSHASBEENAHUMANACTIVITYFORASFARBACKASWRITTENRECORDSEXISTRIGOROUSARGUMENTSFIRSTAPPEAREDINGREEKMATHEMATICSMOSTNOTABLYINEUCLIDSELEMENTSMATHEMATICSDEVELOPEDATARELATIVELYSLOWPACEUNTILTHERENAISSANCEWHENMATHEMATICALINNOVATIONSINTERACTINGWITHNEWSCIENTIFICDISCOVERIESLEDTOARAPIDINCREASEINTHERATEOFMATHEMATICALDISCOVERYTHATCONTINUESTOTHEPRESENTDAY'"
      ]
     },
     "execution_count": 144,
     "metadata": {},
     "output_type": "execute_result"
    }
   ],
   "source": [
    "descodificar(texto_cod2)"
   ]
  },
  {
   "cell_type": "code",
   "execution_count": 146,
   "metadata": {
    "collapsed": false
   },
   "outputs": [
    {
     "data": {
      "text/plain": [
       "'THROUGHTHEUSEOFABSTRACTIONANDLOGICALREASONINGMATHEMATICSDEVELOPEDFROMCOUNTINGCALCULATIONMEASUREMENTANDTHESYSTEMATICSTUDYOFTHESHAPESANDMOTIONSOFPHYSICALOBJECTSPRACTICALMATHEMATICSHASBEENAHUMANACTIVITYFORASFARBACKASWRITTENRECORDSEXISTRIGOROUSARGUMENTSFIRSTAPPEAREDINGREEKMATHEMATICSMOSTNOTABLYINEUCLIDSELEMENTSMATHEMATICSDEVELOPEDATARELATIVELYSLOWPACEUNTILTHERENAISSANCEWHENMATHEMATICALINNOVATIONSINTERACTINGWITHNEWSCIENTIFICDISCOVERIESLEDTOARAPIDINCREASEINTHERATEOFMATHEMATICALDISCOVERYTHATCONTINUESTOTHEPRESENTDAY'"
      ]
     },
     "execution_count": 146,
     "metadata": {},
     "output_type": "execute_result"
    }
   ],
   "source": [
    "descodificar(codificar(texto2))"
   ]
  },
  {
   "cell_type": "code",
   "execution_count": null,
   "metadata": {
    "collapsed": true
   },
   "outputs": [],
   "source": []
  }
 ],
 "metadata": {
  "kernelspec": {
   "display_name": "SageMath 7.3",
   "language": "",
   "name": "sagemath"
  },
  "language_info": {
   "codemirror_mode": {
    "name": "ipython",
    "version": 2
   },
   "file_extension": ".py",
   "mimetype": "text/x-python",
   "name": "python",
   "nbconvert_exporter": "python",
   "pygments_lexer": "ipython2",
   "version": "2.7.10"
  }
 },
 "nbformat": 4,
 "nbformat_minor": 0
}
