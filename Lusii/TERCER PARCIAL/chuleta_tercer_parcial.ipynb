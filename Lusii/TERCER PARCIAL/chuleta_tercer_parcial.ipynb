{
 "cells": [
  {
   "cell_type": "markdown",
   "metadata": {
    "collapsed": true
   },
   "source": [
    "# CRIPTOGRAFÍA #"
   ]
  },
  {
   "cell_type": "markdown",
   "metadata": {},
   "source": [
    "Para encriptar un mensaje utilizamos:\n",
    "- Una clave perteneciente a un cierto conjunto Kc.\n",
    "- Un algoritmo que para cada mensaje y para cada clave nos da un     mensaje encriptado."
   ]
  },
  {
   "cell_type": "markdown",
   "metadata": {},
   "source": [
    "Para cada clave de encriptado vamos a necesitar una clave de desencriptado perteneciente al conjunto Kd. Los conjuntos de Kc y de Kd deben de ser biyectivos"
   ]
  },
  {
   "cell_type": "markdown",
   "metadata": {},
   "source": [
    "Necesitamos un algoritmo de desencriptado para que cada mensaje encriptado con su clave de desencriptado nos devuelva el mensaje original"
   ]
  },
  {
   "cell_type": "markdown",
   "metadata": {},
   "source": [
    "Un algoritmo no es más seguro cuanto más difícil sea el algoritmo de encriptado, si no que ls claves deben mantenerse secreas y deben de pertenecer a un espacio cuanto más grande más seguro y elegirlas aleatoriamente."
   ]
  },
  {
   "cell_type": "markdown",
   "metadata": {},
   "source": [
    "### CODIFICACIÓN"
   ]
  },
  {
   "cell_type": "markdown",
   "metadata": {},
   "source": [
    "Lo que tenemos que hacer es implementar algunas funciones de encriptado y desencriptado que lo que nos devuelva sea la cadena que hemos introducido como mensaje, pero encriptada con números(por ejemplo).\n",
    "\n",
    "Entonces la codificación puede verse como una función biyeciva del conjunto de mensaje M en un cierto conjunto numérico (por ejemplo)."
   ]
  },
  {
   "cell_type": "code",
   "execution_count": 1,
   "metadata": {
    "collapsed": false
   },
   "outputs": [
    {
     "name": "stdout",
     "output_type": "stream",
     "text": [
      "[72, 79, 76, 65]\n"
     ]
    }
   ],
   "source": [
    "cad=\"HOLA\";\n",
    "print(map(ord, [x for x in cad]))"
   ]
  },
  {
   "cell_type": "markdown",
   "metadata": {},
   "source": [
    "- map: lo que hace es aplicar la función que le pasamos como primer parámetro\n",
    "- ord: lo que hace es devolver el caracter ASCII de cada uno de los caracteres de la cadena"
   ]
  },
  {
   "cell_type": "code",
   "execution_count": 2,
   "metadata": {
    "collapsed": false
   },
   "outputs": [
    {
     "name": "stdout",
     "output_type": "stream",
     "text": [
      "['H', 'O', 'L', 'A']\n"
     ]
    }
   ],
   "source": [
    "print(map(chr, map(ord, [x for x in cad])))"
   ]
  },
  {
   "cell_type": "markdown",
   "metadata": {},
   "source": [
    "- chr : es la función inversa de ord"
   ]
  },
  {
   "cell_type": "code",
   "execution_count": 3,
   "metadata": {
    "collapsed": true
   },
   "outputs": [],
   "source": [
    "L_cad= list(cad)"
   ]
  },
  {
   "cell_type": "code",
   "execution_count": 4,
   "metadata": {
    "collapsed": false
   },
   "outputs": [
    {
     "name": "stdout",
     "output_type": "stream",
     "text": [
      "['H', 'O', 'L', 'A']\n"
     ]
    }
   ],
   "source": [
    "print(L_cad)"
   ]
  },
  {
   "cell_type": "code",
   "execution_count": 5,
   "metadata": {
    "collapsed": true
   },
   "outputs": [],
   "source": [
    "def ord2(c):\n",
    "    return L_cad.index(c)"
   ]
  },
  {
   "cell_type": "code",
   "execution_count": 6,
   "metadata": {
    "collapsed": true
   },
   "outputs": [],
   "source": [
    "def chr2(n):\n",
    "    return L_cad[n]"
   ]
  },
  {
   "cell_type": "code",
   "execution_count": 7,
   "metadata": {
    "collapsed": false
   },
   "outputs": [
    {
     "name": "stdout",
     "output_type": "stream",
     "text": [
      "[0, 1, 2, 3]\n"
     ]
    }
   ],
   "source": [
    "print map(ord2, [x for x in cad])"
   ]
  },
  {
   "cell_type": "code",
   "execution_count": 8,
   "metadata": {
    "collapsed": false
   },
   "outputs": [
    {
     "name": "stdout",
     "output_type": "stream",
     "text": [
      "['H', 'O', 'L', 'A']\n"
     ]
    }
   ],
   "source": [
    "print map(chr2, map(ord2, [x for x in cad]))"
   ]
  },
  {
   "cell_type": "markdown",
   "metadata": {},
   "source": [
    "- .index : empieza a asiganr a la lista que le pasa números empezando desde el 0"
   ]
  },
  {
   "cell_type": "markdown",
   "metadata": {
    "collapsed": true
   },
   "source": [
    "## Criptoanálisis"
   ]
  },
  {
   "cell_type": "markdown",
   "metadata": {},
   "source": [
    "- Como el conjunto de posibles claves es finito, podemos ir probando hasta encontrar un texto legible, esto es lo que se llama \"un ataque mediante fuerza bruta\". El fallo que tiene es que el espacio de claves puede ser enorme.\n",
    "\n",
    "- Los sistemas criptográficos podían ser atacados mediante análisis estadístico, estudiando las frecuencias de las letras."
   ]
  },
  {
   "cell_type": "markdown",
   "metadata": {},
   "source": [
    "## Criptografía clásica"
   ]
  },
  {
   "cell_type": "markdown",
   "metadata": {},
   "source": [
    "### 1)Cifra de César\n"
   ]
  },
  {
   "cell_type": "markdown",
   "metadata": {},
   "source": [
    "- Cada una de las 26 letras se codifica como un entero módulo 26. La asignación puede ser arbitraria, pero por lo general suele ser la 'A' al cero, la 'B' al uno...\n",
    "\n",
    "- El conjunto de claves para encriptar y desencriptar son el mismo e igual a los enteros de módulo 26.\n",
    "\n",
    "- Supongamos elegida una clave k, el encriptado se hace letra a letra sumando (simpre en módulo 26) la clave con cada letra.\n",
    "\n",
    "- Se descodifica letra a letra con la inversa de la función para encriptarlo, en este caso sería la resta 26-k.\n",
    "\n",
    "Es muy fácil desencriptar el método de César, haciéndolo bien a fuerza bruta o mediante el análisis de frecuencias."
   ]
  },
  {
   "cell_type": "markdown",
   "metadata": {
    "collapsed": true
   },
   "source": [
    "### 2) Cifrado de permutación"
   ]
  },
  {
   "cell_type": "markdown",
   "metadata": {},
   "source": [
    "Para mejorar el algoritmo de César lo que hace es que a cada letra le va a asignar no una sola letra, si no varias de tal forma que ahora hay 26! biyecciones de Z26 en sí mismo.\n",
    "\n",
    "Atacar a este sistema mediante la fuerza bruta es más costos, pero se sigue pudiendo atacar mediante el algoritmo de análisis de frecuencias."
   ]
  },
  {
   "cell_type": "markdown",
   "metadata": {},
   "source": [
    " #### 2.1)Oscurecimiento de las frecuencias"
   ]
  },
  {
   "cell_type": "markdown",
   "metadata": {},
   "source": [
    "Si un sistema como el cifrado de permutaciones e fácilmente atacable mediante el análisis de frecuencias, podemos \"oscurecer\" las frecuencias de las letras en lugar de 26 caracteres lo que hacemos es un alfabeto con 100 símbolos y a una letra, por ejemplo la \"E\" que tiene una frecuencia del 12%, le adjudicamos 12 símbolos. Así de esta forma elegiremos uno de esos 12 símbolos leatoriamente para la letra E. \n",
    "\n",
    "De esta forma los 100 símbolos de nuestro alfabeto van a tener una frecuencia del 1% y ya el texto encriptado no tiene relevancia acerca de la frecuencia de cada uno de sus símbolos. La información explotable ahora va a provenir de pares y tripletes de letras"
   ]
  },
  {
   "cell_type": "markdown",
   "metadata": {},
   "source": [
    "   ### 3)Cifra de Vigenere"
   ]
  },
  {
   "cell_type": "markdown",
   "metadata": {},
   "source": [
    "Mejora el sistema de Cifrado de César, haciendo que la clave de César sea distinta dependendo de la posición que ocupa el caracter en el texto.\n",
    "\n",
    "1. Elegimos una palabra con cierta longitud que será la clave (p.ej 'CIRUELA').\n",
    "2. Pensamos que el texto está en unasola línea y escriimos la clave hasta que sobrepasamos la longitud del texto.\n",
    "3. Cada letra se va a encriptar mediante César usando com clave la posición en el alfabeto de la letra de la palabra clave.\n"
   ]
  },
  {
   "cell_type": "markdown",
   "metadata": {},
   "source": [
    "Si usamos palabras clave de longitud k, el espacio de claves tiene 26^k posibles clave. Es razonable que la palabra\n",
    "no sea existente en el texto."
   ]
  },
  {
   "cell_type": "markdown",
   "metadata": {
    "collapsed": true
   },
   "source": [
    "### 4) Cifrado matricial"
   ]
  },
  {
   "cell_type": "markdown",
   "metadata": {},
   "source": [
    "Es un método que no mejora mucho la seguridad del sistema de César. Usamos biyecciones afines de Z26 en sí mismo, es decir, funciones \n",
    "f(x)=a*x+b, con a invertible y b arbitrario en Z26."
   ]
  },
  {
   "cell_type": "markdown",
   "metadata": {},
   "source": [
    "f(x)=A*X+b  \n",
    "- A: matriz nxn invertibles con entradas en Z26 si y solo si su determinante es igual a 0\n",
    "- X y b: vectores en Z26. "
   ]
  },
  {
   "cell_type": "markdown",
   "metadata": {},
   "source": [
    "Forma de codificación:\n",
    "- 1.Los mensajes se codifican igual que en César.\n",
    "- 2.Cada mensaje lo dividimos en trozos de n caractere, cada uno de los cuales está codificado con un vector en Z26. Si el último trozo no llega a n caracteres se añaden al final las zetas necesarias.\n",
    "- 3.Se en cripta usando la función biyectiva f(X)=A*X+b, y en consecuencia, se desencripta mediante g(Y)=A⁽-¹⁾ *(Y-b) con todas las operaciones realizadas módulo 26"
   ]
  },
  {
   "cell_type": "markdown",
   "metadata": {},
   "source": [
    "Tomando n suficientemente grande se consigue un espacio de claves muy grande.\n",
    "Si conseguimos n+1 vectores en Z26 y los n+1 vectores que le corresponden mediante la transformación afín, y siempre que lo n+1 vectores formen un sistema de referencia afín , se puede obtener la transformación afin, es decir, la clave."
   ]
  },
  {
   "cell_type": "markdown",
   "metadata": {},
   "source": [
    "### 5) One time pad"
   ]
  },
  {
   "cell_type": "markdown",
   "metadata": {},
   "source": [
    "Para encriptar un mensaje debemos:\n",
    "- a) Codificarlo en binario: Suponemos que el mensaje está formado por una única cadena,  sin espacios, usando 26 letras mayúsculas. Como 26 < 2^5 = 32 podemos usar una palabra binaria de 5 bits para representar cada letra del alfabeto. Si el mensaje tenía N letras queda codificado mediante una cadena binaria de 5 × N bits (5 × N ceros o unos).\n",
    "- b) Encriptarlo: tomamos los primeros 5 × N bits de la clave y encriptamos cada bit del  mensaje sumándole el bit que ocupa el mismo lugar en la clave mediante la regla 0 + 0 = 0; 0 + 1 = 1 = 1 + 0; 1 + 1 = 0. Le quitamos a la clave, el emisor y el receptor, los 5 × N bits ya usados. El siguiente mensaje que se encripte usará entonces bits de la clave original a partir del que ocupa el lugar 5 × N.\n",
    "- c) Descodificarlo: Hemos obtenido una cadena binaria de longitud 5 × N que podemos descodificar para obtener un texto que enviaríamos. Observa que para codificar sólo necesitamos conocer la palabra binaria que codifica cada letra, pero para poder descodificar necesitamos usar un alfabeto de 32 caracteres, de forma que a toda palabra\n",
    "binaria de 5 bits le corresponda, de forma biunívoca, uno de los caracteres del alfabeto."
   ]
  },
  {
   "cell_type": "code",
   "execution_count": null,
   "metadata": {
    "collapsed": true
   },
   "outputs": [],
   "source": []
  }
 ],
 "metadata": {
  "kernelspec": {
   "display_name": "SageMath 7.3",
   "language": "",
   "name": "sagemath"
  },
  "language_info": {
   "codemirror_mode": {
    "name": "ipython",
    "version": 2
   },
   "file_extension": ".py",
   "mimetype": "text/x-python",
   "name": "python",
   "nbconvert_exporter": "python",
   "pygments_lexer": "ipython2",
   "version": "2.7.10"
  }
 },
 "nbformat": 4,
 "nbformat_minor": 0
}
