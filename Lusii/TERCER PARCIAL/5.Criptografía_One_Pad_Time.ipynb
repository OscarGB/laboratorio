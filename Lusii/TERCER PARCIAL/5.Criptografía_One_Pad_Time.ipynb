{
 "cells": [
  {
   "cell_type": "code",
   "execution_count": 1,
   "metadata": {
    "collapsed": true
   },
   "outputs": [],
   "source": [
    "alf = 'ABCDEFGHIJKLMNOPQRSTUVWXYZ:;,#$@'"
   ]
  },
  {
   "cell_type": "code",
   "execution_count": 2,
   "metadata": {
    "collapsed": false
   },
   "outputs": [
    {
     "data": {
      "text/plain": [
       "32"
      ]
     },
     "execution_count": 2,
     "metadata": {},
     "output_type": "execute_result"
    }
   ],
   "source": [
    "len(alf)"
   ]
  },
  {
   "cell_type": "markdown",
   "metadata": {},
   "source": [
    "<p>&iquest;Por qu&eacute; queremos usar un alfabeto de $32$ letras?</p>"
   ]
  },
  {
   "cell_type": "markdown",
   "metadata": {},
   "source": [
    "26<2^5=32 para que a la hora de descodificar le toque a toda palabra binaria de 5 bits un caracter del dicccionario"
   ]
  },
  {
   "cell_type": "code",
   "execution_count": 3,
   "metadata": {
    "collapsed": true
   },
   "outputs": [],
   "source": [
    "texto = 'THROUGHTHEUSEOFABSTRACTIONANDLOGICALREASONINGMATHEMATICSDEVELOPEDFROMCO\\\n",
    "UNTINGCALCULATIONMEASUREMENTANDTHESYSTEMATICSTUDYOFTHESHAPESANDMOTIONSOF\\\n",
    "PHYSICALOBJECTSPRACTICALMATHEMATICSHASBEENAHUMANACTIVITYFORASFARBACKASWR\\\n",
    "ITTENRECORDSEXISTRIGOROUSARGUMENTSFIRSTAPPEAREDINGREEKMATHEMATICSMOSTNOT\\\n",
    "ABLYINEUCLIDSELEMENTSMATHEMATICSDEVELOPEDATARELATIVELYSLOWPACEUNTILTHERE\\\n",
    "NAISSANCEWHENMATHEMATICALINNOVATIONSINTERACTINGWITHNEWSCIENTIFICDISCOVER\\\n",
    "IESLEDTOARAPIDINCREASEINTHERATEOFMATHEMATICALDISCOVERYTHATCONTINUESTOTHE\\\n",
    "PRESENTDAY'"
   ]
  },
  {
   "cell_type": "code",
   "execution_count": 4,
   "metadata": {
    "collapsed": false
   },
   "outputs": [
    {
     "data": {
      "text/plain": [
       "513"
      ]
     },
     "execution_count": 4,
     "metadata": {},
     "output_type": "execute_result"
    }
   ],
   "source": [
    "len(texto)"
   ]
  },
  {
   "cell_type": "markdown",
   "metadata": {},
   "source": [
    "<h3>Apartado 1 : generar clave</h3>"
   ]
  },
  {
   "cell_type": "code",
   "execution_count": 6,
   "metadata": {
    "collapsed": true
   },
   "outputs": [],
   "source": [
    "clave = [randint(0,1) for muda in xrange(10^6)]"
   ]
  },
  {
   "cell_type": "markdown",
   "metadata": {},
   "source": [
    "Suponemos que nuestra cadena tiene un millón de ceros y de unos"
   ]
  },
  {
   "cell_type": "code",
   "execution_count": 8,
   "metadata": {
    "collapsed": false
   },
   "outputs": [
    {
     "data": {
      "text/plain": [
       "[50129, 49942, 50024, 49976, 49846, 50162, 49740, 50152, 49957, 49984]"
      ]
     },
     "execution_count": 8,
     "metadata": {},
     "output_type": "execute_result"
    }
   ],
   "source": [
    "[sum(clave[k*10^5:(k+1)*10^5]) for k in srange(10)]"
   ]
  },
  {
   "cell_type": "markdown",
   "metadata": {},
   "source": [
    "Lo que estamos viendo es el número de 1's que hay en cada uno de los fragmentos, dado que la suma de 0 y 1 va a ser 1"
   ]
  },
  {
   "cell_type": "code",
   "execution_count": 9,
   "metadata": {
    "collapsed": true
   },
   "outputs": [],
   "source": [
    "def cadena(L):\n",
    "    C = ''\n",
    "    for item in L:\n",
    "        C += str(item)\n",
    "    return C"
   ]
  },
  {
   "cell_type": "code",
   "execution_count": 10,
   "metadata": {
    "collapsed": false
   },
   "outputs": [
    {
     "data": {
      "text/plain": [
       "'0011110111'"
      ]
     },
     "execution_count": 10,
     "metadata": {},
     "output_type": "execute_result"
    }
   ],
   "source": [
    "clave_c = cadena(clave);clave_c[0:10]"
   ]
  },
  {
   "cell_type": "markdown",
   "metadata": {},
   "source": [
    "<h3>Apartado 2: Codificar</h3>\n"
   ]
  },
  {
   "cell_type": "code",
   "execution_count": 12,
   "metadata": {
    "collapsed": true
   },
   "outputs": [],
   "source": [
    "L_alf = list(alf)"
   ]
  },
  {
   "cell_type": "code",
   "execution_count": 13,
   "metadata": {
    "collapsed": true
   },
   "outputs": [],
   "source": [
    "def ord2(c):\n",
    "    return L_alf.index(c)"
   ]
  },
  {
   "cell_type": "code",
   "execution_count": 14,
   "metadata": {
    "collapsed": true
   },
   "outputs": [],
   "source": [
    "def chr2(n):\n",
    "    return L_alf[n]"
   ]
  },
  {
   "cell_type": "code",
   "execution_count": 15,
   "metadata": {
    "collapsed": true
   },
   "outputs": [],
   "source": [
    "def codificar(texto):\n",
    "    texto_c = ''\n",
    "    L = map(ord2, list(texto))\n",
    "    for item in L:\n",
    "        L1 = ZZ(item).digits(base =2, padto=5)\n",
    "        L1.reverse()\n",
    "        texto_c += cadena(L1)\n",
    "    return texto_c"
   ]
  },
  {
   "cell_type": "code",
   "execution_count": 16,
   "metadata": {
    "collapsed": true
   },
   "outputs": [],
   "source": [
    "def descodificar(texto_e):\n",
    "    texto_d = ''\n",
    "    if len(texto_e) == 0:\n",
    "        return texto_d\n",
    "    texto_dp = descodificar(texto_e[5:])\n",
    "    return chr2(ZZ(texto_e[:5], base=2))+texto_dp"
   ]
  },
  {
   "cell_type": "code",
   "execution_count": 28,
   "metadata": {
    "collapsed": false
   },
   "outputs": [],
   "source": [
    "texto_c = codificar(texto)"
   ]
  },
  {
   "cell_type": "code",
   "execution_count": 29,
   "metadata": {
    "collapsed": false
   },
   "outputs": [
    {
     "data": {
      "text/plain": [
       "'100110011110001011101010000110001111001100111001001010010010001000111000101000000000110010100111000100000000101001101000011100110100000011010001101011011100011001000000100000001011100010010000000100100111001101010000110100110011000000010011001110010001100000001001101000000101001000011001001010100100010110111001111001000001100101100010111001100000100111010100011011001101000011010011000010000000101100010101000101100000100110100001110011010110000100000001001010100100010010001100001000110110011000000110100011100110011100100100101100010010100110010001100000001001101000000101001010011101000001111000011100010110011001110010010010001110000001111001001001000000011010001101100011101001101000011100110110010011100010101111001111100010010010000001000000010110111000001010010010000010100111001001111100010000000010100110100000010000000101101100000001001100111001000110000000100110100000010100100011100000100100000100100001000110100000001111010001100000000110100000000101001101000101010100010011110000010101110100010000010010001010000010001000010000000010010100000010010101101000101000100111001100100011011000100100000100111010001000111001000100101110100010010100111000101000001100111010001011101010010010000001000100110101000110000100011011001110010001010100010001100101001100000011110111100100000001000100100000110100001101001101000100100001000101001100000001001100111001000110000000100110100000010100100110001110100101001101101011101001100000000010101111000010000110100100101000001001011010000001110010001000101100100011000010001101100111001001100000001001100111001000110000000100110100000010100100001100100101010010001011011100111100100000110000010011000001000100100010110000010011010001010100100010111100010010010110111010110011110000000010001001010001101100110100001011100110011100100100010010001101000000100010010100100000001101000100010010110001110010001101011000000010011001110010001100000001001101000000100000001011010000110101101011101010100000100110100001110011011001001000011011001100100100010000000010100110100001101001101011001000100110011101101001001011010010000100100000100011011001101000001010100000010000110100010010000100111010101001001000101000001001001001011001000001110011011100000010001000000111101000000110100001101000101000100100000001001000100010000110110011001110010010001000001001100100011100010101100000001001100111001000110000000100110100000010000000101100011010001001000010011101010100100100011100010011001110000010011000100111001101100110100001101101000010010010100110111010011001110010001111100010010010010001000110110011000110000011000'"
      ]
     },
     "execution_count": 29,
     "metadata": {},
     "output_type": "execute_result"
    }
   ],
   "source": [
    "texto_c"
   ]
  },
  {
   "cell_type": "code",
   "execution_count": 30,
   "metadata": {
    "collapsed": false
   },
   "outputs": [
    {
     "data": {
      "text/plain": [
       "'THROUGHTHEUSEOFABSTRACTIONANDLOGICALREASONINGMATHEMATICSDEVELOPEDFROMCOUNTINGCALCULATIONMEASUREMENTANDTHESYSTEMATICSTUDYOFTHESHAPESANDMOTIONSOFPHYSICALOBJECTSPRACTICALMATHEMATICSHASBEENAHUMANACTIVITYFORASFARBACKASWRITTENRECORDSEXISTRIGOROUSARGUMENTSFIRSTAPPEAREDINGREEKMATHEMATICSMOSTNOTABLYINEUCLIDSELEMENTSMATHEMATICSDEVELOPEDATARELATIVELYSLOWPACEUNTILTHERENAISSANCEWHENMATHEMATICALINNOVATIONSINTERACTINGWITHNEWSCIENTIFICDISCOVERIESLEDTOARAPIDINCREASEINTHERATEOFMATHEMATICALDISCOVERYTHATCONTINUESTOTHEPRESENTDAY'"
      ]
     },
     "execution_count": 30,
     "metadata": {},
     "output_type": "execute_result"
    }
   ],
   "source": [
    "descodificar(texto_c)"
   ]
  },
  {
   "cell_type": "code",
   "execution_count": 31,
   "metadata": {
    "collapsed": false
   },
   "outputs": [
    {
     "data": {
      "text/plain": [
       "'THROUGHTHEUSEOFABSTRACTIONANDLOGICALREASONINGMATHEMATICSDEVELOPEDFROMCOUNTINGCALCULATIONMEASUREMENTANDTHESYSTEMATICSTUDYOFTHESHAPESANDMOTIONSOFPHYSICALOBJECTSPRACTICALMATHEMATICSHASBEENAHUMANACTIVITYFORASFARBACKASWRITTENRECORDSEXISTRIGOROUSARGUMENTSFIRSTAPPEAREDINGREEKMATHEMATICSMOSTNOTABLYINEUCLIDSELEMENTSMATHEMATICSDEVELOPEDATARELATIVELYSLOWPACEUNTILTHERENAISSANCEWHENMATHEMATICALINNOVATIONSINTERACTINGWITHNEWSCIENTIFICDISCOVERIESLEDTOARAPIDINCREASEINTHERATEOFMATHEMATICALDISCOVERYTHATCONTINUESTOTHEPRESENTDAY'"
      ]
     },
     "execution_count": 31,
     "metadata": {},
     "output_type": "execute_result"
    }
   ],
   "source": [
    "descodificar(codificar(texto))"
   ]
  },
  {
   "cell_type": "markdown",
   "metadata": {},
   "source": [
    "<h3>Apartado 3: encriptar</h3>"
   ]
  },
  {
   "cell_type": "code",
   "execution_count": 32,
   "metadata": {
    "collapsed": true
   },
   "outputs": [],
   "source": [
    "def suma_s(c1,c2):\n",
    "    if (c1 == '0' and c2 == '0') or (c1 == '1' and c2 == '1'):\n",
    "        return '0' ##Suma sin llevadas\n",
    "    else:\n",
    "        return '1'"
   ]
  },
  {
   "cell_type": "code",
   "execution_count": 33,
   "metadata": {
    "collapsed": true
   },
   "outputs": [],
   "source": [
    "def encriptar(texto_c,clave):\n",
    "    texto_e = ''\n",
    "    for int in srange(len(texto_c)):\n",
    "        texto_e += suma_s(texto_c[int],clave[int]) ##sumamos el texto con la clave y devuelve un texto encriptado\n",
    "    return texto_e"
   ]
  },
  {
   "cell_type": "code",
   "execution_count": 34,
   "metadata": {
    "collapsed": false
   },
   "outputs": [],
   "source": [
    "texto_en = encriptar(texto_c, clave_c)"
   ]
  },
  {
   "cell_type": "code",
   "execution_count": 35,
   "metadata": {
    "collapsed": false
   },
   "outputs": [
    {
     "data": {
      "text/plain": [
       "'101001000011001000000100001000001100111000100100010111000101111001000010110111111011110111011110110100000111100111010000011110111100101110101000111010101110101100011110001000101100100011000010001000110001110000011101111000101001011000111010000001101010001010010011100011011110000001010010000101000101100101100011101001110011111001010100010110110000101110101101010010100001100111110110001010111100111010111010001000110010101110101100110110010111110011001111000000011010110101011111110000011001010100101100110110000011001011111010001011110001000101110011110000001111101001010111101111010110111100000010010000001111000110110101110101001111011111100111001101011111101100111100011010000110110010010000000010100010001100010111100111000110101110001011110100010011010100110001001100100000101000000101111001001010101011111100010101111010001001010110010111000110101011110101011111010010001101011011111101111010010001011111110001010001011110111011110110001101010001110000001100010011101010011111110111000001110010000100101111101100011010101101101110101101000000000111110100010100100101101111001010100101100111010100001000110011111111101110101001100111110100110101101101010001010101111101110110110100111101110101000001101100001001100001011001110110101101001110110101110001110111000001110111101110000100110101110111000110011000100011111111110000010001111101011110111111110100011001010011011111001000000010110000010011011101011010011111000011010010111000111011001100011100100010001110001100100011011100000100101010001111110110010001000010010011000110101110000011001100011000101010111010000000110011100001001110111001010101001111001000110101001000110111101110000110011101011101011111100101110101001110011001011010101111001010100100011101101101001010100010100111101111001111011010010000110101100010010000110101011110111110100100010011010111110010010111011000101011111111010111011101100111010101001000001111111011100011110110000100100100111000010101001010010011100101101001111100110110111100100100100110010000001111011011001000100000000111001001111000000000001110011011100110001001111110100111000011100011000110110111110111001000101001001111100001101110010100010100000010101110001011010001111011001111110000000100001111001101010001101110000011001110110111000100000000011110100000010010111001101001111100000011000110110101000101011000100010010010000000000001011011100001001111101110111111001101111110001011111100000010101000110010111011010010001011100011010111001000001010010001001110011000111110110100010100111101000111001100111100111011001110011111101010001001110100100010100000001'"
      ]
     },
     "execution_count": 35,
     "metadata": {},
     "output_type": "execute_result"
    }
   ],
   "source": [
    "texto_en"
   ]
  },
  {
   "cell_type": "code",
   "execution_count": 39,
   "metadata": {
    "collapsed": false
   },
   "outputs": [
    {
     "data": {
      "text/plain": [
       "'UQZAIIGOEROF,QW@XXPNA$OQPPF:R:XLDYRMRQRDDQO$FFR:A:RJHDPAKIKFSY#HHZKFWC#NJIM@MK$OXIRSXLGZPTHQDLK@YGKSZWBS@IXRC,$A@JL;:;YCIDY;LVHX,,:@WPDINSIAUIYXTRVYXUJVGEZAUBPEVL$FPISWLRVPK@JDLP;:IX$FC$##RVDQGE#J@XA,QS@MNLN::AD#CSLPFJM#IIZ@#:TH:NNVCV$#WT;VA;BGCZ;LJ;LR;QO$,E:#YZRD@,CH:$@#DFG@EAWBG#NHYNFY#TDSEOGI;QJKH#SEETDLQMYYVOQDHBHOKU$I:SG$,GOXL$LVHGLK$KSHNUVCT;Z#UQ:YSDK$@JCNPSLWFP$XOZ:UQP#Y$YJE,FJJHFU@G;ZETEB#WIQBZHQAHG,YT$TQ,MNX;SFE@BXFCQFOFUPM@QCDZVDOBTW,IAPICLTJ$AY;KFMISIABNYJ$#@G@RPYCUMXNELRVZAURHGH;IU$RZTZ;HH#ITURIB'"
      ]
     },
     "execution_count": 39,
     "metadata": {},
     "output_type": "execute_result"
    }
   ],
   "source": [
    "descodificar(texto_en) ##Vemos que si intentamos descodificarlo nos sale una cosa sin sentido ninguno"
   ]
  },
  {
   "cell_type": "code",
   "execution_count": 37,
   "metadata": {
    "collapsed": false
   },
   "outputs": [
    {
     "data": {
      "text/plain": [
       "True"
      ]
     },
     "execution_count": 37,
     "metadata": {},
     "output_type": "execute_result"
    }
   ],
   "source": [
    "encriptar(encriptar(texto_c,clave_c),clave_c)==texto_c"
   ]
  },
  {
   "cell_type": "code",
   "execution_count": 38,
   "metadata": {
    "collapsed": false
   },
   "outputs": [
    {
     "data": {
      "text/plain": [
       "'THROUGHTHEUSEOFABSTRACTIONANDLOGICALREASONINGMATHEMATICSDEVELOPEDFROMCOUNTINGCALCULATIONMEASUREMENTANDTHESYSTEMATICSTUDYOFTHESHAPESANDMOTIONSOFPHYSICALOBJECTSPRACTICALMATHEMATICSHASBEENAHUMANACTIVITYFORASFARBACKASWRITTENRECORDSEXISTRIGOROUSARGUMENTSFIRSTAPPEAREDINGREEKMATHEMATICSMOSTNOTABLYINEUCLIDSELEMENTSMATHEMATICSDEVELOPEDATARELATIVELYSLOWPACEUNTILTHERENAISSANCEWHENMATHEMATICALINNOVATIONSINTERACTINGWITHNEWSCIENTIFICDISCOVERIESLEDTOARAPIDINCREASEINTHERATEOFMATHEMATICALDISCOVERYTHATCONTINUESTOTHEPRESENTDAY'"
      ]
     },
     "execution_count": 38,
     "metadata": {},
     "output_type": "execute_result"
    }
   ],
   "source": [
    "descodificar(encriptar(encriptar(texto_c,clave_c),clave_c))"
   ]
  },
  {
   "cell_type": "markdown",
   "metadata": {},
   "source": [
    "# MUY IMPORTANTE"
   ]
  },
  {
   "cell_type": "markdown",
   "metadata": {},
   "source": [
    "<h3>Apartado 4: Discutir la seguridad del sistema</h3>\n",
    "\n",
    "<p>Este sistema es totalmente seguro siempre que se consiga mantener en secreto la clave, &eacute;sta se haya generado realmente de manera aleatoria y no se reutilice nunca un trozo de la clave ya usado.&nbsp; Pensemos en un ataque por \"fuerza bruta\": Si el mensaje tiene $N$ bits tendr&iacute;amos que probar&nbsp; las $2^N$ posibles claves y, para cada una de ellas, obtendr&iacute;amos un posible mensaje,&nbsp; pero TODOS los&nbsp; mensajes de $N$ bits aparecer&iacute;an&nbsp; y no habr&iacute;a manera de decidir entre ellos. Por ejemplo, para una cierta clave podr&iacute;amos obtener \"ATACAMOS\",&nbsp; pero para otra obtendr&iacute;amos \"RETIRADA\" y el mensaje encriptado no contiene ninguna informaci&oacute;n que nos permita decidir entre los dos.</p>\n",
    "<p>Podemos argumentar tambi&eacute;n lo siguiente:</p>\n",
    "<ol>\n",
    "<li>En el sistema de C&eacute;sar todas las letras se encriptan con la misma clave y el mensaje encriptado contiene todav&iacute;a un mont&oacute;n de informaci&oacute;n, las frecuencias, acerca del mensaje original. El sistema tambi&eacute;n permite un ataque de fuerza bruta y es muy vulnerable.&nbsp;</li>\n",
    "<li>En el sistema de Vigenere las letras cuya posici&oacute;n difiere en $k$ unidades, la longitud de la clave, se encriptan igual. El mensaje encriptado, si es de suficiente longitud, todav&iacute;a contiene suficiente informaci&oacute;n como para que sea posible un an&aacute;lisis de frecuencias.&nbsp; Un ataque por fuerza bruta es posible en teor&iacute;a, pero si la clave es muy larga imposible en la pr&aacute;ctica.</li>\n",
    "<li>El sistema que estamos discutiendo es, esencialmente, como un Vigenere con la longitud de la clave igual a la longitud del texto.&nbsp; Si la clave se genera aleatoriamente, no queda en el mensaje encriptado ninguna informaci&oacute;n de frecuencias relevante. Si la clave se reutiliza el sistema ya es como un Vigenere, con un texto de longitud el doble de la clave,&nbsp; y el mensaje encriptado contiene algo de informaci&oacute;n sobre el original que puede ser utilizada. </li>\n",
    "</ol>\n",
    "\n",
    "<h3>Apartado 5 : Variante</h3>\n",
    "\n",
    "<p>¿Podemos usar una suma llevando, es decir $1+1=10$ en lugar de $1+1=0$? Para que este m&eacute;todo funcione es conveniente que el mensaje encriptado contenga tambi&eacute;n el n&uacute;mero de bits del mensaje original,&nbsp; ya que es posible que el mensaje encriptado sea m&aacute;s largo porque sumamos llevando. Sin embargo, la longitud del mensage encriptado s&oacute;lo puede ser igual a la del mensaje original o un bit mayor, de forma que si no conocemos la longitud del original podemos hacer dos pruebas y ver cu&aacute;l funciona.</p>\n",
    "<p>Como queremos sumar llevando parece mejor efectuar la suma en base 10 en lugar de implementar una suma binaria llevando.</p>"
   ]
  },
  {
   "cell_type": "code",
   "execution_count": 47,
   "metadata": {
    "collapsed": true
   },
   "outputs": [],
   "source": [
    "def encriptar2(texto_c,clave_c):\n",
    "    N1 = ZZ(texto_c,base=2)\n",
    "    N2 = ZZ(clave_c[:len(texto_c)],base=2)\n",
    "    return len(texto_c),cadena((N1+N2).digits(base=2))"
   ]
  },
  {
   "cell_type": "code",
   "execution_count": 50,
   "metadata": {
    "collapsed": false
   },
   "outputs": [],
   "source": [
    "from string import *\n",
    "def desencriptar2(texto_e,clave_c):\n",
    "    L = list(texto_e[1])\n",
    "    L.reverse()\n",
    "    Z = join(L,sep='')\n",
    "    N1 = ZZ(Z, base=2)\n",
    "    N2 = ZZ(clave_c[:texto_e[0]],base=2)\n",
    "    C = cadena((N1-N2).digits(base=2,padto=texto_e[0]))\n",
    "    L = list(C)\n",
    "    L.reverse() #Otra vez, digits produce el orden inverso al que queremos\n",
    "    return cadena(L)"
   ]
  },
  {
   "cell_type": "code",
   "execution_count": 51,
   "metadata": {
    "collapsed": false
   },
   "outputs": [
    {
     "data": {
      "text/plain": [
       "True"
      ]
     },
     "execution_count": 51,
     "metadata": {},
     "output_type": "execute_result"
    }
   ],
   "source": [
    "desencriptar2(encriptar2(codificar(texto),clave_c),clave_c)==codificar(texto)"
   ]
  },
  {
   "cell_type": "code",
   "execution_count": 52,
   "metadata": {
    "collapsed": false
   },
   "outputs": [
    {
     "data": {
      "text/plain": [
       "True"
      ]
     },
     "execution_count": 52,
     "metadata": {},
     "output_type": "execute_result"
    }
   ],
   "source": [
    "C = join([alf[randint(0,31)] for j in srange(10^5)],sep='') \n",
    "desencriptar2(encriptar2(codificar(C),clave_c),clave_c)==codificar(C)"
   ]
  },
  {
   "cell_type": "code",
   "execution_count": null,
   "metadata": {
    "collapsed": true
   },
   "outputs": [],
   "source": []
  }
 ],
 "metadata": {
  "kernelspec": {
   "display_name": "SageMath 7.3",
   "language": "",
   "name": "sagemath"
  },
  "language_info": {
   "codemirror_mode": {
    "name": "ipython",
    "version": 2
   },
   "file_extension": ".py",
   "mimetype": "text/x-python",
   "name": "python",
   "nbconvert_exporter": "python",
   "pygments_lexer": "ipython2",
   "version": "2.7.10"
  }
 },
 "nbformat": 4,
 "nbformat_minor": 0
}
