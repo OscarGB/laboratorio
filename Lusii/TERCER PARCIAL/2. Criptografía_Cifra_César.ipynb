{
 "cells": [
  {
   "cell_type": "code",
   "execution_count": 1,
   "metadata": {
    "collapsed": true
   },
   "outputs": [],
   "source": [
    "alfb = \"ABCDEFGHIJKLMNOPQRSTUVWXYZ\""
   ]
  },
  {
   "cell_type": "code",
   "execution_count": 2,
   "metadata": {
    "collapsed": true
   },
   "outputs": [],
   "source": [
    "texto = \"Through the use of abstraction and logical reasoning, mathematics developed from counting, calculation, measurement, and the systematic study of the shapes and motions of physical objects. Practical mathematics has been a human activity for as far back as written records exist. Rigorous arguments first appeared in Greek mathematics, most notably in Euclid's Elements. Mathematics developed at a relatively slow pace until the Renaissance, when mathematical innovations interacting with new scientific discoveries led to a rapid increase in the rate of mathematical discovery that continues to the present day.\""
   ]
  },
  {
   "cell_type": "code",
   "execution_count": 3,
   "metadata": {
    "collapsed": false
   },
   "outputs": [
    {
     "name": "stdout",
     "output_type": "stream",
     "text": [
      "[65, 66, 67, 68, 69, 70, 71, 72, 73, 74, 75, 76, 77, 78, 79, 80, 81, 82, 83, 84, 85, 86, 87, 88, 89, 90]\n"
     ]
    }
   ],
   "source": [
    "print map(ord, [x for x in alfb])"
   ]
  },
  {
   "cell_type": "code",
   "execution_count": 5,
   "metadata": {
    "collapsed": false
   },
   "outputs": [
    {
     "name": "stdout",
     "output_type": "stream",
     "text": [
      "['A', 'B', 'C', 'D', 'E', 'F', 'G', 'H', 'I', 'J', 'K', 'L', 'M', 'N', 'O', 'P', 'Q', 'R', 'S', 'T', 'U', 'V', 'W', 'X', 'Y', 'Z']\n"
     ]
    }
   ],
   "source": [
    "print map(chr, map(ord, [x for x in alfb]))"
   ]
  },
  {
   "cell_type": "code",
   "execution_count": 12,
   "metadata": {
    "collapsed": true
   },
   "outputs": [],
   "source": [
    "from string import *\n",
    "def limpiar(texto, alfb):\n",
    "    L = map(ord, [x.capitalize() for x in list(texto)])\n",
    "    L1 = [item for item in L if item in map(ord, [x for x in alfb])]\n",
    "    L2 = join(map(chr, L1), sep = '')\n",
    "    return L2\n",
    "     "
   ]
  },
  {
   "cell_type": "code",
   "execution_count": 13,
   "metadata": {
    "collapsed": false
   },
   "outputs": [
    {
     "data": {
      "text/plain": [
       "'THROUGHTHEUSEOFABSTRACTIONANDLOGICALREASONINGMATHEMATICSDEVELOPEDFROMCOUNTINGCALCULATIONMEASUREMENTANDTHESYSTEMATICSTUDYOFTHESHAPESANDMOTIONSOFPHYSICALOBJECTSPRACTICALMATHEMATICSHASBEENAHUMANACTIVITYFORASFARBACKASWRITTENRECORDSEXISTRIGOROUSARGUMENTSFIRSTAPPEAREDINGREEKMATHEMATICSMOSTNOTABLYINEUCLIDSELEMENTSMATHEMATICSDEVELOPEDATARELATIVELYSLOWPACEUNTILTHERENAISSANCEWHENMATHEMATICALINNOVATIONSINTERACTINGWITHNEWSCIENTIFICDISCOVERIESLEDTOARAPIDINCREASEINTHERATEOFMATHEMATICALDISCOVERYTHATCONTINUESTOTHEPRESENTDAY'"
      ]
     },
     "execution_count": 13,
     "metadata": {},
     "output_type": "execute_result"
    }
   ],
   "source": [
    "limpiar(texto, alfb)"
   ]
  },
  {
   "cell_type": "markdown",
   "metadata": {},
   "source": [
    "# Cifra de César"
   ]
  },
  {
   "cell_type": "code",
   "execution_count": 15,
   "metadata": {
    "collapsed": false
   },
   "outputs": [],
   "source": [
    "def encriptar_cesar(C,k):\n",
    "    L = list(C)\n",
    "    L1 =map(ord,L)\n",
    "    L2 = [(item+k)%256 for item in L1]\n",
    "    C1 = join(map(chr,L2),sep = \"\")\n",
    "    return C1   \n",
    "    "
   ]
  },
  {
   "cell_type": "code",
   "execution_count": 16,
   "metadata": {
    "collapsed": false
   },
   "outputs": [
    {
     "data": {
      "text/plain": [
       "'Ymwtzlm%ymj%zxj%tk%fgxywfhynts%fsi%qtlnhfq%wjfxtsnsl1%rfymjrfynhx%ij{jqtuji%kwtr%htzsynsl1%hfqhzqfynts1%rjfxzwjrjsy1%fsi%ymj%x~xyjrfynh%xyzi~%tk%ymj%xmfujx%fsi%rtyntsx%tk%um~xnhfq%tgojhyx3%Uwfhynhfq%rfymjrfynhx%mfx%gjjs%f%mzrfs%fhyn{ny~%ktw%fx%kfw%gfhp%fx%|wnyyjs%wjhtwix%j}nxy3%Wnltwtzx%fwlzrjsyx%knwxy%fuujfwji%ns%Lwjjp%rfymjrfynhx1%rtxy%styfgq~%ns%Jzhqni,x%Jqjrjsyx3%Rfymjrfynhx%ij{jqtuji%fy%f%wjqfyn{jq~%xqt|%ufhj%zsynq%ymj%Wjsfnxxfshj1%|mjs%rfymjrfynhfq%nsst{fyntsx%nsyjwfhynsl%|nym%sj|%xhnjsynknh%inxht{jwnjx%qji%yt%f%wfuni%nshwjfxj%ns%ymj%wfyj%tk%rfymjrfynhfq%inxht{jw~%ymfy%htsynszjx%yt%ymj%uwjxjsy%if~3'"
      ]
     },
     "execution_count": 16,
     "metadata": {},
     "output_type": "execute_result"
    }
   ],
   "source": [
    "encriptar_cesar(texto, 5)"
   ]
  },
  {
   "cell_type": "code",
   "execution_count": 18,
   "metadata": {
    "collapsed": false
   },
   "outputs": [
    {
     "data": {
      "text/plain": [
       "\"Through the use of abstraction and logical reasoning, mathematics developed from counting, calculation, measurement, and the systematic study of the shapes and motions of physical objects. Practical mathematics has been a human activity for as far back as written records exist. Rigorous arguments first appeared in Greek mathematics, most notably in Euclid's Elements. Mathematics developed at a relatively slow pace until the Renaissance, when mathematical innovations interacting with new scientific discoveries led to a rapid increase in the rate of mathematical discovery that continues to the present day.\""
      ]
     },
     "execution_count": 18,
     "metadata": {},
     "output_type": "execute_result"
    }
   ],
   "source": [
    "encriptar_cesar(encriptar_cesar(texto,5), 251)"
   ]
  },
  {
   "cell_type": "code",
   "execution_count": 20,
   "metadata": {
    "collapsed": false
   },
   "outputs": [
    {
     "data": {
      "text/plain": [
       "'YMWTZLMYMJZXJTKFGXYWFHYNTSFSIQTLNHFQWJFXTSNSLRFYMJRFYNHXIJ[JQTUJIKWTRHTZSYNSLHFQHZQFYNTSRJFXZWJRJSYFSIYMJX^XYJRFYNHXYZI^TKYMJXMFUJXFSIRTYNTSXTKUM^XNHFQTGOJHYXUWFHYNHFQRFYMJRFYNHXMFXGJJSFMZRFSFHYN[NY^KTWFXKFWGFHPFX\\\\WNYYJSWJHTWIXJ]NXYWNLTWTZXFWLZRJSYXKNWXYFUUJFWJINSLWJJPRFYMJRFYNHXRTXYSTYFGQ^NSJZHQNIXJQJRJSYXRFYMJRFYNHXIJ[JQTUJIFYFWJQFYN[JQ^XQT\\\\UFHJZSYNQYMJWJSFNXXFSHJ\\\\MJSRFYMJRFYNHFQNSST[FYNTSXNSYJWFHYNSL\\\\NYMSJ\\\\XHNJSYNKNHINXHT[JWNJXQJIYTFWFUNINSHWJFXJNSYMJWFYJTKRFYMJRFYNHFQINXHT[JW^YMFYHTSYNSZJXYTYMJUWJXJSYIF^'"
      ]
     },
     "execution_count": 20,
     "metadata": {},
     "output_type": "execute_result"
    }
   ],
   "source": [
    "encriptar_cesar(limpiar(texto,alfb),5)"
   ]
  },
  {
   "cell_type": "code",
   "execution_count": 21,
   "metadata": {
    "collapsed": false
   },
   "outputs": [
    {
     "data": {
      "text/plain": [
       "'THROUGHTHEUSEOFABSTRACTIONANDLOGICALREASONINGMATHEMATICSDEVELOPEDFROMCOUNTINGCALCULATIONMEASUREMENTANDTHESYSTEMATICSTUDYOFTHESHAPESANDMOTIONSOFPHYSICALOBJECTSPRACTICALMATHEMATICSHASBEENAHUMANACTIVITYFORASFARBACKASWRITTENRECORDSEXISTRIGOROUSARGUMENTSFIRSTAPPEAREDINGREEKMATHEMATICSMOSTNOTABLYINEUCLIDSELEMENTSMATHEMATICSDEVELOPEDATARELATIVELYSLOWPACEUNTILTHERENAISSANCEWHENMATHEMATICALINNOVATIONSINTERACTINGWITHNEWSCIENTIFICDISCOVERIESLEDTOARAPIDINCREASEINTHERATEOFMATHEMATICALDISCOVERYTHATCONTINUESTOTHEPRESENTDAY'"
      ]
     },
     "execution_count": 21,
     "metadata": {},
     "output_type": "execute_result"
    }
   ],
   "source": [
    "encriptar_cesar(encriptar_cesar(limpiar(texto,alfb),5),251)"
   ]
  },
  {
   "cell_type": "code",
   "execution_count": null,
   "metadata": {
    "collapsed": true
   },
   "outputs": [],
   "source": [
    "encriptar_cesar(texto, 5),200)"
   ]
  },
  {
   "cell_type": "code",
   "execution_count": 22,
   "metadata": {
    "collapsed": false
   },
   "outputs": [
    {
     "data": {
      "text/plain": [
       "']q{x~pq)}qn)~|n)xo)jk|}{jl}rxw)jwm)uxprlju){nj|xwrwp5)vj}qnvj}rl|)mn\\x7fnuxynm)o{xv)lx~w}rwp5)ljul~uj}rxw5)vnj|~{nvnw}5)jwm)}qn)|\\x82|}nvj}rl)|}~m\\x82)xo)}qn)|qjyn|)jwm)vx}rxw|)xo)yq\\x82|rlju)xksnl}|7)Y{jl}rlju)vj}qnvj}rl|)qj|)knnw)j)q~vjw)jl}r\\x7fr}\\x82)ox{)j|)oj{)kjlt)j|)\\x80{r}}nw){nlx{m|)n\\x81r|}7)[rpx{x~|)j{p~vnw}|)or{|})jyynj{nm)rw)P{nnt)vj}qnvj}rl|5)vx|})wx}jku\\x82)rw)N~lurm0|)Nunvnw}|7)Vj}qnvj}rl|)mn\\x7fnuxynm)j})j){nuj}r\\x7fnu\\x82)|ux\\x80)yjln)~w}ru)}qn)[nwjr||jwln5)\\x80qnw)vj}qnvj}rlju)rwwx\\x7fj}rxw|)rw}n{jl}rwp)\\x80r}q)wn\\x80)|lrnw}rorl)mr|lx\\x7fn{rn|)unm)}x)j){jyrm)rwl{nj|n)rw)}qn){j}n)xo)vj}qnvj}rlju)mr|lx\\x7fn{\\x82)}qj})lxw}rw~n|)}x)}qn)y{n|nw})mj\\x827'"
      ]
     },
     "execution_count": 22,
     "metadata": {},
     "output_type": "execute_result"
    }
   ],
   "source": [
    "encriptar_cesar(texto, 9)"
   ]
  },
  {
   "cell_type": "code",
   "execution_count": 23,
   "metadata": {
    "collapsed": false
   },
   "outputs": [
    {
     "data": {
      "text/plain": [
       "\"Through the use of abstraction and logical reasoning, mathematics developed from counting, calculation, measurement, and the systematic study of the shapes and motions of physical objects. Practical mathematics has been a human activity for as far back as written records exist. Rigorous arguments first appeared in Greek mathematics, most notably in Euclid's Elements. Mathematics developed at a relatively slow pace until the Renaissance, when mathematical innovations interacting with new scientific discoveries led to a rapid increase in the rate of mathematical discovery that continues to the present day.\""
      ]
     },
     "execution_count": 23,
     "metadata": {},
     "output_type": "execute_result"
    }
   ],
   "source": [
    "encriptar_cesar(encriptar_cesar(texto, 9),247)"
   ]
  },
  {
   "cell_type": "markdown",
   "metadata": {},
   "source": [
    "#### Para evitar hacerlo a fuerza bruta probando valores hasta que nos de un texto con sentido, lo que vamos a hacer es un análisis de frecuancias"
   ]
  },
  {
   "cell_type": "code",
   "execution_count": 46,
   "metadata": {
    "collapsed": true
   },
   "outputs": [],
   "source": [
    "def analisis_frec(T):\n",
    "    frecuencias = {}\n",
    "    N = len(T)\n",
    "    for letra in T:\n",
    "        if letra in frecuencias:\n",
    "            frecuencias[letra] += (1/N).n()\n",
    "        else:\n",
    "            frecuencias[letra] =(1/N).n()\n",
    "    return frecuencias"
   ]
  },
  {
   "cell_type": "code",
   "execution_count": 47,
   "metadata": {
    "collapsed": false
   },
   "outputs": [
    {
     "data": {
      "text/plain": [
       "{'F': 0.107212475633528,\n",
       " 'G': 0.00974658869395711,\n",
       " 'H': 0.0565302144249513,\n",
       " 'I': 0.0311890838206628,\n",
       " 'J': 0.115009746588694,\n",
       " 'K': 0.0175438596491228,\n",
       " 'L': 0.0155945419103314,\n",
       " 'M': 0.0409356725146199,\n",
       " 'N': 0.0818713450292398,\n",
       " 'O': 0.00194931773879142,\n",
       " 'P': 0.00389863547758285,\n",
       " 'Q': 0.0350877192982456,\n",
       " 'R': 0.0409356725146199,\n",
       " 'S': 0.0682261208576998,\n",
       " 'T': 0.0584795321637427,\n",
       " 'U': 0.0194931773879142,\n",
       " 'W': 0.0506822612085770,\n",
       " 'X': 0.0740740740740741,\n",
       " 'Y': 0.107212475633528,\n",
       " 'Z': 0.0233918128654971,\n",
       " '[': 0.0136452241715400,\n",
       " '\\\\': 0.00974658869395711,\n",
       " ']': 0.00194931773879142,\n",
       " '^': 0.0155945419103314}"
      ]
     },
     "execution_count": 47,
     "metadata": {},
     "output_type": "execute_result"
    }
   ],
   "source": [
    "dicc = analisis_frec(encriptar_cesar(limpiar(texto,alfb),5));dicc"
   ]
  },
  {
   "cell_type": "markdown",
   "metadata": {},
   "source": [
    "Para ver cuál tiene mayor frecuncia lo ordenamos. Para ello hay que invertir el doccionario porque la función ord que te ordena el diccionario, ordena sobre números y no sobre letras. Así que convertimos el diccionario en una lista que contenga las frecuencias de cada una de las letras."
   ]
  },
  {
   "cell_type": "code",
   "execution_count": 40,
   "metadata": {
    "collapsed": true
   },
   "outputs": [],
   "source": [
    "def invertir(dicc):\n",
    "    dict_inv = {}\n",
    "    for key in dicc:\n",
    "        dict_inv[dicc[key]] = ord(key)\n",
    "    return dict_inv"
   ]
  },
  {
   "cell_type": "markdown",
   "metadata": {},
   "source": [
    "El valor de la derecha corresponde a la encriptación de la letra"
   ]
  },
  {
   "cell_type": "code",
   "execution_count": 41,
   "metadata": {
    "collapsed": false
   },
   "outputs": [
    {
     "data": {
      "text/plain": [
       "{0.00194931773879142: 93,\n",
       " 0.00389863547758285: 80,\n",
       " 0.00974658869395711: 92,\n",
       " 0.0136452241715400: 91,\n",
       " 0.0155945419103314: 94,\n",
       " 0.0175438596491228: 75,\n",
       " 0.0194931773879142: 85,\n",
       " 0.0233918128654971: 90,\n",
       " 0.0311890838206628: 73,\n",
       " 0.0350877192982456: 81,\n",
       " 0.0409356725146199: 82,\n",
       " 0.0506822612085770: 87,\n",
       " 0.0565302144249513: 72,\n",
       " 0.0584795321637427: 84,\n",
       " 0.0682261208576998: 83,\n",
       " 0.0740740740740741: 88,\n",
       " 0.0818713450292398: 78,\n",
       " 0.107212475633528: 89,\n",
       " 0.115009746588694: 74}"
      ]
     },
     "execution_count": 41,
     "metadata": {},
     "output_type": "execute_result"
    }
   ],
   "source": [
    "dicc2 = invertir(dicc);dicc2"
   ]
  },
  {
   "cell_type": "code",
   "execution_count": 42,
   "metadata": {
    "collapsed": false
   },
   "outputs": [
    {
     "data": {
      "text/plain": [
       "[(0.0155945419103314, 94),\n",
       " (0.0682261208576998, 83),\n",
       " (0.00194931773879142, 93),\n",
       " (0.115009746588694, 74),\n",
       " (0.0350877192982456, 81),\n",
       " (0.0136452241715400, 91),\n",
       " (0.0740740740740741, 88),\n",
       " (0.0506822612085770, 87),\n",
       " (0.0311890838206628, 73),\n",
       " (0.0565302144249513, 72),\n",
       " (0.107212475633528, 89),\n",
       " (0.0584795321637427, 84),\n",
       " (0.0233918128654971, 90),\n",
       " (0.0409356725146199, 82),\n",
       " (0.00974658869395711, 92),\n",
       " (0.0175438596491228, 75),\n",
       " (0.0194931773879142, 85),\n",
       " (0.00389863547758285, 80),\n",
       " (0.0818713450292398, 78)]"
      ]
     },
     "execution_count": 42,
     "metadata": {},
     "output_type": "execute_result"
    }
   ],
   "source": [
    "L = dicc2.items();L"
   ]
  },
  {
   "cell_type": "code",
   "execution_count": 43,
   "metadata": {
    "collapsed": false
   },
   "outputs": [
    {
     "data": {
      "text/plain": [
       "[(0.115009746588694, 74),\n",
       " (0.107212475633528, 89),\n",
       " (0.0818713450292398, 78),\n",
       " (0.0740740740740741, 88),\n",
       " (0.0682261208576998, 83),\n",
       " (0.0584795321637427, 84),\n",
       " (0.0565302144249513, 72),\n",
       " (0.0506822612085770, 87),\n",
       " (0.0409356725146199, 82),\n",
       " (0.0350877192982456, 81),\n",
       " (0.0311890838206628, 73),\n",
       " (0.0233918128654971, 90),\n",
       " (0.0194931773879142, 85),\n",
       " (0.0175438596491228, 75),\n",
       " (0.0155945419103314, 94),\n",
       " (0.0136452241715400, 91),\n",
       " (0.00974658869395711, 92),\n",
       " (0.00389863547758285, 80),\n",
       " (0.00194931773879142, 93)]"
      ]
     },
     "execution_count": 43,
     "metadata": {},
     "output_type": "execute_result"
    }
   ],
   "source": [
    "L.sort(reverse = True);L"
   ]
  },
  {
   "cell_type": "markdown",
   "metadata": {},
   "source": [
    "Aquí vemos cuál de los caractéres por orden descendente son los que tiene mayor fracuencia en el texto. De tal forma el primer elemento de la lista es el caracter 74 encriptado con la clave 5. Si desencriptamos el 74, nos va a dar el 69 y esta es la letre E que es la más común en inglés"
   ]
  },
  {
   "cell_type": "code",
   "execution_count": 44,
   "metadata": {
    "collapsed": false
   },
   "outputs": [
    {
     "data": {
      "text/plain": [
       "'J'"
      ]
     },
     "execution_count": 44,
     "metadata": {},
     "output_type": "execute_result"
    }
   ],
   "source": [
    "encriptar_cesar(\"E\", 5)"
   ]
  },
  {
   "cell_type": "code",
   "execution_count": 45,
   "metadata": {
    "collapsed": false
   },
   "outputs": [
    {
     "data": {
      "text/plain": [
       "'E'"
      ]
     },
     "execution_count": 45,
     "metadata": {},
     "output_type": "execute_result"
    }
   ],
   "source": [
    "encriptar_cesar(encriptar_cesar(\"E\", 5), 251)"
   ]
  },
  {
   "cell_type": "markdown",
   "metadata": {},
   "source": [
    "Si vemos al encriptar la letra J que era la que nos salía con más frecuencia nos devuelve la E"
   ]
  },
  {
   "cell_type": "code",
   "execution_count": 48,
   "metadata": {
    "collapsed": false
   },
   "outputs": [
    {
     "data": {
      "text/plain": [
       "'E'"
      ]
     },
     "execution_count": 48,
     "metadata": {},
     "output_type": "execute_result"
    }
   ],
   "source": [
    "encriptar_cesar(\"J\", 251)"
   ]
  },
  {
   "cell_type": "markdown",
   "metadata": {},
   "source": [
    "Como la E es la letra mas frecuente en el inglés podemos probar claves hasta que obtengamos 251, entonces será 256-clave=251->5=clave"
   ]
  },
  {
   "cell_type": "code",
   "execution_count": null,
   "metadata": {
    "collapsed": true
   },
   "outputs": [],
   "source": []
  }
 ],
 "metadata": {
  "kernelspec": {
   "display_name": "SageMath 7.3",
   "language": "",
   "name": "sagemath"
  },
  "language_info": {
   "codemirror_mode": {
    "name": "ipython",
    "version": 2
   },
   "file_extension": ".py",
   "mimetype": "text/x-python",
   "name": "python",
   "nbconvert_exporter": "python",
   "pygments_lexer": "ipython2",
   "version": "2.7.10"
  }
 },
 "nbformat": 4,
 "nbformat_minor": 0
}
