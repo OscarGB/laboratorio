{
 "cells": [
  {
   "cell_type": "code",
   "execution_count": 22,
   "metadata": {
    "collapsed": false
   },
   "outputs": [],
   "source": [
    "def sumadecuadrados(N):\n",
    "    L=[]\n",
    "    flag = 0\n",
    "    for i in prime_range(N+1):\n",
    "        for x in srange(-N, N):\n",
    "            for y in srange(-N, N):\n",
    "                if(i == x**2 + y**2):\n",
    "                    L.append(i)\n",
    "                    flag = 1\n",
    "                    break\n",
    "            if(flag == 1):\n",
    "                flag = 0\n",
    "                break\n",
    "    return L"
   ]
  },
  {
   "cell_type": "code",
   "execution_count": 26,
   "metadata": {
    "collapsed": false
   },
   "outputs": [
    {
     "data": {
      "text/plain": [
       "[2,\n",
       " 5,\n",
       " 13,\n",
       " 17,\n",
       " 29,\n",
       " 37,\n",
       " 41,\n",
       " 53,\n",
       " 61,\n",
       " 73,\n",
       " 89,\n",
       " 97,\n",
       " 101,\n",
       " 109,\n",
       " 113,\n",
       " 137,\n",
       " 149,\n",
       " 157,\n",
       " 173]"
      ]
     },
     "execution_count": 26,
     "metadata": {},
     "output_type": "execute_result"
    }
   ],
   "source": [
    "sumadecuadrados(180)"
   ]
  },
  {
   "cell_type": "code",
   "execution_count": 11,
   "metadata": {
    "collapsed": false
   },
   "outputs": [],
   "source": [
    "def sumafacildecuadrados(x,y):\n",
    "    return ((x+y)**2 + (x-y)**2)/2"
   ]
  },
  {
   "cell_type": "raw",
   "metadata": {},
   "source": [
    "Cualquier número que sea multiplicación de dos números que se puedan expresar como dos cuadrados será una suma de dos cuadrados, por lo que cualquier número "
   ]
  },
  {
   "cell_type": "code",
   "execution_count": 28,
   "metadata": {
    "collapsed": true
   },
   "outputs": [],
   "source": [
    "def sumadecuadrados1(N):\n",
    "    L=[]\n",
    "    flag = 0\n",
    "    for i in srange(N+1):\n",
    "        for x in srange(-N, N):\n",
    "            for y in srange(-N, N):\n",
    "                if(i == x**2 + y**2):\n",
    "                    if(1):\n",
    "                        L.append(i)\n",
    "                    flag = 1\n",
    "                    break\n",
    "            if(flag == 1):\n",
    "                flag = 0\n",
    "                break\n",
    "    return L"
   ]
  },
  {
   "cell_type": "code",
   "execution_count": 29,
   "metadata": {
    "collapsed": false
   },
   "outputs": [
    {
     "data": {
      "text/plain": [
       "[0,\n",
       " 1,\n",
       " 2,\n",
       " 4,\n",
       " 5,\n",
       " 8,\n",
       " 9,\n",
       " 10,\n",
       " 13,\n",
       " 16,\n",
       " 17,\n",
       " 18,\n",
       " 20,\n",
       " 25,\n",
       " 26,\n",
       " 29,\n",
       " 32,\n",
       " 34,\n",
       " 36,\n",
       " 37,\n",
       " 40,\n",
       " 41,\n",
       " 45,\n",
       " 49,\n",
       " 50,\n",
       " 52,\n",
       " 53,\n",
       " 58,\n",
       " 61,\n",
       " 64,\n",
       " 65,\n",
       " 68,\n",
       " 72,\n",
       " 73,\n",
       " 74,\n",
       " 80]"
      ]
     },
     "execution_count": 29,
     "metadata": {},
     "output_type": "execute_result"
    }
   ],
   "source": [
    "sumadecuadrados1(80)"
   ]
  },
  {
   "cell_type": "code",
   "execution_count": 31,
   "metadata": {
    "collapsed": false
   },
   "outputs": [
    {
     "data": {
      "text/plain": [
       "2^2 * 3^2 * 5^2"
      ]
     },
     "execution_count": 31,
     "metadata": {},
     "output_type": "execute_result"
    }
   ],
   "source": [
    "factor(900)"
   ]
  },
  {
   "cell_type": "code",
   "execution_count": null,
   "metadata": {
    "collapsed": true
   },
   "outputs": [],
   "source": []
  }
 ],
 "metadata": {
  "kernelspec": {
   "display_name": "SageMath 7.3",
   "language": "",
   "name": "sagemath"
  },
  "language_info": {
   "codemirror_mode": {
    "name": "ipython",
    "version": 2
   },
   "file_extension": ".py",
   "mimetype": "text/x-python",
   "name": "python",
   "nbconvert_exporter": "python",
   "pygments_lexer": "ipython2",
   "version": "2.7.10"
  }
 },
 "nbformat": 4,
 "nbformat_minor": 0
}
