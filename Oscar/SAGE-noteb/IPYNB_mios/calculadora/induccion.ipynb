{
 "cells": [
  {
   "cell_type": "markdown",
   "metadata": {},
   "source": [
    "<ol>\n",
    "\n",
    "<li> $1^2+2^2+\\cdots+n^2= \\dfrac{n(n+1)(2n+1)}6.$\n",
    "\n",
    "<li> $\\dfrac{1}{1\\cdot 2}+\\dfrac{1}{2\\cdot 3}+\\cdots+\\dfrac{1}{n\\cdot (n+1)} =\n",
    "\\dfrac{n}{n+1}\\,,\\text{ si }n\\ge1.$\n",
    "<li> $1\\cdot 1!+2\\cdot 2!+\\cdots +n\\cdot n!=(n+1)!-1.$\n",
    "\n",
    "<li> $ \\dfrac12+\\dfrac2{2^2}+\\dfrac3{2^3}+\\cdots+ \\dfrac n{2^n}\\,=\\,\n",
    "2-\\dfrac{n+2}{2^n}.$\n",
    "<li> $(1+q)(1+q^2)(1+q^4)\\cdots (1+q^{2^n}) \\,=\\, \\dfrac{1-q^{2^{n+1}}}{1-q}.$\n",
    "\n",
    "</ol>\n",
    "\n",
    "En este ejercicio se pide una \"demostracion matematica'' por induccion. Mas adelante veremos como programar  la comprobacion, hasta un $n$ prefijado, de formulas como estas."
   ]
  },
  {
   "cell_type": "code",
   "execution_count": 28,
   "metadata": {
    "collapsed": false
   },
   "outputs": [],
   "source": [
    "def sumadecuadrados(n):\n",
    "    suma = 0\n",
    "    i = 0\n",
    "    while i <= n:\n",
    "        suma += i^2\n",
    "        i+=1\n",
    "    return suma"
   ]
  },
  {
   "cell_type": "code",
   "execution_count": 29,
   "metadata": {
    "collapsed": false
   },
   "outputs": [],
   "source": [
    "def resultado1(n):\n",
    "    return(n*(n+1)*(2*n+1))/6"
   ]
  },
  {
   "cell_type": "code",
   "execution_count": 30,
   "metadata": {
    "collapsed": false
   },
   "outputs": [],
   "source": [
    "L=[]\n",
    "i=1\n",
    "while i < 1000:\n",
    "    L.append(sumadecuadrados(i) == resultado1(i))\n",
    "    i+=1"
   ]
  },
  {
   "cell_type": "code",
   "execution_count": 31,
   "metadata": {
    "collapsed": false
   },
   "outputs": [
    {
     "data": {
      "text/plain": [
       "True"
      ]
     },
     "execution_count": 31,
     "metadata": {},
     "output_type": "execute_result"
    }
   ],
   "source": [
    "all(L)"
   ]
  },
  {
   "cell_type": "code",
   "execution_count": 32,
   "metadata": {
    "collapsed": false
   },
   "outputs": [],
   "source": [
    "def resultado2(n):\n",
    "    return n/(n+1)"
   ]
  },
  {
   "cell_type": "code",
   "execution_count": 33,
   "metadata": {
    "collapsed": false
   },
   "outputs": [],
   "source": [
    "def sumadefracciones(n):\n",
    "    suma = 0\n",
    "    i = 1\n",
    "    while i <= n:\n",
    "        suma += 1/(i*(i+1))\n",
    "        i += 1\n",
    "    return suma"
   ]
  },
  {
   "cell_type": "code",
   "execution_count": 34,
   "metadata": {
    "collapsed": false
   },
   "outputs": [],
   "source": [
    "L1=[]\n",
    "i=1\n",
    "while i < 1000:\n",
    "    L1.append(sumadefracciones(i) == resultado2(i))\n",
    "    i+=1"
   ]
  },
  {
   "cell_type": "code",
   "execution_count": 35,
   "metadata": {
    "collapsed": false
   },
   "outputs": [
    {
     "data": {
      "text/plain": [
       "True"
      ]
     },
     "execution_count": 35,
     "metadata": {},
     "output_type": "execute_result"
    }
   ],
   "source": [
    "all(L)"
   ]
  },
  {
   "cell_type": "code",
   "execution_count": 36,
   "metadata": {
    "collapsed": true
   },
   "outputs": [],
   "source": [
    "def comprueba(N):\n",
    "    if(N == 1):\n",
    "        return 1;\n",
    "    else:\n",
    "        x = comprueba(N-1)\n",
    "        if(x != -1):\n",
    "            if((x + (N)**2) == resultado1(N)):\n",
    "                return x + (N)**2\n",
    "            else:\n",
    "                return -1\n",
    "        else:\n",
    "            return -1\n",
    "    \n",
    "        "
   ]
  },
  {
   "cell_type": "code",
   "execution_count": 37,
   "metadata": {
    "collapsed": false
   },
   "outputs": [
    {
     "name": "stdout",
     "output_type": "stream",
     "text": [
      "309428600\n"
     ]
    }
   ],
   "source": [
    "print comprueba(975)"
   ]
  },
  {
   "cell_type": "code",
   "execution_count": 38,
   "metadata": {
    "collapsed": false
   },
   "outputs": [
    {
     "name": "stdout",
     "output_type": "stream",
     "text": [
      "TRUE\n"
     ]
    }
   ],
   "source": [
    "if(comprueba(975) != -1):\n",
    "    print \"TRUE\"\n",
    "else:\n",
    "    print \"FALSE\""
   ]
  },
  {
   "cell_type": "code",
   "execution_count": 39,
   "metadata": {
    "collapsed": true
   },
   "outputs": [],
   "source": [
    "def sumadecubos(N):\n",
    "    suma = 0\n",
    "    i = 1\n",
    "    while i <= N:\n",
    "        suma += i**3\n",
    "        i+=1\n",
    "    return suma"
   ]
  },
  {
   "cell_type": "code",
   "execution_count": 42,
   "metadata": {
    "collapsed": true
   },
   "outputs": [],
   "source": [
    "def resultado(N):\n",
    "    return ((N+1)**2*N**2)/(4)"
   ]
  },
  {
   "cell_type": "code",
   "execution_count": 43,
   "metadata": {
    "collapsed": false
   },
   "outputs": [
    {
     "data": {
      "text/plain": [
       "36"
      ]
     },
     "execution_count": 43,
     "metadata": {},
     "output_type": "execute_result"
    }
   ],
   "source": [
    "resultado(3)\n",
    "    "
   ]
  },
  {
   "cell_type": "code",
   "execution_count": null,
   "metadata": {
    "collapsed": true
   },
   "outputs": [],
   "source": []
  }
 ],
 "metadata": {
  "kernelspec": {
   "display_name": "SageMath 7.3",
   "language": "",
   "name": "sagemath"
  },
  "language_info": {
   "codemirror_mode": {
    "name": "ipython",
    "version": 2
   },
   "file_extension": ".py",
   "mimetype": "text/x-python",
   "name": "python",
   "nbconvert_exporter": "python",
   "pygments_lexer": "ipython2",
   "version": "2.7.10"
  }
 },
 "nbformat": 4,
 "nbformat_minor": 0
}
