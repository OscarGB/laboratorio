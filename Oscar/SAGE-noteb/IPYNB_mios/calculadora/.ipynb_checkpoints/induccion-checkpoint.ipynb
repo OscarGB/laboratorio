{
 "cells": [
  {
   "cell_type": "markdown",
   "metadata": {},
   "source": [
    "<ol>\n",
    "\n",
    "<li> $1^2+2^2+\\cdots+n^2= \\dfrac{n(n+1)(2n+1)}6.$\n",
    "\n",
    "<li> $\\dfrac{1}{1\\cdot 2}+\\dfrac{1}{2\\cdot 3}+\\cdots+\\dfrac{1}{n\\cdot (n+1)} =\n",
    "\\dfrac{n}{n+1}\\,,\\text{ si }n\\ge1.$\n",
    "<li> $1\\cdot 1!+2\\cdot 2!+\\cdots +n\\cdot n!=(n+1)!-1.$\n",
    "\n",
    "<li> $ \\dfrac12+\\dfrac2{2^2}+\\dfrac3{2^3}+\\cdots+ \\dfrac n{2^n}\\,=\\,\n",
    "2-\\dfrac{n+2}{2^n}.$\n",
    "<li> $(1+q)(1+q^2)(1+q^4)\\cdots (1+q^{2^n}) \\,=\\, \\dfrac{1-q^{2^{n+1}}}{1-q}.$\n",
    "\n",
    "</ol>\n",
    "\n",
    "En este ejercicio se pide una \"demostracion matematica'' por induccion. Mas adelante veremos como programar  la comprobacion, hasta un $n$ prefijado, de formulas como estas."
   ]
  },
  {
   "cell_type": "code",
   "execution_count": 7,
   "metadata": {
    "collapsed": false
   },
   "outputs": [],
   "source": [
    "def sumadecuadrados(n):\n",
    "    suma = 0\n",
    "    i = 0\n",
    "    while i <= n:\n",
    "        suma += i^2\n",
    "        i+=1\n",
    "    return suma"
   ]
  },
  {
   "cell_type": "code",
   "execution_count": 11,
   "metadata": {
    "collapsed": false
   },
   "outputs": [],
   "source": [
    "def resultado1(n):\n",
    "    return(n*(n+1)*(2*n+1))/6"
   ]
  },
  {
   "cell_type": "code",
   "execution_count": 31,
   "metadata": {
    "collapsed": false
   },
   "outputs": [],
   "source": [
    "L=[]\n",
    "i=1\n",
    "while i < 1000:\n",
    "    L.append(sumadecuadrados(i) == resultado1(i))\n",
    "    i+=1"
   ]
  },
  {
   "cell_type": "code",
   "execution_count": 33,
   "metadata": {
    "collapsed": false
   },
   "outputs": [
    {
     "data": {
      "text/plain": [
       "True"
      ]
     },
     "execution_count": 33,
     "metadata": {},
     "output_type": "execute_result"
    }
   ],
   "source": [
    "all(L)"
   ]
  },
  {
   "cell_type": "code",
   "execution_count": 42,
   "metadata": {
    "collapsed": false
   },
   "outputs": [],
   "source": [
    "def resultado2(n):\n",
    "    return n/(n+1)"
   ]
  },
  {
   "cell_type": "code",
   "execution_count": 39,
   "metadata": {
    "collapsed": false
   },
   "outputs": [],
   "source": [
    "def sumadefracciones(n):\n",
    "    suma = 0\n",
    "    i = 1\n",
    "    while i <= n:\n",
    "        suma += 1/(i*(i+1))\n",
    "        i += 1\n",
    "    return suma"
   ]
  },
  {
   "cell_type": "code",
   "execution_count": 43,
   "metadata": {
    "collapsed": false
   },
   "outputs": [],
   "source": [
    "L1=[]\n",
    "i=1\n",
    "while i < 1000:\n",
    "    L1.append(sumadefracciones(i) == resultado2(i))\n",
    "    i+=1"
   ]
  },
  {
   "cell_type": "code",
   "execution_count": 45,
   "metadata": {
    "collapsed": false
   },
   "outputs": [
    {
     "data": {
      "text/plain": [
       "True"
      ]
     },
     "execution_count": 45,
     "metadata": {},
     "output_type": "execute_result"
    }
   ],
   "source": [
    "all(L)"
   ]
  },
  {
   "cell_type": "code",
   "execution_count": null,
   "metadata": {
    "collapsed": true
   },
   "outputs": [],
   "source": []
  }
 ],
 "metadata": {
  "kernelspec": {
   "display_name": "SageMath 7.3",
   "language": "",
   "name": "sagemath"
  },
  "language_info": {
   "codemirror_mode": {
    "name": "ipython",
    "version": 2
   },
   "file_extension": ".py",
   "mimetype": "text/x-python",
   "name": "python",
   "nbconvert_exporter": "python",
   "pygments_lexer": "ipython2",
   "version": "2.7.10"
  }
 },
 "nbformat": 4,
 "nbformat_minor": 0
}
