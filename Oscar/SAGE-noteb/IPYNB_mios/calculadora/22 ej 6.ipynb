{
 "cells": [
  {
   "cell_type": "code",
   "execution_count": 3,
   "metadata": {
    "collapsed": false
   },
   "outputs": [],
   "source": [
    "var('t')\n",
    "def dibuja_arco_circunferencia(radio, alpha):\n",
    "    L1 = parametric_plot((radio*cos(t), radio*sin(t)), (t,0, pi))\n",
    "    L2 = line2d([(sin(alpha), 0),(sin(alpha), 1)]) \n",
    "    L3 = line2d([(-cos(alpha), 0),(-cos(alpha), 1)])\n",
    "    show(L1 + L2 + L3)"
   ]
  },
  {
   "cell_type": "code",
   "execution_count": 47,
   "metadata": {
    "collapsed": false
   },
   "outputs": [
    {
     "data": {
      "image/png": "[encoded data removed]",
      "text/plain": [
       "Graphics object consisting of 3 graphics primitives"
      ]
     },
     "metadata": {},
     "output_type": "display_data"
    }
   ],
   "source": [
    "dibuja_arco_circunferencia(1,0.78539817718260874)"
   ]
  },
  {
   "cell_type": "code",
   "execution_count": 10,
   "metadata": {
    "collapsed": false
   },
   "outputs": [],
   "source": [
    "f(x) = sqrt(1-x^2)"
   ]
  },
  {
   "cell_type": "code",
   "execution_count": 6,
   "metadata": {
    "collapsed": false
   },
   "outputs": [],
   "source": [
    "g(alpha) = integrate(f, x)"
   ]
  },
  {
   "cell_type": "code",
   "execution_count": 15,
   "metadata": {
    "collapsed": false
   },
   "outputs": [
    {
     "data": {
      "text/plain": [
       "alpha"
      ]
     },
     "execution_count": 15,
     "metadata": {},
     "output_type": "execute_result"
    }
   ],
   "source": [
    "var('alpha')"
   ]
  },
  {
   "cell_type": "code",
   "execution_count": 17,
   "metadata": {
    "collapsed": true
   },
   "outputs": [],
   "source": [
    "assume(sin(alpha)+cos(alpha)>0)"
   ]
  },
  {
   "cell_type": "code",
   "execution_count": 19,
   "metadata": {
    "collapsed": false
   },
   "outputs": [],
   "source": [
    "g(alpha) = integrate(f, x, -cos(alpha), sin(alpha))"
   ]
  },
  {
   "cell_type": "code",
   "execution_count": 20,
   "metadata": {
    "collapsed": false,
    "scrolled": true
   },
   "outputs": [
    {
     "data": {
      "text/html": [
       "<html><script type=\"math/tex; mode=display\">\\newcommand{\\Bold}[1]{\\mathbf{#1}}\\alpha \\ {\\mapsto}\\ \\frac{1}{2} \\, \\sqrt{-\\cos\\left(\\alpha\\right)^{2} + 1} \\cos\\left(\\alpha\\right) + \\frac{1}{2} \\, \\sqrt{-\\sin\\left(\\alpha\\right)^{2} + 1} \\sin\\left(\\alpha\\right) + \\frac{1}{2} \\, \\arcsin\\left(\\cos\\left(\\alpha\\right)\\right) + \\frac{1}{2} \\, \\arcsin\\left(\\sin\\left(\\alpha\\right)\\right)</script></html>"
      ],
      "text/plain": [
       "alpha |--> 1/2*sqrt(-cos(alpha)^2 + 1)*cos(alpha) + 1/2*sqrt(-sin(alpha)^2 + 1)*sin(alpha) + 1/2*arcsin(cos(alpha)) + 1/2*arcsin(sin(alpha))"
      ]
     },
     "metadata": {},
     "output_type": "display_data"
    }
   ],
   "source": [
    "show(g)"
   ]
  },
  {
   "cell_type": "code",
   "execution_count": 57,
   "metadata": {
    "collapsed": false
   },
   "outputs": [],
   "source": [
    "t = find_local_maximum(g, -pi, pi)"
   ]
  },
  {
   "cell_type": "code",
   "execution_count": 58,
   "metadata": {
    "collapsed": false
   },
   "outputs": [
    {
     "data": {
      "text/html": [
       "<html><script type=\"math/tex; mode=display\">\\newcommand{\\Bold}[1]{\\mathbf{#1}}\\left(1.2853981634, 0.785398177183\\right)</script></html>"
      ],
      "text/plain": [
       "(1.2853981633974483, 0.78539817718260874)"
      ]
     },
     "metadata": {},
     "output_type": "display_data"
    }
   ],
   "source": [
    "show(t)"
   ]
  },
  {
   "cell_type": "code",
   "execution_count": 59,
   "metadata": {
    "collapsed": false
   },
   "outputs": [],
   "source": [
    "def halla_area(alpha):\n",
    "    if((-cos(alpha)) < sin(alpha)):\n",
    "        a = integrate(f, x, -cos(alpha), sin(alpha))\n",
    "        b = integrate(f, x, -1, -cos(alpha)) + integrate(f, x, sin(alpha), 1)\n",
    "    else:\n",
    "        a = integrate(f, x, sin(alpha), -cos(alpha))\n",
    "        b = integrate(f, x, -1, sin(alpha)) + integrate(f, x, -cos(alpha), 1)\n",
    "    return a/b"
   ]
  },
  {
   "cell_type": "code",
   "execution_count": 61,
   "metadata": {
    "collapsed": false
   },
   "outputs": [
    {
     "name": "stdout",
     "output_type": "stream",
     "text": [
      "0.785398177183\n"
     ]
    }
   ],
   "source": [
    "if(halla_area(t[0]) > halla_area(t[1])):\n",
    "    print(t[0])\n",
    "else:\n",
    "    print(t[1])"
   ]
  },
  {
   "cell_type": "code",
   "execution_count": 63,
   "metadata": {
    "collapsed": false
   },
   "outputs": [
    {
     "data": {
      "text/plain": [
       "0.785398163397448"
      ]
     },
     "execution_count": 63,
     "metadata": {},
     "output_type": "execute_result"
    }
   ],
   "source": [
    "(pi/4).n()"
   ]
  },
  {
   "cell_type": "markdown",
   "metadata": {},
   "source": [
    "Por tanto el máximo valor del área es 0.785398177183, siendo éste el valor de pi/4"
   ]
  },
  {
   "cell_type": "code",
   "execution_count": null,
   "metadata": {
    "collapsed": true
   },
   "outputs": [],
   "source": []
  }
 ],
 "metadata": {
  "kernelspec": {
   "display_name": "SageMath 7.3",
   "language": "",
   "name": "sagemath"
  },
  "language_info": {
   "codemirror_mode": {
    "name": "ipython",
    "version": 2
   },
   "file_extension": ".py",
   "mimetype": "text/x-python",
   "name": "python",
   "nbconvert_exporter": "python",
   "pygments_lexer": "ipython2",
   "version": "2.7.10"
  }
 },
 "nbformat": 4,
 "nbformat_minor": 0
}
