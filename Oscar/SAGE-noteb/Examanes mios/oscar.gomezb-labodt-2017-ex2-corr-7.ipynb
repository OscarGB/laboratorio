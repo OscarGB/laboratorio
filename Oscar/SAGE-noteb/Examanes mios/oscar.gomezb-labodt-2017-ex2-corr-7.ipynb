{
 "cells": [
  {
   "cell_type": "markdown",
   "metadata": {},
   "source": [
    "1) Antes que nada, lee cuidadosamente estas instrucciones y las que aparecen en la hoja con la contraseña. .\n",
    "\n",
    "2) Cambia el nombre de este archivo sustituyendo \"nombre.apellido\" por los tuyos, tal como aparecen en tu dirección de correo electrónico de la UAM.\n",
    "\n",
    "3) Este archivo debe quedar en la carpeta \"ENTREGA...\" que está en el escritorio de tu cuenta de examen. Lo mejor es que esté en esa carpeta desde el comienzo del examen.\n",
    "\n",
    "4) El examen resuelto debe quedar en este único archivo. No se puede usar un archivo para cada pregunta.\n",
    "\n",
    "5) Recuerda que hay que deshabilitar el salvapantallas al comenzar el examen, tal como está indicado en la hoja con la contraseña. \n",
    "\n",
    "\n",
    "CALIFICACIÓN:\n"
   ]
  },
  {
   "cell_type": "code",
   "execution_count": 2,
   "metadata": {
    "collapsed": false
   },
   "outputs": [
    {
     "data": {
      "text/plain": [
       "7"
      ]
     },
     "execution_count": 2,
     "metadata": {},
     "output_type": "execute_result"
    }
   ],
   "source": [
    "2+2+3"
   ]
  },
  {
   "cell_type": "markdown",
   "metadata": {},
   "source": [
    "COMENTARIOS:\n",
    "\n",
    "1)"
   ]
  },
  {
   "cell_type": "markdown",
   "metadata": {},
   "source": [
    "## Ejercicio 1\n",
    "\n",
    "(3 puntos) Podemos estimar el valor de $\\alpha(x):=\\sqrt{1+x}$ como $\\beta(x):=1+(x/2)$ cuando $x$ es,  en valor absoluto,  suficientement próximo a cero. Consideramos que la estimación *es aceptable* cuando  el error relativo $$E(x):=\\frac{abs(\\alpha(x)-\\beta(x))}{\\alpha(x)}$$ que cometemos es menor que $0.01$. \n",
    "\n",
    "1) Determina, experimentalmente,  una cota $\\vert x\\vert < A$ tal que la estimación es aceptable para los $x$ que la cumplen, y deja de serlo para $\\vert x\\vert \\ge A$. \n",
    "\n",
    "2) ¿Qué podemos hacer para mejorar la estimación? Postula una nueva estimación $\\beta_1(x)$ y demuestra que con ella se obtienen resultados bastante más precisos."
   ]
  },
  {
   "cell_type": "code",
   "execution_count": 71,
   "metadata": {
    "collapsed": false
   },
   "outputs": [
    {
     "name": "stdout",
     "output_type": "stream",
     "text": [
      "1/3\n"
     ]
    }
   ],
   "source": [
    "def a(x):\n",
    "    return sqrt(1 + x).n(prec = 100)\n",
    "\n",
    "def b(x):\n",
    "    return (1 + x/2).n(prec = 100)\n",
    "\n",
    "def E(x):\n",
    "    return (abs(a(x)-b(x))/a(x)).n(prec = 100)\n",
    "\n",
    "def encuentra_cota():\n",
    "    for i in srange(1, 1000):\n",
    "        b = E(1/(1000-i))\n",
    "        if(b >= 0.01):\n",
    "            return i\n",
    "    return -1\n",
    "\n",
    "a = encuentra_cota()\n",
    "\n",
    "print 1/(1000-a)"
   ]
  },
  {
   "cell_type": "markdown",
   "metadata": {},
   "source": [
    "A partir de |x| >= 1/3 el error supera 0.01, por lo que deja de ser una estimación aceptable."
   ]
  },
  {
   "cell_type": "code",
   "execution_count": 184,
   "metadata": {
    "collapsed": false
   },
   "outputs": [
    {
     "data": {
      "text/html": [
       "<html><script type=\"math/tex; mode=display\">\\newcommand{\\Bold}[1]{\\mathbf{#1}}\\left[\\right]</script></html>"
      ],
      "text/plain": [
       "[]"
      ]
     },
     "metadata": {},
     "output_type": "display_data"
    },
    {
     "name": "stdout",
     "output_type": "stream",
     "text": [
      "1/999\n"
     ]
    }
   ],
   "source": [
    "def a(x):\n",
    "    return sqrt(1 + x).n(prec = 100)\n",
    "\n",
    "def b(x):\n",
    "    return (1 + x/2).n(prec = 100)\n",
    "\n",
    "def E(x):\n",
    "    return (abs(a(x)-b(x))/a(x)).n(prec = 100)\n",
    "\n",
    "def b1(x):\n",
    "    return (1 + x).n(prec = 100)\n",
    "\n",
    "def E1(x):\n",
    "    return (abs(a(x)-b1(x))/a(x)).n(prec = 100)\n",
    "\n",
    "def encuentra_precision():\n",
    "    L = []\n",
    "    for i in srange(1, 1000):\n",
    "        b = E(1/(1000-i))\n",
    "        c = E1(1/(1000-i))\n",
    "        if(b>=c):\n",
    "              L.append(True)\n",
    "        else:\n",
    "            break\n",
    "    show(L)\n",
    "    return i\n",
    "\n",
    "a = encuentra_precision()\n",
    "\n",
    "print 1/(1000-a)"
   ]
  },
  {
   "cell_type": "markdown",
   "metadata": {},
   "source": [
    "## Ejercicio 2\n",
    "\n",
    "(3 puntos) John Napier publicó su invención de los logaritmos en 1614, mucho antes de la invención del cálculo diferencial. El punto esencial para que los logaritmos fueran útiles era la existencia de *tablas de logaritmos* en las que uno encontraba los logaritmos de los factores, que sumaba a mano, y volvía a usar para encontrar el número cuyo logaritmo era la suma obtenida, es decir,  el producto de los números de partida. \n",
    "Henry Briggs colaboró con Napier para producir las primeras tablas de logaritmos mediante el siguiente procedimiento:\n",
    "\n",
    "1) Queremos calcular el logaritmo de un entero $n>1$. Calculamos $n^{1/2^k}$ para $k=1,2,3,\\dots$ hasta que el resultado difiera *muy poco* de $1$. Esto es lo mismo que iterar la extracción de raíces cuadradas hasta llegar casi a $1$. Escribimos \n",
    "$$n^{1/2^k}=1+x.$$\n",
    "\n",
    "2) Ahora tomamos logaritmos para obtener \n",
    "$$log(n)=2^klog(1+x).$$\n",
    "\n",
    "3) Finalmente, Briggs observó que para $x$ suficientemente pequeño en valor absoluto, podía sustituir $log(1+x)$ por $x$, y quedaba $log(n)$ aproximadamente igual a  $2^kx.$ \n",
    "\n",
    "Es claro que lo que necesitamos es saber *cómo de pequeño tiene que ser $x$ para obtener un número prefijado $k$ de cifras decimales exactas del logaritmo de $n$.*\n",
    "\n",
    "A) Define una función $buscar(n,k,precis)$ que debe efectuar el procedimiento de Briggs hasta que la estimación obtenida tenga el número $k$ de cifras correctas de $log(n)$, y en ese momento debe devolver $x$. La precisión arbitraria en los cálculos, determinada por el parámetro *precis* hace falta porque sin ella un cierto bucle $while$ puede hacerse infinito cuando $n$ o $k$ son *grandes*. \n",
    "\n",
    "B) Experimenta con la función del primer apartado y, como consecuencia,  enuncia y comprueba la regla que indica cómo de pequeño tiene que ser $x$ para obtener $k$ cifras correctas del logaritmo de $n$."
   ]
  },
  {
   "cell_type": "code",
   "execution_count": 1,
   "metadata": {
    "collapsed": false
   },
   "outputs": [
    {
     "data": {
      "text/plain": [
       "1.00000000000126082737653702184413821986572748052284190080005092159166739833737770109719346279361782782325143300764419788062434651434578485159603557646480465143664461780556399085534753837065829672678193939045165807091460681807987497867502062819265638330962646793859136077207846811787724556688558086045"
      ]
     },
     "execution_count": 1,
     "metadata": {},
     "output_type": "execute_result"
    }
   ],
   "source": [
    "def logar(i ,x, k):\n",
    "    return N((2**i * x), digits = k)\n",
    "\n",
    "def approx(a, b, precis):\n",
    "    if(N(a, digits = precis) == N(b, digits = precis)):\n",
    "        return True\n",
    "    return False\n",
    "\n",
    "def buscar(n,k,precis):\n",
    "    a = N(log(n), digits = k)\n",
    "    i = 1\n",
    "    n0 = n**(1/(2**i)).n(prec = precis)\n",
    "    while approx(a, logar(i, n0-1, k), k) == False:\n",
    "        i = i + 1\n",
    "        n0 = n**(1/(2**i)).n(prec = precis)\n",
    "    return n0\n",
    "    \n",
    "        \n",
    "    \n",
    "buscar(2, 11, 1000)\n",
    "    "
   ]
  },
  {
   "cell_type": "code",
   "execution_count": 183,
   "metadata": {
    "collapsed": false
   },
   "outputs": [
    {
     "name": "stdout",
     "output_type": "stream",
     "text": [
      "1.00000000000000000000141124350355388760140262324649313701649671152881432071203808675576304870731197850301155718413734841349877395978219818699805526279674553499807191717880047272478689875231704649768138550764529967515287473928770905902851926374051310173433712981508260152397867414064101855354661565546\n"
     ]
    }
   ],
   "source": [
    "def apartadoB():\n",
    "    a = N(0, digits = 100)\n",
    "    for i in srange(20, 30):\n",
    "        for j in srange(20,40):\n",
    "            b = buscar(i, j, 1000)\n",
    "            if b > a:\n",
    "                a = b\n",
    "    return a\n",
    "\n",
    "print apartadoB()"
   ]
  },
  {
   "cell_type": "markdown",
   "metadata": {},
   "source": [
    "Para los numeros propuestos, puedo ver lo cerca que tiene que estar x de 1 para conseguir la suficiente precisión"
   ]
  },
  {
   "cell_type": "markdown",
   "metadata": {},
   "source": [
    "## Ejercicio 3\n",
    "\n",
    "(4 puntos) El método BBP que permite calcular una cifra determinada de $\\pi$, la $n$-ésima, sin calcular las anteriores se puede aplicar a algunas otras constantes. Por ejemplo, para $log(2)$ se puede usar la serie\n",
    "$$log(2)=\\sum_{k=1}^{\\infty}\\frac{1}{2^kk}.$$\n",
    "\n",
    "1) En la primera celda se reproduce el código BPP para $\\pi$, y lo primero que debes hacer es modificarlo para que funcione para $log(2)$ mediante la serie indicada. La última función, la que devuelve cifras binarias de $log(2)$, debe llamarse $cifra\\_log2(n)$. \n",
    "\n",
    "2) Modifica el código del apartado 1) para haga todos los cálculos con una precisión (en bits) arbitraria, es decir, la nueva función debe llamarse $cifra\\_log2(n,precis)$.\n",
    "\n",
    "3) Define una función $compara(C1,C2)$ que, dadas dos cadenas de caracteres,  cuente, hasta la primera discrepancia,  el número de caracteres de $C1$ que ocupan el mismo lugar en $C2$. Es decir, si el primer caracter es diferente debe devolver cero, si el primero es igual pero el segundo es diferente debe devolver uno, etc.\n",
    "\n",
    "4) Jugando con la función  $cifra\\_log2(n,precis)$ se observa que cuanto mayor es la precisión más cifras correctas de $log(2)$, a partir de la $n$-ésima,  devuelve, y que fijada la precisión el número de cifras correctas no depende mucho de $n$ y es del orden de la precisión. \n",
    "La parte final del ejercicio consiste en comprobar sistemáticamente  estas afirmaciones, para lo que debemos comparar  cadenas $C1$ generadas por $cifra\\_log2(n,precis)$ con la parte relevante de  cadenas $C2$  $$(log(2).n(prec=precis)).str(base=2,no\\_sci=2)$$\n",
    "que nos dan las cifras correctas de $log(2).$ El parámetro $no\\_sci=2$ sirve para que no se devuelva el resultado en notación científica estándar (i.e. parte entera de un único dígito, decimales,  y exponente de una potencia de $10$).\n",
    "\n"
   ]
  },
  {
   "cell_type": "code",
   "execution_count": 202,
   "metadata": {
    "collapsed": false
   },
   "outputs": [
    {
     "data": {
      "text/plain": [
       "'0.f6a8885a308d20'"
      ]
     },
     "execution_count": 202,
     "metadata": {},
     "output_type": "execute_result"
    }
   ],
   "source": [
    "def F0(j,n):\n",
    "    S =RR(0.0)\n",
    "    k =0 \n",
    "    while k <= n:\n",
    "        r = 8*k+j\n",
    "        S += RR(power_mod(16,n-k,r)/r)-floor(RR(power_mod(16,n-k,r)/r))\n",
    "        k += 1\n",
    "    return RR(S)\n",
    "\n",
    "def F1(j,n):\n",
    "    S =RR(0.0)\n",
    "    k =n+1\n",
    "    while 1:\n",
    "        r = 8*k+j\n",
    "        nS = S+ RR(16^(n-k)/r)\n",
    "        if S == nS:\n",
    "            break\n",
    "        else:\n",
    "            S = nS\n",
    "        k += 1\n",
    "    return RR(S)\n",
    "\n",
    "def S(j,n):\n",
    "    return RR(F0(j,n)+F1(j,n))\n",
    "\n",
    "def cifra_pi(n):\n",
    "    n -= 1\n",
    "    x = (4*RR(S(1,n))-2*RR(S(4,n))-RR(S(5,n))-RR(S(6,n)))\n",
    "    return (x-floor(x)).str(base=16,no_sci=2)\n",
    "\n",
    "cifra_pi(4)"
   ]
  },
  {
   "cell_type": "code",
   "execution_count": 214,
   "metadata": {
    "collapsed": false
   },
   "outputs": [
    {
     "data": {
      "text/plain": [
       "'0.10001011100100001011111110111110100011100111101111001'"
      ]
     },
     "execution_count": 214,
     "metadata": {},
     "output_type": "execute_result"
    }
   ],
   "source": [
    "def F0(j,n):\n",
    "    S =RR(0.0)\n",
    "    k = 1\n",
    "    while k <= n:\n",
    "        r = k\n",
    "        S += RR(power_mod(2,n-k,r)/r)-floor(RR(power_mod(2,n-k,r)/r))\n",
    "        k += 1\n",
    "    return RR(S)\n",
    "\n",
    "def F1(j,n):\n",
    "    S =RR(0.0)\n",
    "    k =n+1\n",
    "    while 1:\n",
    "        r = k\n",
    "        nS = S + RR(2^(n-k)/r)\n",
    "        if S == nS:\n",
    "            break\n",
    "        else:\n",
    "            S = nS\n",
    "        k += 1\n",
    "    return RR(S)\n",
    "\n",
    "def S(j,n):\n",
    "    return RR(F0(j,n)+F1(j,n))\n",
    "\n",
    "def cifra_log2(n):\n",
    "    n -= 1\n",
    "    x = (RR(S(1,n)))\n",
    "    return (x-floor(x)).str(base=2, no_sci=2)\n",
    "\n",
    "cifra_log2(4)"
   ]
  },
  {
   "cell_type": "code",
   "execution_count": 212,
   "metadata": {
    "collapsed": false,
    "scrolled": true
   },
   "outputs": [
    {
     "data": {
      "text/plain": [
       "'0.10001011100100001011111110111110100011100111101111001'"
      ]
     },
     "execution_count": 212,
     "metadata": {},
     "output_type": "execute_result"
    }
   ],
   "source": [
    "cifra_log2(4)"
   ]
  },
  {
   "cell_type": "code",
   "execution_count": 215,
   "metadata": {
    "collapsed": false
   },
   "outputs": [
    {
     "data": {
      "text/plain": [
       "'0.10'"
      ]
     },
     "execution_count": 215,
     "metadata": {},
     "output_type": "execute_result"
    }
   ],
   "source": [
    "def F0(j,n, precis):\n",
    "    NR = RealField(prec = precis)\n",
    "    S =NR(0.0)\n",
    "    k = 1\n",
    "    while k <= n:\n",
    "        r = k\n",
    "        S += NR(power_mod(2,n-k,r)/r)-floor(NR(power_mod(2,n-k,r)/r))\n",
    "        k += 1\n",
    "    return NR(S)\n",
    "\n",
    "def F1(j,n, precis):\n",
    "    NR = RealField(prec = precis)\n",
    "    S =NR(0.0)\n",
    "    k =n+1\n",
    "    while 1:\n",
    "        r = k\n",
    "        nS = S + NR(2^(n-k)/r)\n",
    "        if S == nS:\n",
    "            break\n",
    "        else:\n",
    "            S = nS\n",
    "        k += 1\n",
    "    return NR(S)\n",
    "\n",
    "def S(j,n, precis):\n",
    "    NR = RealField(prec = precis)\n",
    "    return NR(F0(j,n, precis)+F1(j,n, precis))\n",
    "\n",
    "def cifra_log2(n, precis):\n",
    "    NR = RealField(prec = precis)\n",
    "    n -= 1\n",
    "    x = (NR(S(1,n, precis)))\n",
    "    return (x-floor(x)).str(base=2, no_sci=2)\n",
    "\n",
    "cifra_log2(4, 2)"
   ]
  },
  {
   "cell_type": "code",
   "execution_count": 231,
   "metadata": {
    "collapsed": false
   },
   "outputs": [],
   "source": [
    "def compara(C1, C2):\n",
    "    a = len(C1)\n",
    "    if a > len(C2):\n",
    "        a = len(C2)\n",
    "    for i in srange(0, a):\n",
    "        if C2[i] != C1[i]:\n",
    "            return i\n",
    "    return i+1\n",
    "    "
   ]
  },
  {
   "cell_type": "code",
   "execution_count": 274,
   "metadata": {
    "collapsed": false,
    "scrolled": true
   },
   "outputs": [
    {
     "data": {
      "text/plain": [
       "[[],\n",
       " [4, 3],\n",
       " [5, 4],\n",
       " [6, 5],\n",
       " [7, 5],\n",
       " [8, 7],\n",
       " [9, 7],\n",
       " [10, 9],\n",
       " [11, 7],\n",
       " [12, 11],\n",
       " [13, 12],\n",
       " [14, 12],\n",
       " [15, 13],\n",
       " [16, 15],\n",
       " [17, 16],\n",
       " [18, 17],\n",
       " [19, 17],\n",
       " [20, 19],\n",
       " [21, 19],\n",
       " [22, 21],\n",
       " [23, 19],\n",
       " [24, 23],\n",
       " [25, 19],\n",
       " [26, 19],\n",
       " [27, 19],\n",
       " [28, 19],\n",
       " [29, 27],\n",
       " [30, 29],\n",
       " [31, 27],\n",
       " [32, 27],\n",
       " [33, 27],\n",
       " [34, 33],\n",
       " [35, 33],\n",
       " [36, 33],\n",
       " [37, 34],\n",
       " [38, 37],\n",
       " [39, 37],\n",
       " [40, 39],\n",
       " [41, 37],\n",
       " [42, 41],\n",
       " [43, 40],\n",
       " [44, 43],\n",
       " [45, 42],\n",
       " [46, 45],\n",
       " [47, 42],\n",
       " [48, 42],\n",
       " [49, 47],\n",
       " [50, 47],\n",
       " [51, 47],\n",
       " [52, 51],\n",
       " [53, 51],\n",
       " [54, 52],\n",
       " [55, 53],\n",
       " [56, 53],\n",
       " [57, 56],\n",
       " [58, 56],\n",
       " [59, 57],\n",
       " [60, 56],\n",
       " [61, 57],\n",
       " [62, 61],\n",
       " [63, 60],\n",
       " [64, 63],\n",
       " [65, 60],\n",
       " [66, 65],\n",
       " [67, 66],\n",
       " [68, 66],\n",
       " [69, 67],\n",
       " [70, 68],\n",
       " [71, 69],\n",
       " [72, 71],\n",
       " [73, 69],\n",
       " [74, 69],\n",
       " [75, 74],\n",
       " [76, 75],\n",
       " [77, 73],\n",
       " [78, 75],\n",
       " [79, 76],\n",
       " [80, 79],\n",
       " [81, 79],\n",
       " [82, 80],\n",
       " [83, 82],\n",
       " [84, 80],\n",
       " [85, 82],\n",
       " [86, 85],\n",
       " [87, 84],\n",
       " [88, 86],\n",
       " [89, 87],\n",
       " [90, 89],\n",
       " [91, 89],\n",
       " [92, 89],\n",
       " [93, 91],\n",
       " [94, 93],\n",
       " [95, 91],\n",
       " [96, 93],\n",
       " [97, 91],\n",
       " [98, 97],\n",
       " [99, 91]]"
      ]
     },
     "execution_count": 274,
     "metadata": {},
     "output_type": "execute_result"
    }
   ],
   "source": [
    "def comprueba():\n",
    "    L = [[]]\n",
    "    for precis in srange(4, 100):\n",
    "        C2 = (log(2).n(prec=precis)).str(base=2,no_sci=2)\n",
    "        C22 = C2[3:]\n",
    "        C1 = cifra_log2(2, precis)\n",
    "        C11 = C1[2:]\n",
    "        L.append([precis, compara(C11, C22)])\n",
    "    return L\n",
    "\n",
    "LL = comprueba()\n",
    "LL"
   ]
  },
  {
   "cell_type": "markdown",
   "metadata": {},
   "source": [
    "Podemos ver como el número de cifras va aumentando con la precisión en orden 1:1"
   ]
  },
  {
   "cell_type": "code",
   "execution_count": null,
   "metadata": {
    "collapsed": true
   },
   "outputs": [],
   "source": []
  }
 ],
 "metadata": {
  "kernelspec": {
   "display_name": "SageMath 7.3",
   "language": "",
   "name": "sagemath"
  },
  "language_info": {
   "codemirror_mode": {
    "name": "ipython",
    "version": 2
   },
   "file_extension": ".py",
   "mimetype": "text/x-python",
   "name": "python",
   "nbconvert_exporter": "python",
   "pygments_lexer": "ipython2",
   "version": "2.7.10"
  }
 },
 "nbformat": 4,
 "nbformat_minor": 0
}
