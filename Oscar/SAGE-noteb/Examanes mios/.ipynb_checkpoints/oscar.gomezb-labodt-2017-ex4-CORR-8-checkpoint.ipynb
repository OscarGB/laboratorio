{
 "cells": [
  {
   "cell_type": "markdown",
   "metadata": {},
   "source": [
    "1) <span style=\"color:red\"> Antes que nada, lee cuidadosamente estas instrucciones y las que aparecen en la hoja con la contraseña. </span>\n",
    "\n",
    "2) Cambia el nombre de este archivo sustituyendo \"nombre.apellido\" por los tuyos, tal como aparecen en tu dirección de correo electrónico de la UAM.\n",
    "\n",
    "3) Este archivo debe quedar en la carpeta \"ENTREGA...\" que está en el escritorio de tu cuenta de examen. Lo mejor es que esté en esa carpeta desde el comienzo del examen.\n",
    "\n",
    "4) El examen resuelto debe quedar en este único archivo. No se puede usar un archivo para cada pregunta.\n",
    "\n",
    "5) Recuerda que hay que deshabilitar el salvapantallas al comenzar el examen, tal como está indicado en la hoja con la contraseña. \n",
    "\n",
    "\n",
    "\n",
    "\n",
    "CALIFICACIÓN:\n"
   ]
  },
  {
   "cell_type": "code",
   "execution_count": 1,
   "metadata": {
    "collapsed": false
   },
   "outputs": [
    {
     "data": {
      "text/plain": [
       "8"
      ]
     },
     "execution_count": 1,
     "metadata": {},
     "output_type": "execute_result"
    }
   ],
   "source": [
    "4+4"
   ]
  },
  {
   "cell_type": "markdown",
   "metadata": {},
   "source": [
    "COMENTARIOS:\n",
    "\n",
    "1) \n"
   ]
  },
  {
   "cell_type": "markdown",
   "metadata": {},
   "source": [
    "\n",
    "## Ejercicio 1\n",
    "\n",
    "Consideramos el siguiente 'juego': inicialmente hay $n$ jugadores  y en cada fase del juego cada jugador vivo elige **al azar** otro jugador vivo, distinto de sí mismo,  y lo mata.  El juego se repite hasta que queda un único jugador, *el elegido del destino*, o bien ninguno. En principio, es perfectamente posible que el juego se juegue una única vez.\n",
    "\n",
    "1) Estima, con dos cifras decimales 'correctas',  la probabilidad de que, partiendo de  $n=100$ jugadores, haya un superviviente. Como se indicó en clase, entendemos que que son cifras decimales 'correctas' las que no cambian cuando se incrementa suficientemente el número $N$ de 'casos posibles'.\n",
    "\n",
    "2) ¿Qué probabilidad tengo, si decido jugar con otros $99$ jugadores,  de ser yo el *elegido del destino*? Modifica el programa del apartado anterior para estimar la probabilidad y explica el resultado obtenido.\n",
    "\n",
    "3) Ahora queremos estudiar la duración del juego. Para eso debemos  calcular *promedios* de la duración. Define una función *promedio(n,N)* que calcule el promedio y la desviación estándar de la duración con $n$ jugadores iniciales y $N$ repeticiones del juego. Evalúa *promedio(100,10^5)* y comenta los resultados obtenidos.\n",
    "\n",
    "4) Finalmente, estudia la variación de los promedios al variar $n$ entre $10$ y $200$ saltando de $10$ en $10$. Realiza un gráfico de los resultados y analiza la dependencia funcional (el promedio como función de $n$). En este cuarto apartado probablemente tendrás que **elegir con más cuidado un $N$** (el número de repeticiones del juego utilizadas para calcular cada promedio) **adecuado**  dadas las capacidades bastante limitadas de la máquina. "
   ]
  },
  {
   "cell_type": "code",
   "execution_count": 4,
   "metadata": {
    "collapsed": false
   },
   "outputs": [],
   "source": [
    "def juego(n):\n",
    "    S = [i for i in srange(1, n+1)]\n",
    "    while (len(S) > 1):\n",
    "        SS = []\n",
    "        for j in S:\n",
    "            r = floor((random()*len(S)))\n",
    "            if(r == len(S)):\n",
    "                r = r-1\n",
    "            SS.append(r)\n",
    "        SS.sort()\n",
    "        previous = -1\n",
    "        arreglo = 0;\n",
    "        for k in SS:\n",
    "            if(previous != k):\n",
    "                previous = k\n",
    "                S.pop(k - arreglo)\n",
    "                arreglo += 1\n",
    "    return S"
   ]
  },
  {
   "cell_type": "code",
   "execution_count": 5,
   "metadata": {
    "collapsed": false
   },
   "outputs": [],
   "source": [
    "def unsuperviviente(n, N):\n",
    "    supervivientes = 0\n",
    "    for i in srange(N):\n",
    "        L = juego(n)\n",
    "        if(len(L) == 1):\n",
    "            supervivientes += 1\n",
    "    return supervivientes/N.n()"
   ]
  },
  {
   "cell_type": "code",
   "execution_count": 6,
   "metadata": {
    "collapsed": false
   },
   "outputs": [
    {
     "data": {
      "text/plain": [
       "0.689700000000000"
      ]
     },
     "execution_count": 6,
     "metadata": {},
     "output_type": "execute_result"
    }
   ],
   "source": [
    "unsuperviviente(100, 10000)"
   ]
  },
  {
   "cell_type": "markdown",
   "metadata": {},
   "source": [
    "Despues de repetir la probabilidad en distintos casos se aprecia que la probabilidad es cercana a 0.69 "
   ]
  },
  {
   "cell_type": "code",
   "execution_count": 7,
   "metadata": {
    "collapsed": false
   },
   "outputs": [],
   "source": [
    "def yosoyelsuperviviente(n, N):\n",
    "    sobrevivo = 0\n",
    "    for i in srange(N):\n",
    "        yo = 1+floor(random()*n)\n",
    "        if(yo == n+1):\n",
    "            yo = n\n",
    "        L = juego(n)\n",
    "        '''Por si la lista está vacia'''\n",
    "        if(len(L) >= 1):\n",
    "            if(L[0] == yo):\n",
    "                sobrevivo += 1\n",
    "    return sobrevivo/N.n()"
   ]
  },
  {
   "cell_type": "code",
   "execution_count": 8,
   "metadata": {
    "collapsed": false
   },
   "outputs": [
    {
     "data": {
      "text/plain": [
       "0.00760000000000000"
      ]
     },
     "execution_count": 8,
     "metadata": {},
     "output_type": "execute_result"
    }
   ],
   "source": [
    "yosoyelsuperviviente(100, 10000)"
   ]
  },
  {
   "cell_type": "markdown",
   "metadata": {},
   "source": [
    "Vemos que la probabilidad es muy baja, menor al 1%"
   ]
  },
  {
   "cell_type": "code",
   "execution_count": 9,
   "metadata": {
    "collapsed": true
   },
   "outputs": [],
   "source": [
    "def durajuego(n):\n",
    "    S = [i for i in srange(1, n+1)]\n",
    "    dura = 0\n",
    "    while (len(S) > 1):\n",
    "        dura += 1\n",
    "        SS = []\n",
    "        for j in S:\n",
    "            r = floor((random()*len(S)))\n",
    "            if(r == len(S)):\n",
    "                r = r-1\n",
    "            SS.append(r)\n",
    "        SS.sort()\n",
    "        previous = -1\n",
    "        arreglo = 0;\n",
    "        for k in SS:\n",
    "            if(previous != k):\n",
    "                previous = k\n",
    "                S.pop(k - arreglo)\n",
    "                arreglo += 1\n",
    "    return dura"
   ]
  },
  {
   "cell_type": "code",
   "execution_count": 12,
   "metadata": {
    "collapsed": true
   },
   "outputs": [],
   "source": [
    "def promedio(n, N):\n",
    "    L = [] \n",
    "    for i in srange(N):\n",
    "        L.append(durajuego(n))\n",
    "    media = sum(L)/N.n()\n",
    "    LL = []\n",
    "    '''Cuento cuantos hay y lo situo en una lista aparte'''\n",
    "    for i in srange(N):\n",
    "        LL.append(0)\n",
    "    for i in srange(N):\n",
    "        LL[L[i]] += 1\n",
    "    DS = sqrt(sum([((k-media)^2)*LL[k] for k in srange(len(LL))])).n()\n",
    "    return[media, DS]"
   ]
  },
  {
   "cell_type": "code",
   "execution_count": 16,
   "metadata": {
    "collapsed": false
   },
   "outputs": [
    {
     "data": {
      "text/plain": [
       "[4.51000000000000, 17.2017440976199]"
      ]
     },
     "execution_count": 16,
     "metadata": {},
     "output_type": "execute_result"
    }
   ],
   "source": [
    "promedio(100, 1000)"
   ]
  },
  {
   "cell_type": "code",
   "execution_count": null,
   "metadata": {
    "collapsed": false
   },
   "outputs": [],
   "source": [
    "def dibuja():\n",
    "    medias = []\n",
    "    DSs = []\n",
    "    for i in srange(20):\n",
    "        L = promedio(10*(i+1), 1000)\n",
    "        medias.append(L[0])\n",
    "        DSs.append(L[1])\n",
    "    return [medias, DSs]"
   ]
  },
  {
   "cell_type": "code",
   "execution_count": 199,
   "metadata": {
    "collapsed": false
   },
   "outputs": [],
   "source": [
    "L = dibuja()"
   ]
  },
  {
   "cell_type": "code",
   "execution_count": 202,
   "metadata": {
    "collapsed": false
   },
   "outputs": [
    {
     "data": {
      "image/png": "[encoded data removed]",
      "text/plain": [
       "Graphics object consisting of 1 graphics primitive"
      ]
     },
     "execution_count": 202,
     "metadata": {},
     "output_type": "execute_result"
    }
   ],
   "source": [
    "bar_chart(L[0],width=0.1)"
   ]
  },
  {
   "cell_type": "markdown",
   "metadata": {},
   "source": [
    "Podemos ver que el tiempo medio aumenta de manera logaritmica con respecto a n"
   ]
  },
  {
   "cell_type": "code",
   "execution_count": 205,
   "metadata": {
    "collapsed": false
   },
   "outputs": [
    {
     "data": {
      "image/png": "[encoded data removed]",
      "text/plain": [
       "Graphics object consisting of 1 graphics primitive"
      ]
     },
     "execution_count": 205,
     "metadata": {},
     "output_type": "execute_result"
    }
   ],
   "source": [
    "bar_chart(L[1],width=0.1)"
   ]
  },
  {
   "cell_type": "markdown",
   "metadata": {},
   "source": [
    "Sin embargo la desviación típica no parece tener sentido relevante respecto a n"
   ]
  },
  {
   "cell_type": "markdown",
   "metadata": {},
   "source": [
    "## Ejercicio 2\n",
    "\n",
    "Hemos visto que es posible estimar el área de un disco unidad *lanzando dardos al cuadrado unidad y contando los que caen dentro del disco*. El mismo procedimiento permite, en principio,  estimar el volumen de la hiperesfera $\\mathbb{B}_n$  de radio $1$ en $\\mathbb{R}^n$ (i.e. el conjunto de puntos de coordenadas $(x_1,x_2,\\dots,x_n)\\in \\mathbb{R}^n$ tales que $x_1^2+x_2^2+\\dots+x_n^2\\le 1$), pero los volúmenes que vamos obteniendo al incrementar $n$ son cada vez más pequeños y bastante pronto obtenemos cero como respuesta. \n",
    "\n",
    "Ésto se debe a que, cuando $n$ es grande, muy pocos dardos caen dentro de la hiperesfera debido a que ocupa muy poco volumen con respecto al volumen, $2^n$,  del hipercubo unidad $[-1,1]^n$. En este ejercicio vemos una manera distinta de *lanzar dardos*, que nos va a asegurar que suficientes caen dentro de la hiperesfera. Denotemos por $V(n)$ el volumen de $\\mathbb{B}_n$, que es lo que  queremos calcular. \n",
    "\n",
    "### Descripción del método\n",
    "\n",
    "1) El *truco básico* consiste en considerar la hiperesfera de dimensión $n$  dentro del hipercilindro $\\mathbb{C}_n:=\\mathbb{B}_{n-1}\\times [-1,1]$, en lugar de dentro del hipercubo $[-1,1]^n$.  El volumen del hipercilindro es, gracias al teorema de Fubini del cálculo integral, igual al volumen de $\\mathbb{B}_{n-1}$ multiplicado por dos. \n",
    "\n",
    "2) En segundo lugar  observamos que para  obtener puntos aleatorios en el hipercilindro $\\mathbb{C}_n$ basta generar puntos aleatorios $(x_1,x_2,\\dots,x_{n-1})\\in \\mathbb{B}_{n-1}$ en la hiperesfera de dimensión $n-1$ y para cada uno producir un real aleatorio $x_n$ en el intervalo $[-1,1]$. \n",
    "\n",
    "3) Para que esto funcione debemos encontrar una **manera eficiente** de generar puntos aleatorios en la hiperesfera $\\mathbb{B}_{n-1}$,  y el método que vamos a usar se llama de  *cadena de Markov* (una especie de *paseo aleatorio generalizado*):\n",
    "\n",
    "A) El primer punto de la cadena $\\mathbf{x}_0$ es, por ejemplo,  el origen de coordenadas.\n",
    "    \n",
    "B) Para cada punto $\\mathbf{x}_t=(x_1,x_2,\\dots,x_{n-1})\\in \\mathbb{B}_{n-1}$  obtenemos un nuevo punto $\\mathbf{x}_{t+1}$ eligiendo una coordenada al azar, supongamos que hemos obtenido $x_i$,  y un real aleatorio $\\Delta$ en el  intervalo $[-\\delta,\\delta]$. Entonces, cambiamos $x_i$ por $x_i+\\Delta$ en $\\mathbf{x}$ y si todavía estamos dentro de la hiperesfera ese es el nuevo punto $\\mathbf{x}_{t+1}$ en la cadena. Si al hacer el cambio nos vamos fuera de la hiperesfera dejamos $\\mathbf{x}_{t+1}:=\\mathbf{x}_{t}$. \n",
    "\n",
    "C) La cadena $\\{\\mathbf{x}_0,\\mathbf{x}_1,\\dots,\\mathbf{x}_t,\\dots,\\mathbf{x}_N\\}$ es entonces un conjunto de $N+1$ puntos, todos en la hiperesfera $\\mathbb{B}_{n-1}$, y se puede demostrar que, para $N$ suficientemente grande,  están uniformemente distribuidos en la hiperesfera. \n",
    "\n",
    "4) Después de estos preparativos podemos ya plantear el cálculo del volumen  $V(n)$ de la hiperesfera $\\mathbb{B}_n$: \n",
    "\n",
    "Generamos un número muy grande $N$ de puntos en la hiperesfera de dimensión $n-1$, usando el apartado 3),  y para cada uno de ellos vamos calculando un punto en el hipercilindro, como en el apartado 2). Si el punto obtenido en el hipercilindro cae dentro de la hiperesfera  de dimensión $n$, $\\mathbb{B}_n$,  incrementamos un contador, al que por ejemplo hemos llamado *dentro*. \n",
    "\n",
    "La fracción $dentro/N$, calculada después de haber generado $N$ puntos del hipercilindro,   es aproximadamente igual al cociente de volúmenes $V(n)/(2V(n-1))$ (volumen de la hiperesfera dividido por volumen del hipercilindro). \n",
    "\n",
    "Entonces, podemos reducir el cálculo  de $V(n)$ al de $V(n-1)$, el de $V(n-1)$ al de $V(n-2)$, etc., hasta llegar al volumen de la hiperesfera en dimensión $1$ que es igual a dos. \n",
    "\n",
    "### Ejercicios\n",
    "\n",
    "2.1) Define las funciones necesarias para implementar esta forma, *Monte Carlo con cadenas de Markov*,  de calcular $V(n).$\n",
    "\n",
    "2.2) El volumen exacto de una hiperesfera se puede calcular mediante integrales, y se obtiene una fórmula que se indica en la celda siguiente:\n"
   ]
  },
  {
   "cell_type": "code",
   "execution_count": 208,
   "metadata": {
    "collapsed": false
   },
   "outputs": [],
   "source": [
    "def Vol_exacto(dim):\n",
    "    return (pi**(dim/2.0)/gamma(dim/2.0+1.0)).n()"
   ]
  },
  {
   "cell_type": "code",
   "execution_count": 210,
   "metadata": {
    "collapsed": false
   },
   "outputs": [
    {
     "name": "stdout",
     "output_type": "stream",
     "text": [
      "2.00000000000000\n",
      "3.14159265358979\n",
      "4.18879020478639\n",
      "2.36820210188283e-40\n"
     ]
    }
   ],
   "source": [
    "print Vol_exacto(1);print Vol_exacto(2); print Vol_exacto(3); print Vol_exacto(100)"
   ]
  },
  {
   "cell_type": "code",
   "execution_count": 342,
   "metadata": {
    "collapsed": false
   },
   "outputs": [],
   "source": [
    "def inside(L):\n",
    "    suma = 0\n",
    "    for i in srange(len(L)):\n",
    "        suma += (L[i]^2)\n",
    "    if(suma <= 1):\n",
    "        return true\n",
    "    else:\n",
    "        return false"
   ]
  },
  {
   "cell_type": "code",
   "execution_count": 394,
   "metadata": {
    "collapsed": false
   },
   "outputs": [],
   "source": [
    "def calculaVolumen(dim, gamma, N):\n",
    "    if(dim == 1):\n",
    "        return 2\n",
    "    cont = 0\n",
    "    Pt = [0 for i in srange(dim)]\n",
    "    Pt1 = list(Pt)\n",
    "    for i in srange(N):\n",
    "        '''Coordenada del hipercilindro'''\n",
    "        cil = random()*2 - 1\n",
    "        r = random()*2*gamma - (gamma)\n",
    "        '''Indice a cambiar, no incluye la ultima coordenada'''\n",
    "        indice = floor(random()*(dim-1))\n",
    "        if(indice == dim - 1):\n",
    "            indice = dim - 2\n",
    "        Pt1[indice] = Pt[indice] + r\n",
    "        Pt1[dim - 1] = cil\n",
    "        if(inside(Pt1) == true):\n",
    "            cont += 1\n",
    "            Pt = list(Pt1)\n",
    "        else:\n",
    "            Pt1 = list(Pt)\n",
    "    return 2*Vol_exacto(dim-1)*cont/N.n()"
   ]
  },
  {
   "cell_type": "code",
   "execution_count": 404,
   "metadata": {
    "collapsed": false
   },
   "outputs": [
    {
     "data": {
      "text/plain": [
       "8.52250670147204e-14"
      ]
     },
     "execution_count": 404,
     "metadata": {},
     "output_type": "execute_result"
    }
   ],
   "source": [
    "calculaVolumen(50, 0.7, 10**5)"
   ]
  },
  {
   "cell_type": "code",
   "execution_count": 405,
   "metadata": {
    "collapsed": false
   },
   "outputs": [
    {
     "data": {
      "text/plain": [
       "1.73021924583611e-13"
      ]
     },
     "execution_count": 405,
     "metadata": {},
     "output_type": "execute_result"
    }
   ],
   "source": [
    "Vol_exacto(50)"
   ]
  },
  {
   "cell_type": "markdown",
   "metadata": {},
   "source": [
    "¿Para qué queremos estimar esos mismos volúmenes mediante Monte Carlo? Los resultados exactos sirven como control de las estimaciones, y,  en particular,  permiten ajustar de forma óptima los parámetros $N$ y $\\delta$. \n",
    "\n",
    "El parámetro $N$ debe ser suficientemente grande para obtener una precisión aceptable, pero no tan grande que tengamos que esperar una eternidad por el resultado, y el parámetro $\\delta$, un real que podemos esperar que esté entre cero y uno,  no puede ser muy pequeño,  porque entonces todos los puntos de la cadena están muy próximos entre sí y no rellenan bien la hiperesfera, ni muy grande porque entonces la cadena repite muchas veces sus valores. \n",
    "\n",
    " Queremos elegir los parámetros, $N$ y $\\delta$,  para calcular,  mediante Monte Carlo,  el volumen de la hiperesfera de dimensión $50$  de forma que al menos sea correcta la primera cifra decimal no nula (por supuesto, cuantas más cifras correctas obtengamos mejor). Tomamos $N=10^5$ y elegimos un $\\delta$ óptimo, dentro del intervalo $(0,1)$,   mediante experimentos adecuados. \n",
    "\n",
    "\n"
   ]
  },
  {
   "cell_type": "code",
   "execution_count": 402,
   "metadata": {
    "collapsed": true
   },
   "outputs": [],
   "source": [
    "def calculaparametros():\n",
    "    vol = Vol_exacto(50)\n",
    "    mejor = 0\n",
    "    error = 100\n",
    "    for i in srange(0,11):\n",
    "        a = calculaVolumen(50, i/10, 10**5)\n",
    "        if(abs(a - vol) < error):\n",
    "            error = a\n",
    "            mejor = i/10\n",
    "    return mejor"
   ]
  },
  {
   "cell_type": "code",
   "execution_count": 403,
   "metadata": {
    "collapsed": false
   },
   "outputs": [
    {
     "data": {
      "text/plain": [
       "7/10"
      ]
     },
     "execution_count": 403,
     "metadata": {},
     "output_type": "execute_result"
    }
   ],
   "source": [
    "calculaparametros()"
   ]
  }
 ],
 "metadata": {
  "kernelspec": {
   "display_name": "SageMath 7.2",
   "language": "",
   "name": "sagemath"
  },
  "language_info": {
   "codemirror_mode": {
    "name": "ipython",
    "version": 2
   },
   "file_extension": ".py",
   "mimetype": "text/x-python",
   "name": "python",
   "nbconvert_exporter": "python",
   "pygments_lexer": "ipython2",
   "version": "2.7.10"
  }
 },
 "nbformat": 4,
 "nbformat_minor": 0
}
