{
 "cells": [
  {
   "cell_type": "markdown",
   "metadata": {},
   "source": [
    "<p><span style=\"color: #ff0000;\">Por favor, antes de empezar el examen cambia el nombre de la hoja (File&gt;Rename worksheet) poniendo en lugar de \"nombre.apellido\" los tuyos tal como aparecen en tu direcci&oacute;n de correo electr&oacute;nico de la UAM. El final del nombre de la hoja, -labot-ex1, dej&aacute;lo como est&aacute;.<br /></span></p>\n",
    "<p><span style=\"color: #ff0000;\">Una vez hayas terminado el examen, salva la hoja (File&gt;Save worksheet to a file....) y d&eacute;jala en la carpeta en tu escritorio con nombre \"ENTREGA......\".</span></p>\n",
    "<h4>&nbsp;</h4>\n",
    "<h4>&nbsp;</h4>\n",
    "<h4>Ejercicio1</h4>\n",
    "<p>Decimos que un entero positivo $n$ es <strong>multiplicativamente perfecto</strong> si el producto de todos los divisores de $n$ vale exactamente $n^2.$ El ejemplo m&aacute;s sencillo de un n&uacute;mero multiplicativamente perfecto es el producto $n=p\\cdot q$ de dos primos distintos. Por tanto, existen infinitos enteros multiplicativamente perfectos. Queremos caracterizar los enteros multiplicativamente perfectos.</p>\n",
    "<ol>\n",
    "<li>Primero define una funci&oacute;n de Sage, de nombre $perfecto(n)$,&nbsp; que reciba como argumento un entero $n$ y devuelva $Truo$ o $False$ seg&uacute;n el n&uacute;mero $n$ sea multiplicativamente perfecto o no.</li>\n",
    "<li>Ahora define una funci&oacute;n de Sage, de nombre $perfectos(N)$,&nbsp; que reciba como argumento un entero $N$ y devuelva la lista de todos los enteros multiplicativamente perfectos que pertenecen al intervalo $[1,N].$</li>\n",
    "<li>Usando las listas de enteros multiplicativamente perfectos que puedes obtener con la funci&oacute;n del apartado anterior, produce una conjetura razonable acerca de qu&eacute; enteros son multiplicativamente perfectos. Debes escribir expl&iacute;citamente tu conjetura en una celda de texto.</li>\n",
    "<li>Define una tercera funci&oacute;n, de nombre $comprobar(N)$, que devuelva $True$ si tu conjetura es correcta para enteros positivos menores que $N$, y $False$ si no lo es.</li>\n",
    "<li>Experimenta con valores de $N$ suficientemente grandes para obtener&nbsp; el $N=10^t$ ($t$ entero) m&aacute;s grande tal que tu programa $comprobar(N)$ se ejecuta en menos de un minuto.</li>\n",
    "</ol>"
   ]
  },
  {
   "cell_type": "code",
   "execution_count": 79,
   "metadata": {
    "collapsed": true
   },
   "outputs": [],
   "source": [
    "def divisores(n):\n",
    "    L = []\n",
    "    for i in range(1, n+1):\n",
    "        if(n%i == 0):\n",
    "            L.append(i)\n",
    "    return L"
   ]
  },
  {
   "cell_type": "code",
   "execution_count": 80,
   "metadata": {
    "collapsed": true
   },
   "outputs": [],
   "source": [
    "def perfecto(n):\n",
    "    contador = 1\n",
    "    L = divisores(n)\n",
    "    for i in range(0, len(L)):\n",
    "        contador *= L[i]\n",
    "    if(contador == n**2):\n",
    "        return True\n",
    "    else:\n",
    "        return False"
   ]
  },
  {
   "cell_type": "code",
   "execution_count": 81,
   "metadata": {
    "collapsed": false
   },
   "outputs": [],
   "source": [
    "def perfectos(N):\n",
    "    L = []\n",
    "    for i in range(1, N+1):\n",
    "        if(perfecto(i) == True):\n",
    "            L.append(i)\n",
    "    return L"
   ]
  },
  {
   "cell_type": "code",
   "execution_count": 82,
   "metadata": {
    "collapsed": false
   },
   "outputs": [
    {
     "data": {
      "text/plain": [
       "[1,\n",
       " 2 * 3,\n",
       " 2^3,\n",
       " 2 * 5,\n",
       " 2 * 7,\n",
       " 3 * 5,\n",
       " 3 * 7,\n",
       " 2 * 11,\n",
       " 2 * 13,\n",
       " 3^3,\n",
       " 3 * 11,\n",
       " 2 * 17,\n",
       " 5 * 7,\n",
       " 2 * 19,\n",
       " 3 * 13,\n",
       " 2 * 23]"
      ]
     },
     "execution_count": 82,
     "metadata": {},
     "output_type": "execute_result"
    }
   ],
   "source": [
    "LL = []\n",
    "L = perfectos(50)\n",
    "for i in range(0, len(L)):\n",
    "    LL.append(factor(L[i]))\n",
    "LL"
   ]
  },
  {
   "cell_type": "markdown",
   "metadata": {},
   "source": [
    "Mi conjetura dicta lo siguiente:\n",
    "\n",
    "Todo número que es cuadrado perfecto tiene que ser o bien el producto de dos primos diferentes de 1 y diferentes entre si o bien un primo elevado al cubo"
   ]
  },
  {
   "cell_type": "code",
   "execution_count": 83,
   "metadata": {
    "collapsed": false
   },
   "outputs": [
    {
     "data": {
      "text/plain": [
       "j"
      ]
     },
     "execution_count": 83,
     "metadata": {},
     "output_type": "execute_result"
    }
   ],
   "source": [
    "var('j')"
   ]
  },
  {
   "cell_type": "code",
   "execution_count": 84,
   "metadata": {
    "collapsed": false
   },
   "outputs": [],
   "source": [
    "def comprobar(N):\n",
    "    L = perfectos(N)\n",
    "    for i in srange(0, len(L)):\n",
    "        LL = list(factor(L[i]))\n",
    "        if(len(LL) > 2):\n",
    "            return False\n",
    "        elif(len(LL) == 2):\n",
    "            A = LL[0]\n",
    "            B = LL[1]\n",
    "            if(not(is_prime(A[0])) or not(is_prime(B[0])) or (A[1] != 1) or (B[1] != 1)):\n",
    "                return False\n",
    "        elif(len(LL) == 1):\n",
    "            A = LL[0]\n",
    "            if(A[0] != 1):\n",
    "                if(not(is_prime(A[0])) or (A[1] != 3)):\n",
    "                    return False\n",
    "    return True"
   ]
  },
  {
   "cell_type": "code",
   "execution_count": 222,
   "metadata": {
    "collapsed": false
   },
   "outputs": [
    {
     "name": "stdout",
     "output_type": "stream",
     "text": [
      "CPU times: user 6.59 s, sys: 8 ms, total: 6.6 s\n",
      "Wall time: 6.6 s\n"
     ]
    },
    {
     "data": {
      "text/plain": [
       "True"
      ]
     },
     "execution_count": 222,
     "metadata": {},
     "output_type": "execute_result"
    }
   ],
   "source": [
    "time comprobar(10000)"
   ]
  },
  {
   "cell_type": "markdown",
   "metadata": {},
   "source": [
    "Como para 10000 (máximo que mi máquina ejecuta en 1 minuto) todos los casos son correctos, doy la conjetura como verdadera"
   ]
  },
  {
   "cell_type": "markdown",
   "metadata": {},
   "source": [
    "<h4>Ejercicio 2</h4>\n",
    "<p>En este ejercicio queremos definir funciones para comparar listas de enteros, <strong>salvo el orden de sus elementos</strong>,&nbsp; es decir, diremos que dos listas son <strong>casi-iguales</strong> si tienen la misma longitud y los mismos elementos pero no necesariamente en los mismos lugares. Las funciones que vamos a definir son 'tests' de casi-igualdad de listas.</p>\n",
    "<ol>\n",
    "<li>Primer m&eacute;todo: despu&eacute;s de comparar longitudes, y devolver $False$ si son diferentes, recorrer los elementos de la primera lista comprobando si son elementos de la segunda tambi&eacute;n. Si encontramos un elemento que est&aacute; en la primera lista y no en la segunda es claro que debemos devolver $False$, pero cada vez que encontramos un elemento que est&aacute; en las dos listas &iquest;qu&eacute; debemos hacer? Completa la idea para este m&eacute;todo y&nbsp; define una funci&oacute;n de Sage que lo implemente.</li>\n",
    "<li>Segundo m&eacute;todo:&nbsp; despu&eacute;s de comparar longitudes, y devolver $False$ si son diferentes, ordena las dos listas (puedes usar el m&eacute;todo $sort$ de Sage). Ahora compara las listas ordenadas&nbsp; recorriendo los elementos de la primera y comprobando si es igual al que ocupa el mismo lugar en la segunda.&nbsp; Define una funci&oacute;n de Sage que implemente este m&eacute;todo.</li>\n",
    "</ol>\n",
    "<p>Compara la eficiencia de los dos m&eacute;todos y discute los resultados obtenidos. Debes tener en cuenta que los tiempos obtenidos depender&aacute;n mucho de lo diferentes que sean las listas y debemos esperar que se obtengan tiempos mayores, y es el caso que nos conviene analizar,&nbsp; cuando una de las listas sea una reordenaci&oacute;n de la otra.&nbsp; Para producir una reordenaci&oacute;n aleatoria de una lista $L$ se pueden ejecutar las siguientes&nbsp; instrucciones en una celda</p>\n",
    "<p>$import \\ \\ numpy\\ \\&nbsp; as\\&nbsp; \\ np$</p>\n",
    "<p>$L1 = np.random.permutation(L).tolist()$</p>\n",
    "<p>y queda definida la lista $L1$ que es una permutaci&oacute;n aleatoria&nbsp; de la lista $L$.</p>"
   ]
  },
  {
   "cell_type": "code",
   "execution_count": 213,
   "metadata": {
    "collapsed": false
   },
   "outputs": [],
   "source": [
    "import numpy as np"
   ]
  },
  {
   "cell_type": "code",
   "execution_count": 214,
   "metadata": {
    "collapsed": true
   },
   "outputs": [],
   "source": [
    "def primer_metodo(La, Lb):\n",
    "    L1 = list(La)\n",
    "    L2 = list(Lb)\n",
    "    lon = len(L1)\n",
    "    if(lon != len(L2)):\n",
    "        return False\n",
    "    for i in range(0, lon):\n",
    "        if(L1[i] not in L2):\n",
    "            return False\n",
    "        i2 = L2.index(L1[i])\n",
    "        L2[i2] = None\n",
    "    return True"
   ]
  },
  {
   "cell_type": "code",
   "execution_count": 215,
   "metadata": {
    "collapsed": true
   },
   "outputs": [],
   "source": [
    "def segundo_metodo(La, Lb):\n",
    "    L1 = list(La)\n",
    "    L2 = list(Lb)\n",
    "    lon = len(L1)\n",
    "    if(lon != len(L2)):\n",
    "        return False\n",
    "    L1.sort()\n",
    "    L2.sort()\n",
    "    for i in range(0, lon):\n",
    "        if(L1[i] != L2[i]):\n",
    "            return False\n",
    "    return True"
   ]
  },
  {
   "cell_type": "code",
   "execution_count": 216,
   "metadata": {
    "collapsed": false
   },
   "outputs": [],
   "source": [
    "def random_list(size):\n",
    "    seed()\n",
    "    L = [randint(1, size) for i in range (0, size)]\n",
    "    return L"
   ]
  },
  {
   "cell_type": "code",
   "execution_count": 217,
   "metadata": {
    "collapsed": false
   },
   "outputs": [],
   "source": [
    "Li = random_list(1500)"
   ]
  },
  {
   "cell_type": "code",
   "execution_count": 218,
   "metadata": {
    "collapsed": false
   },
   "outputs": [],
   "source": [
    "Aleat = np.random.permutation(Li).tolist()"
   ]
  },
  {
   "cell_type": "code",
   "execution_count": 219,
   "metadata": {
    "collapsed": false
   },
   "outputs": [
    {
     "name": "stdout",
     "output_type": "stream",
     "text": [
      "CPU times: user 0 ns, sys: 44 ms, total: 44 ms\n",
      "Wall time: 44.5 ms\n"
     ]
    },
    {
     "data": {
      "text/plain": [
       "True"
      ]
     },
     "execution_count": 219,
     "metadata": {},
     "output_type": "execute_result"
    }
   ],
   "source": [
    "time primer_metodo(Li, Aleat)"
   ]
  },
  {
   "cell_type": "code",
   "execution_count": 223,
   "metadata": {
    "collapsed": false
   },
   "outputs": [
    {
     "name": "stdout",
     "output_type": "stream",
     "text": [
      "CPU times: user 0 ns, sys: 0 ns, total: 0 ns\n",
      "Wall time: 753 µs\n"
     ]
    },
    {
     "data": {
      "text/plain": [
       "True"
      ]
     },
     "execution_count": 223,
     "metadata": {},
     "output_type": "execute_result"
    }
   ],
   "source": [
    "time segundo_metodo(Li, Aleat)"
   ]
  },
  {
   "cell_type": "markdown",
   "metadata": {},
   "source": [
    "Podemos ver que el segundo método es mucho más rapido, esto se debe a la eficiencia del método sort (Nlog(N)), mientras que el primer método no está tan optimizado debido a que recorremos la lista para comprobarlo y luego para encontrar su índice, siendo de coste cuadrático"
   ]
  },
  {
   "cell_type": "markdown",
   "metadata": {},
   "source": [
    "<h4>Ejercicio 3</h4>\n",
    "<p>En este ejercicio estudiamos la existencia de ra&iacute;ces $k$-&eacute;simas en el anillo $\\mathbb{Z}_m$ de clases de restos m&oacute;dulo un entero $m$ . Como es natural,&nbsp; dados elementos&nbsp; $a,b \\in \\mathbb{Z}_m$, decimos que $a$ es una ra&iacute;z $k$-&eacute;sima de $b$ si $a^k=b$ en $\\mathbb{Z}_m$. Nuestro objetivo es, dado el entero $m$,&nbsp; determinar los valores de $k$&lt;$m$ tales que todos los elementos de $\\mathbb{Z}_m$ tienen una ra&iacute;z $k$-&eacute;sima.</p>\n",
    "<ol>\n",
    "<li>Define una funci&oacute;n de Sage, con nombre $raices(m,k)$, que devuelva $True$ si todas las clases de restos m&oacute;dulo $m$ tienen una ra&iacute;z $k$-&eacute;sima , con $k$&lt;$m$, y $False$ en caso contrario.</li>\n",
    "<li>Aplica la funci&oacute;n $raices(m,k)$ con $m$ primo, por ejemplo $m=23$, $m=31$, y trata de entender (explicita una conjetura) cu&aacute;les son los valores de $k$ para los que se obtiene $True$.&nbsp; Define una nueva funci&oacute;n de Sage, $comprobador(N)$&nbsp; que sirva para comprobar si&nbsp; tu conjetura es cierta para todos los enteros primos&nbsp; del intervalo $[1,N].$ Mediante esta funci&oacute;n comprueba tu conjetura hasta el $N=10^t$ ($t$ entero) m&aacute;s grande tal que la comprobaci&oacute;n tarde menos de un minuto.</li>\n",
    "<li>&nbsp;Si todav&iacute;a tienes tiempo y ganas puedes estudiar el caso de enteros $m$ que son producto de dos primos distintos.</li>\n",
    "</ol>"
   ]
  },
  {
   "cell_type": "code",
   "execution_count": 233,
   "metadata": {
    "collapsed": false
   },
   "outputs": [],
   "source": [
    "def raices(m,k):\n",
    "    if(k >= m):\n",
    "        return False\n",
    "    R = Integers(m)\n",
    "    S = set()\n",
    "    for j in range(0, m):\n",
    "        for i in range(0, m):\n",
    "            a = R(i)\n",
    "            if((a ** k) == j):\n",
    "                S.add(j)\n",
    "    if(len(S) == m):\n",
    "        return True\n",
    "    return False"
   ]
  },
  {
   "cell_type": "code",
   "execution_count": 274,
   "metadata": {
    "collapsed": false
   },
   "outputs": [
    {
     "data": {
      "text/plain": [
       "False"
      ]
     },
     "execution_count": 274,
     "metadata": {},
     "output_type": "execute_result"
    }
   ],
   "source": [
    "raices(3, 3)"
   ]
  },
  {
   "cell_type": "code",
   "execution_count": 240,
   "metadata": {
    "collapsed": false
   },
   "outputs": [],
   "source": [
    "def ayuda_conj(p, N):\n",
    "    L = []\n",
    "    for i in range(1, N+1):\n",
    "        if(raices(p, i) == True):\n",
    "            L.append(i)\n",
    "    return L"
   ]
  },
  {
   "cell_type": "code",
   "execution_count": 273,
   "metadata": {
    "collapsed": false
   },
   "outputs": [
    {
     "data": {
      "text/plain": [
       "[1]"
      ]
     },
     "execution_count": 273,
     "metadata": {},
     "output_type": "execute_result"
    }
   ],
   "source": [
    "ayuda_conj(3, 3)"
   ]
  },
  {
   "cell_type": "markdown",
   "metadata": {},
   "source": [
    "Parece que aquellos que aparecen son coprimos con m-1"
   ]
  },
  {
   "cell_type": "code",
   "execution_count": 258,
   "metadata": {
    "collapsed": false
   },
   "outputs": [],
   "source": [
    "def coprimo(a, b):\n",
    "    if gcd(a,b) == 1:\n",
    "        return True\n",
    "    return False"
   ]
  },
  {
   "cell_type": "code",
   "execution_count": 261,
   "metadata": {
    "collapsed": false
   },
   "outputs": [
    {
     "data": {
      "text/plain": [
       "False"
      ]
     },
     "execution_count": 261,
     "metadata": {},
     "output_type": "execute_result"
    }
   ],
   "source": [
    "coprimo(2,4)"
   ]
  },
  {
   "cell_type": "code",
   "execution_count": 275,
   "metadata": {
    "collapsed": false
   },
   "outputs": [],
   "source": [
    "def comprobador(N):\n",
    "    for p in prime_range(1, N+1):\n",
    "        for k in range(1, p):\n",
    "            if(coprimo(p - 1, k) == True):\n",
    "                if(raices(p,k) == False):\n",
    "                    print(p,k)\n",
    "                    return False\n",
    "            else:\n",
    "                if(raices(p,k) == True):\n",
    "                    print(p,k)\n",
    "                    return False\n",
    "    return True"
   ]
  },
  {
   "cell_type": "code",
   "execution_count": 283,
   "metadata": {
    "collapsed": false
   },
   "outputs": [
    {
     "ename": "KeyboardInterrupt",
     "evalue": "",
     "output_type": "error",
     "traceback": [
      "\u001b[1;31m---------------------------------------------------------------------------\u001b[0m",
      "\u001b[1;31mKeyboardInterrupt\u001b[0m                         Traceback (most recent call last)",
      "\u001b[1;32m<ipython-input-283-d49d7eefdabe>\u001b[0m in \u001b[0;36m<module>\u001b[1;34m()\u001b[0m\n\u001b[1;32m----> 1\u001b[1;33m \u001b[0mget_ipython\u001b[0m\u001b[1;33m(\u001b[0m\u001b[1;33m)\u001b[0m\u001b[1;33m.\u001b[0m\u001b[0mmagic\u001b[0m\u001b[1;33m(\u001b[0m\u001b[1;34mu'time comprobador(Integer(1000))'\u001b[0m\u001b[1;33m)\u001b[0m\u001b[1;33m\u001b[0m\u001b[0m\n\u001b[0m",
      "\u001b[1;32m/usr/lib/sagemath/local/lib/python2.7/site-packages/IPython/core/interactiveshell.pyc\u001b[0m in \u001b[0;36mmagic\u001b[1;34m(self, arg_s)\u001b[0m\n\u001b[0;32m   2161\u001b[0m         \u001b[0mmagic_name\u001b[0m\u001b[1;33m,\u001b[0m \u001b[0m_\u001b[0m\u001b[1;33m,\u001b[0m \u001b[0mmagic_arg_s\u001b[0m \u001b[1;33m=\u001b[0m \u001b[0marg_s\u001b[0m\u001b[1;33m.\u001b[0m\u001b[0mpartition\u001b[0m\u001b[1;33m(\u001b[0m\u001b[1;34m' '\u001b[0m\u001b[1;33m)\u001b[0m\u001b[1;33m\u001b[0m\u001b[0m\n\u001b[0;32m   2162\u001b[0m         \u001b[0mmagic_name\u001b[0m \u001b[1;33m=\u001b[0m \u001b[0mmagic_name\u001b[0m\u001b[1;33m.\u001b[0m\u001b[0mlstrip\u001b[0m\u001b[1;33m(\u001b[0m\u001b[0mprefilter\u001b[0m\u001b[1;33m.\u001b[0m\u001b[0mESC_MAGIC\u001b[0m\u001b[1;33m)\u001b[0m\u001b[1;33m\u001b[0m\u001b[0m\n\u001b[1;32m-> 2163\u001b[1;33m         \u001b[1;32mreturn\u001b[0m \u001b[0mself\u001b[0m\u001b[1;33m.\u001b[0m\u001b[0mrun_line_magic\u001b[0m\u001b[1;33m(\u001b[0m\u001b[0mmagic_name\u001b[0m\u001b[1;33m,\u001b[0m \u001b[0mmagic_arg_s\u001b[0m\u001b[1;33m)\u001b[0m\u001b[1;33m\u001b[0m\u001b[0m\n\u001b[0m\u001b[0;32m   2164\u001b[0m \u001b[1;33m\u001b[0m\u001b[0m\n\u001b[0;32m   2165\u001b[0m     \u001b[1;31m#-------------------------------------------------------------------------\u001b[0m\u001b[1;33m\u001b[0m\u001b[1;33m\u001b[0m\u001b[0m\n",
      "\u001b[1;32m/usr/lib/sagemath/local/lib/python2.7/site-packages/IPython/core/interactiveshell.pyc\u001b[0m in \u001b[0;36mrun_line_magic\u001b[1;34m(self, magic_name, line)\u001b[0m\n\u001b[0;32m   2082\u001b[0m                 \u001b[0mkwargs\u001b[0m\u001b[1;33m[\u001b[0m\u001b[1;34m'local_ns'\u001b[0m\u001b[1;33m]\u001b[0m \u001b[1;33m=\u001b[0m \u001b[0msys\u001b[0m\u001b[1;33m.\u001b[0m\u001b[0m_getframe\u001b[0m\u001b[1;33m(\u001b[0m\u001b[0mstack_depth\u001b[0m\u001b[1;33m)\u001b[0m\u001b[1;33m.\u001b[0m\u001b[0mf_locals\u001b[0m\u001b[1;33m\u001b[0m\u001b[0m\n\u001b[0;32m   2083\u001b[0m             \u001b[1;32mwith\u001b[0m \u001b[0mself\u001b[0m\u001b[1;33m.\u001b[0m\u001b[0mbuiltin_trap\u001b[0m\u001b[1;33m:\u001b[0m\u001b[1;33m\u001b[0m\u001b[0m\n\u001b[1;32m-> 2084\u001b[1;33m                 \u001b[0mresult\u001b[0m \u001b[1;33m=\u001b[0m \u001b[0mfn\u001b[0m\u001b[1;33m(\u001b[0m\u001b[1;33m*\u001b[0m\u001b[0margs\u001b[0m\u001b[1;33m,\u001b[0m\u001b[1;33m**\u001b[0m\u001b[0mkwargs\u001b[0m\u001b[1;33m)\u001b[0m\u001b[1;33m\u001b[0m\u001b[0m\n\u001b[0m\u001b[0;32m   2085\u001b[0m             \u001b[1;32mreturn\u001b[0m \u001b[0mresult\u001b[0m\u001b[1;33m\u001b[0m\u001b[0m\n\u001b[0;32m   2086\u001b[0m \u001b[1;33m\u001b[0m\u001b[0m\n",
      "\u001b[1;32m<decorator-gen-60>\u001b[0m in \u001b[0;36mtime\u001b[1;34m(self, line, cell, local_ns)\u001b[0m\n",
      "\u001b[1;32m/usr/lib/sagemath/local/lib/python2.7/site-packages/IPython/core/magic.pyc\u001b[0m in \u001b[0;36m<lambda>\u001b[1;34m(f, *a, **k)\u001b[0m\n\u001b[0;32m    191\u001b[0m     \u001b[1;31m# but it's overkill for just that one bit of state.\u001b[0m\u001b[1;33m\u001b[0m\u001b[1;33m\u001b[0m\u001b[0m\n\u001b[0;32m    192\u001b[0m     \u001b[1;32mdef\u001b[0m \u001b[0mmagic_deco\u001b[0m\u001b[1;33m(\u001b[0m\u001b[0marg\u001b[0m\u001b[1;33m)\u001b[0m\u001b[1;33m:\u001b[0m\u001b[1;33m\u001b[0m\u001b[0m\n\u001b[1;32m--> 193\u001b[1;33m         \u001b[0mcall\u001b[0m \u001b[1;33m=\u001b[0m \u001b[1;32mlambda\u001b[0m \u001b[0mf\u001b[0m\u001b[1;33m,\u001b[0m \u001b[1;33m*\u001b[0m\u001b[0ma\u001b[0m\u001b[1;33m,\u001b[0m \u001b[1;33m**\u001b[0m\u001b[0mk\u001b[0m\u001b[1;33m:\u001b[0m \u001b[0mf\u001b[0m\u001b[1;33m(\u001b[0m\u001b[1;33m*\u001b[0m\u001b[0ma\u001b[0m\u001b[1;33m,\u001b[0m \u001b[1;33m**\u001b[0m\u001b[0mk\u001b[0m\u001b[1;33m)\u001b[0m\u001b[1;33m\u001b[0m\u001b[0m\n\u001b[0m\u001b[0;32m    194\u001b[0m \u001b[1;33m\u001b[0m\u001b[0m\n\u001b[0;32m    195\u001b[0m         \u001b[1;32mif\u001b[0m \u001b[0mcallable\u001b[0m\u001b[1;33m(\u001b[0m\u001b[0marg\u001b[0m\u001b[1;33m)\u001b[0m\u001b[1;33m:\u001b[0m\u001b[1;33m\u001b[0m\u001b[0m\n",
      "\u001b[1;32m/usr/lib/sagemath/local/lib/python2.7/site-packages/IPython/core/magics/execution.pyc\u001b[0m in \u001b[0;36mtime\u001b[1;34m(self, line, cell, local_ns)\u001b[0m\n\u001b[0;32m   1171\u001b[0m         \u001b[1;32mif\u001b[0m \u001b[0mmode\u001b[0m\u001b[1;33m==\u001b[0m\u001b[1;34m'eval'\u001b[0m\u001b[1;33m:\u001b[0m\u001b[1;33m\u001b[0m\u001b[0m\n\u001b[0;32m   1172\u001b[0m             \u001b[0mst\u001b[0m \u001b[1;33m=\u001b[0m \u001b[0mclock2\u001b[0m\u001b[1;33m(\u001b[0m\u001b[1;33m)\u001b[0m\u001b[1;33m\u001b[0m\u001b[0m\n\u001b[1;32m-> 1173\u001b[1;33m             \u001b[0mout\u001b[0m \u001b[1;33m=\u001b[0m \u001b[0meval\u001b[0m\u001b[1;33m(\u001b[0m\u001b[0mcode\u001b[0m\u001b[1;33m,\u001b[0m \u001b[0mglob\u001b[0m\u001b[1;33m,\u001b[0m \u001b[0mlocal_ns\u001b[0m\u001b[1;33m)\u001b[0m\u001b[1;33m\u001b[0m\u001b[0m\n\u001b[0m\u001b[0;32m   1174\u001b[0m             \u001b[0mend\u001b[0m \u001b[1;33m=\u001b[0m \u001b[0mclock2\u001b[0m\u001b[1;33m(\u001b[0m\u001b[1;33m)\u001b[0m\u001b[1;33m\u001b[0m\u001b[0m\n\u001b[0;32m   1175\u001b[0m         \u001b[1;32melse\u001b[0m\u001b[1;33m:\u001b[0m\u001b[1;33m\u001b[0m\u001b[0m\n",
      "\u001b[1;32m<timed eval>\u001b[0m in \u001b[0;36m<module>\u001b[1;34m()\u001b[0m\n",
      "\u001b[1;32m<ipython-input-275-810a4828582b>\u001b[0m in \u001b[0;36mcomprobador\u001b[1;34m(N)\u001b[0m\n\u001b[0;32m      3\u001b[0m         \u001b[1;32mfor\u001b[0m \u001b[0mk\u001b[0m \u001b[1;32min\u001b[0m \u001b[0mrange\u001b[0m\u001b[1;33m(\u001b[0m\u001b[0mInteger\u001b[0m\u001b[1;33m(\u001b[0m\u001b[1;36m1\u001b[0m\u001b[1;33m)\u001b[0m\u001b[1;33m,\u001b[0m \u001b[0mp\u001b[0m\u001b[1;33m)\u001b[0m\u001b[1;33m:\u001b[0m\u001b[1;33m\u001b[0m\u001b[0m\n\u001b[0;32m      4\u001b[0m             \u001b[1;32mif\u001b[0m\u001b[1;33m(\u001b[0m\u001b[0mcoprimo\u001b[0m\u001b[1;33m(\u001b[0m\u001b[0mp\u001b[0m \u001b[1;33m-\u001b[0m \u001b[0mInteger\u001b[0m\u001b[1;33m(\u001b[0m\u001b[1;36m1\u001b[0m\u001b[1;33m)\u001b[0m\u001b[1;33m,\u001b[0m \u001b[0mk\u001b[0m\u001b[1;33m)\u001b[0m \u001b[1;33m==\u001b[0m \u001b[0mTrue\u001b[0m\u001b[1;33m)\u001b[0m\u001b[1;33m:\u001b[0m\u001b[1;33m\u001b[0m\u001b[0m\n\u001b[1;32m----> 5\u001b[1;33m                 \u001b[1;32mif\u001b[0m\u001b[1;33m(\u001b[0m\u001b[0mraices\u001b[0m\u001b[1;33m(\u001b[0m\u001b[0mp\u001b[0m\u001b[1;33m,\u001b[0m\u001b[0mk\u001b[0m\u001b[1;33m)\u001b[0m \u001b[1;33m==\u001b[0m \u001b[0mFalse\u001b[0m\u001b[1;33m)\u001b[0m\u001b[1;33m:\u001b[0m\u001b[1;33m\u001b[0m\u001b[0m\n\u001b[0m\u001b[0;32m      6\u001b[0m                     \u001b[1;32mprint\u001b[0m\u001b[1;33m(\u001b[0m\u001b[0mp\u001b[0m\u001b[1;33m,\u001b[0m\u001b[0mk\u001b[0m\u001b[1;33m)\u001b[0m\u001b[1;33m\u001b[0m\u001b[0m\n\u001b[0;32m      7\u001b[0m                     \u001b[1;32mreturn\u001b[0m \u001b[0mFalse\u001b[0m\u001b[1;33m\u001b[0m\u001b[0m\n",
      "\u001b[1;32m<ipython-input-233-ed4f2be60acf>\u001b[0m in \u001b[0;36mraices\u001b[1;34m(m, k)\u001b[0m\n\u001b[0;32m      7\u001b[0m         \u001b[1;32mfor\u001b[0m \u001b[0mi\u001b[0m \u001b[1;32min\u001b[0m \u001b[0mrange\u001b[0m\u001b[1;33m(\u001b[0m\u001b[0mInteger\u001b[0m\u001b[1;33m(\u001b[0m\u001b[1;36m0\u001b[0m\u001b[1;33m)\u001b[0m\u001b[1;33m,\u001b[0m \u001b[0mm\u001b[0m\u001b[1;33m)\u001b[0m\u001b[1;33m:\u001b[0m\u001b[1;33m\u001b[0m\u001b[0m\n\u001b[0;32m      8\u001b[0m             \u001b[0ma\u001b[0m \u001b[1;33m=\u001b[0m \u001b[0mR\u001b[0m\u001b[1;33m(\u001b[0m\u001b[0mi\u001b[0m\u001b[1;33m)\u001b[0m\u001b[1;33m\u001b[0m\u001b[0m\n\u001b[1;32m----> 9\u001b[1;33m             \u001b[1;32mif\u001b[0m\u001b[1;33m(\u001b[0m\u001b[1;33m(\u001b[0m\u001b[0ma\u001b[0m \u001b[1;33m**\u001b[0m \u001b[0mk\u001b[0m\u001b[1;33m)\u001b[0m \u001b[1;33m==\u001b[0m \u001b[0mj\u001b[0m\u001b[1;33m)\u001b[0m\u001b[1;33m:\u001b[0m\u001b[1;33m\u001b[0m\u001b[0m\n\u001b[0m\u001b[0;32m     10\u001b[0m                 \u001b[0mS\u001b[0m\u001b[1;33m.\u001b[0m\u001b[0madd\u001b[0m\u001b[1;33m(\u001b[0m\u001b[0mj\u001b[0m\u001b[1;33m)\u001b[0m\u001b[1;33m\u001b[0m\u001b[0m\n\u001b[0;32m     11\u001b[0m     \u001b[1;32mif\u001b[0m\u001b[1;33m(\u001b[0m\u001b[0mlen\u001b[0m\u001b[1;33m(\u001b[0m\u001b[0mS\u001b[0m\u001b[1;33m)\u001b[0m \u001b[1;33m==\u001b[0m \u001b[0mm\u001b[0m\u001b[1;33m)\u001b[0m\u001b[1;33m:\u001b[0m\u001b[1;33m\u001b[0m\u001b[0m\n",
      "\u001b[1;32msrc/cysignals/signals.pyx\u001b[0m in \u001b[0;36mcysignals.signals.python_check_interrupt (build/src/cysignals/signals.c:2438)\u001b[1;34m()\u001b[0m\n",
      "\u001b[1;32msrc/cysignals/signals.pyx\u001b[0m in \u001b[0;36mcysignals.signals.sig_raise_exception (build/src/cysignals/signals.c:1125)\u001b[1;34m()\u001b[0m\n",
      "\u001b[1;31mKeyboardInterrupt\u001b[0m: "
     ]
    }
   ],
   "source": [
    "time comprobador(1000)"
   ]
  },
  {
   "cell_type": "code",
   "execution_count": null,
   "metadata": {
    "collapsed": true
   },
   "outputs": [],
   "source": []
  }
 ],
 "metadata": {
  "kernelspec": {
   "display_name": "SageMath 7.3",
   "language": "",
   "name": "sagemath"
  },
  "language_info": {
   "codemirror_mode": {
    "name": "ipython",
    "version": 2
   },
   "file_extension": ".py",
   "mimetype": "text/x-python",
   "name": "python",
   "nbconvert_exporter": "python",
   "pygments_lexer": "ipython2",
   "version": "2.7.10"
  }
 },
 "nbformat": 4,
 "nbformat_minor": 0
}
